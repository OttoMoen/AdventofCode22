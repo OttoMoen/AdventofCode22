{
  "nbformat": 4,
  "nbformat_minor": 0,
  "metadata": {
    "colab": {
      "provenance": []
    },
    "kernelspec": {
      "name": "python3",
      "display_name": "Python 3"
    },
    "language_info": {
      "name": "python"
    }
  },
  "cells": [
    {
      "cell_type": "markdown",
      "source": [
        "# Advent of Code 2022: Day 25\n",
        "https://adventofcode.com/2022/day/25\n"
      ],
      "metadata": {
        "id": "e7qDcWW3JF8G"
      }
    },
    {
      "cell_type": "markdown",
      "source": [
        "## Part 1\n",
        "Get the sum of all fuel requirements in SNAFU-format."
      ],
      "metadata": {
        "id": "krtSVL3uJOQC"
      }
    },
    {
      "cell_type": "markdown",
      "source": [
        "### Get the data into a list of strings"
      ],
      "metadata": {
        "id": "Jc2_NXw63k49"
      }
    },
    {
      "cell_type": "code",
      "source": [
        "myfile = open('input.txt', 'r')\n",
        "data = myfile.read()\n",
        "data_list = data.split('\\n')\n",
        "# Remove empty value at the bottom of the list.\n",
        "data_list = data_list[:-1]"
      ],
      "metadata": {
        "id": "xQfXHvPiJQrT"
      },
      "execution_count": 1,
      "outputs": []
    },
    {
      "cell_type": "markdown",
      "source": [
        "### Preprocess the data into a list of lists of integers"
      ],
      "metadata": {
        "id": "n7XNL58O8Eby"
      }
    },
    {
      "cell_type": "code",
      "source": [
        "def preprocess_data(data):\n",
        "  \n",
        "  # Setup output list.\n",
        "  output_list = []\n",
        "  for item in data:\n",
        "    \n",
        "    # Get the current string into\n",
        "    # a list and reverse it.\n",
        "    temp = list(item)\n",
        "    temp.reverse()\n",
        "    \n",
        "    # Setup a temporary list\n",
        "    # for the processed input.\n",
        "    processed = []\n",
        "    \n",
        "    # Go through each character,\n",
        "    # if it is a 1 or a 2, append\n",
        "    # an integer version of said \n",
        "    # character to the temporary list.\n",
        "    # If it is a - or = then append\n",
        "    # the corresponding number. \n",
        "    for c in temp:\n",
        "      if c.isdigit():\n",
        "        processed.append(int(c))\n",
        "      elif c == '-':\n",
        "        processed.append(-1)\n",
        "      elif c == '=':\n",
        "        processed.append(-2)\n",
        "    \n",
        "    # Append the processed list\n",
        "    # to the output list.\n",
        "    output_list.append(processed)\n",
        "  \n",
        "  return output_list"
      ],
      "metadata": {
        "id": "Vg6HQ-Us5wMu"
      },
      "execution_count": 2,
      "outputs": []
    },
    {
      "cell_type": "markdown",
      "source": [
        "### Function to count the fuel requirements"
      ],
      "metadata": {
        "id": "EzB_txTuRL5l"
      }
    },
    {
      "cell_type": "code",
      "source": [
        "def count_fuel(data):\n",
        "  \n",
        "  # Preprocess the data and\n",
        "  # setup a sum counter.\n",
        "  data_clean = preprocess_data(data)\n",
        "  sum = 0\n",
        "  \n",
        "  # Go through each list\n",
        "  # in the data. \n",
        "  for row in data_clean:\n",
        "    \n",
        "    # Setup a multiplyer.\n",
        "    mult = 1\n",
        "\n",
        "    # Go through each number\n",
        "    # in the list and add to the\n",
        "    # sum the product of the number\n",
        "    # and the multiplyer. Increment \n",
        "    # the multiplyer by times 5.\n",
        "    for c in row:\n",
        "      sum += c*mult\n",
        "      mult = mult*5\n",
        "  return sum"
      ],
      "metadata": {
        "id": "2LEgVq8J0vz3"
      },
      "execution_count": 3,
      "outputs": []
    },
    {
      "cell_type": "markdown",
      "source": [
        "### Function to convert a number back to SNAFU format"
      ],
      "metadata": {
        "id": "I-gjHf6qRr3K"
      }
    },
    {
      "cell_type": "code",
      "source": [
        "def decimal_to_snafu(x):\n",
        "  \n",
        "  # Get the values from modulo and \n",
        "  # integer division operations.\n",
        "  xmod = x%5\n",
        "  xdiv = x //5\n",
        "  \n",
        "  # Only numbers 0,1,2 correspond to their\n",
        "  # own numbers in the 5-based system which\n",
        "  # SNAFU uses. To get the correct output\n",
        "  # when the modulo operation returns 3 or 4,\n",
        "  # only add the '=' or '-' part, and add 1 \n",
        "  # to the integer division result. This means\n",
        "  # that, for example, instead of a 0, the result \n",
        "  # would be a 1, meaning the recursion takes \n",
        "  # place one additional time and returns a 1,\n",
        "  # which in total gives '1=' or '1-' as intended. \n",
        "  if xmod > 2:\n",
        "    xdiv +=1\n",
        "  \n",
        "  # If the result of the integer division\n",
        "  # is 0, then we have reached the end\n",
        "  # of the recursion.\n",
        "  if xdiv == 0:\n",
        "    return '=-012'[xmod-5+2]\n",
        "  else:\n",
        "    return (decimal_to_snafu(xdiv) + '=-012'[xmod-5+2])"
      ],
      "metadata": {
        "id": "1-V3ODTI2PIf"
      },
      "execution_count": 4,
      "outputs": []
    },
    {
      "cell_type": "code",
      "source": [
        "def get_snafu(data):\n",
        "  dec = count_fuel(data)\n",
        "  return decimal_to_snafu(dec)"
      ],
      "metadata": {
        "id": "azUnJ0Tu1oDV"
      },
      "execution_count": 5,
      "outputs": []
    },
    {
      "cell_type": "code",
      "source": [
        "get_snafu(data_list)"
      ],
      "metadata": {
        "colab": {
          "base_uri": "https://localhost:8080/",
          "height": 35
        },
        "id": "9qPlWj2zPrgx",
        "outputId": "218fd3b0-45a9-4af9-c835-ab1b82eae132"
      },
      "execution_count": 6,
      "outputs": [
        {
          "output_type": "execute_result",
          "data": {
            "text/plain": [
              "'2-0-0=1-0=2====20=-2'"
            ],
            "application/vnd.google.colaboratory.intrinsic+json": {
              "type": "string"
            }
          },
          "metadata": {},
          "execution_count": 6
        }
      ]
    }
  ]
}