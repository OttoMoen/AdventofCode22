{
  "nbformat": 4,
  "nbformat_minor": 0,
  "metadata": {
    "colab": {
      "provenance": []
    },
    "kernelspec": {
      "name": "python3",
      "display_name": "Python 3"
    },
    "language_info": {
      "name": "python"
    }
  },
  "cells": [
    {
      "cell_type": "markdown",
      "source": [
        "# Advent of Code 2022: Day 7\n",
        "https://adventofcode.com/2022/day/7\n"
      ],
      "metadata": {
        "id": "e7qDcWW3JF8G"
      }
    },
    {
      "cell_type": "markdown",
      "source": [
        "## Part 1\n",
        "Find the sum of all directories with a total size of at most 100000"
      ],
      "metadata": {
        "id": "krtSVL3uJOQC"
      }
    },
    {
      "cell_type": "markdown",
      "source": [
        "### Get the data into a list of strings"
      ],
      "metadata": {
        "id": "Jc2_NXw63k49"
      }
    },
    {
      "cell_type": "code",
      "source": [
        "myfile = open('input.txt', 'r')\n",
        "data = myfile.read()\n",
        "data_list = data.split('\\n')\n",
        "# Remove empty value at the bottom of the list\n",
        "data_list = data_list[:-1]"
      ],
      "metadata": {
        "id": "xQfXHvPiJQrT"
      },
      "execution_count": 1,
      "outputs": []
    },
    {
      "cell_type": "markdown",
      "source": [
        "### Transform list into a dictionary"
      ],
      "metadata": {
        "id": "Q_l5wgxatif6"
      }
    },
    {
      "cell_type": "code",
      "source": [
        "# Set up the dictionary and some initial values.\n",
        "# Each key refers a directory, and points to a \n",
        "# list of two lists, where the first list is a \n",
        "# manifest of what directories and files exist \n",
        "# under the current directory, while the second \n",
        "# list refers to the total size of this directory\n",
        "data_dict = {'/': [[],[]]}\n",
        "parent = '/'\n",
        "i = 2\n",
        "p_length = []\n",
        "\n",
        "for item in data_list[2:]:\n",
        "\n",
        "  # If the line is '$ ls' we need to go deeper in\n",
        "  # the filesystem by updating the parent.\n",
        "  # For example, on line 9 in the input, the parent\n",
        "  # will be updated from '/' to '/hdwsmn/'\n",
        "  # Also keep track of the number of characters that\n",
        "  # was added onto the parent string, in the\n",
        "  # p_length list for use in the next part.\n",
        "  if (item == '$ ls'):\n",
        "    parent = parent + data_list[i-1][5:] + '/'\n",
        "    p_length.append(len(data_list[i-1][5:] + '/'))\n",
        "\n",
        "  # If the line is '$ cd ..' we need to go back up\n",
        "  # in the filesystem by updating the parent.\n",
        "  # For example, on line 16 the parent will be updated\n",
        "  # from '/hdwsmn/mrrqnc/' to '/hdwsmn/' by taking the\n",
        "  # most recent value from the p_length list.\n",
        "  elif (item == '$ cd ..'):\n",
        "    parent = parent[:len(parent)-p_length.pop()]\n",
        "\n",
        "  # If the line contains 'cd ' this indicates that we\n",
        "  # are entering a directory for the first time, and so\n",
        "  # we add a new entry in the dictionary, with \n",
        "  # parent + curr_key + '/' as the key.\n",
        "  elif('cd ' in item):\n",
        "    curr_key = item[5:]\n",
        "    data_dict[parent+curr_key+'/'] = [[],[]]\n",
        "  \n",
        "  # If the line contains 'dir ' this indiciates that\n",
        "  # we are looking at a directory inside the current\n",
        "  # parent directory. As such we append parent + item[4:] \n",
        "  # to the manifest list, where item is the string of\n",
        "  # the directory, and the [4:] removes 'dir ' from\n",
        "  # the overall string. \n",
        "  elif('dir ' in item):\n",
        "    data_dict[parent][0].append(parent+item[4:])\n",
        "  \n",
        "  # If none of the above situations are encountered,\n",
        "  # this indicates that the current item is a file\n",
        "  # inside the parent directory. It is appended to\n",
        "  # the list in the same fashion as for a directory,\n",
        "  # but without the need to trim the string.\n",
        "  else:\n",
        "    data_dict[parent][0].append(parent+item)\n",
        "  i +=1"
      ],
      "metadata": {
        "id": "INAUIuudK3t5"
      },
      "execution_count": 2,
      "outputs": []
    },
    {
      "cell_type": "markdown",
      "source": [
        "### Calculate the size of every directory"
      ],
      "metadata": {
        "id": "n7XNL58O8Eby"
      }
    },
    {
      "cell_type": "code",
      "source": [
        "# Function which counts the size of each\n",
        "# directory and stores this in the second\n",
        "# list of each directory.\n",
        "\n",
        "def count_size(dictionary):\n",
        "\n",
        "  # Get the keys and reverse the order. This \n",
        "  # ensures that the calculations are done in\n",
        "  # the correct order, starting from the bottom\n",
        "  # of the filesystem. This way, when a directory\n",
        "  # contains other directories, the internal\n",
        "  # directories will have their sizes calculated first,\n",
        "  # which makes sure there wont be any calls to a\n",
        "  # not-yet-counted size. \n",
        "  keylist = list(dictionary.keys())\n",
        "  keylist.reverse()\n",
        "\n",
        "  for key in keylist:\n",
        "    temp_list = dictionary[key][0]\n",
        "    size = 0\n",
        "    for item in temp_list:\n",
        "\n",
        "      # Split the item on an empty space, which\n",
        "      # in this case will always result in a list\n",
        "      # of either 1 or 2 strings.\n",
        "      split_list = item.split(' ')\n",
        "\n",
        "      # If the list is of length 2, this means the\n",
        "      # item is a file, which means a size must be\n",
        "      # retrieved from the first string.\n",
        "      if len(split_list) == 2:\n",
        "\n",
        "        # Split the string into characters with\n",
        "        # enumerate and find the first digit. This\n",
        "        # requires that folders do not have any\n",
        "        # digits in their name. \n",
        "        num_start = 0\n",
        "        size_string = split_list[0]\n",
        "        for i, c in enumerate(size_string):\n",
        "          if c.isdigit():\n",
        "            num_start = i\n",
        "            break\n",
        "        \n",
        "        # Add the size of the item to the total\n",
        "        size += int(size_string[num_start:])\n",
        "      \n",
        "      # If the length of the list is 1, this means\n",
        "      # the item is a directory. Because of the order\n",
        "      # of the keys, this directory will already have\n",
        "      # had its size calculated. As such the size can\n",
        "      # easily be retrieved. Add '/' to the name to\n",
        "      # correctly match.\n",
        "      elif len(split_list) == 1:\n",
        "        size += dictionary[item+'/'][1][0]\n",
        "    dictionary[key][1].append(size)\n",
        "  return dictionary\n",
        "\n",
        "data_dict = count_size(data_dict)"
      ],
      "metadata": {
        "id": "Vg6HQ-Us5wMu"
      },
      "execution_count": 3,
      "outputs": []
    },
    {
      "cell_type": "code",
      "source": [
        "# Find all dictionaries with a size less \n",
        "# than or equal to a given limit and \n",
        "# return the sum of these dictionaries. \n",
        "def sum_of_sizes(dictionary, limit):\n",
        "    res = 0\n",
        "    for key in dictionary.keys():\n",
        "      size = dictionary[key][1][0]\n",
        "      if(size <= limit):\n",
        "        res += size\n",
        "    return res\n",
        "    \n",
        "sum_of_sizes(data_dict, 100000)"
      ],
      "metadata": {
        "colab": {
          "base_uri": "https://localhost:8080/"
        },
        "id": "OO11OJTfpPns",
        "outputId": "38c38f2f-a988-45b8-9894-a1898d2a4ab1"
      },
      "execution_count": 4,
      "outputs": [
        {
          "output_type": "execute_result",
          "data": {
            "text/plain": [
              "1348005"
            ]
          },
          "metadata": {},
          "execution_count": 4
        }
      ]
    },
    {
      "cell_type": "markdown",
      "source": [
        "## Part 2\n",
        "Find the size of the smallest directory which can be removed to free up enough space"
      ],
      "metadata": {
        "id": "yiKeMv3lJPM_"
      }
    },
    {
      "cell_type": "markdown",
      "source": [
        "### Get the space that must be deleted"
      ],
      "metadata": {
        "id": "2oTXvR2Q8Ax6"
      }
    },
    {
      "cell_type": "code",
      "source": [
        "max_space = 70000000\n",
        "curr_space = data_dict['/'][1][0]\n",
        "free_space = max_space-curr_space\n",
        "needed_space = 30000000\n",
        "must_delete = needed_space - free_space\n",
        "must_delete"
      ],
      "metadata": {
        "id": "yeCl8dInJRPs",
        "colab": {
          "base_uri": "https://localhost:8080/"
        },
        "outputId": "9b590b74-cadd-4680-cead-c0d15d4317e0"
      },
      "execution_count": 5,
      "outputs": [
        {
          "output_type": "execute_result",
          "data": {
            "text/plain": [
              "8690120"
            ]
          },
          "metadata": {},
          "execution_count": 5
        }
      ]
    },
    {
      "cell_type": "markdown",
      "source": [
        "### Find the smallest size"
      ],
      "metadata": {
        "id": "GMc59P5d8EmF"
      }
    },
    {
      "cell_type": "code",
      "source": [
        "# Find all dictionaries with a size greater \n",
        "# than a given limit and return the size of \n",
        "# the smallest of these dictionaries. \n",
        "def find_smallest(dictionary, limit = 0):\n",
        "  candidates = []\n",
        "  for key in dictionary.keys():\n",
        "    size = dictionary[key][1][0]\n",
        "    if size >= limit:\n",
        "      candidates.append(size)\n",
        "  return min(candidates)"
      ],
      "metadata": {
        "id": "gWcLw2DQsYBM"
      },
      "execution_count": 6,
      "outputs": []
    },
    {
      "cell_type": "code",
      "source": [
        "find_smallest(data_dict, must_delete)"
      ],
      "metadata": {
        "colab": {
          "base_uri": "https://localhost:8080/"
        },
        "id": "3-9bpm79tAQs",
        "outputId": "d1407090-83cb-41ed-9f34-1a21aaf4bbb7"
      },
      "execution_count": 7,
      "outputs": [
        {
          "output_type": "execute_result",
          "data": {
            "text/plain": [
              "12785886"
            ]
          },
          "metadata": {},
          "execution_count": 7
        }
      ]
    }
  ]
}