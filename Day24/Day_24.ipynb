{
  "nbformat": 4,
  "nbformat_minor": 0,
  "metadata": {
    "colab": {
      "provenance": []
    },
    "kernelspec": {
      "name": "python3",
      "display_name": "Python 3"
    },
    "language_info": {
      "name": "python"
    }
  },
  "cells": [
    {
      "cell_type": "markdown",
      "source": [
        "# Advent of Code 2022: Day 24\n",
        "https://adventofcode.com/2022/day/24\n"
      ],
      "metadata": {
        "id": "e7qDcWW3JF8G"
      }
    },
    {
      "cell_type": "markdown",
      "source": [
        "## Part 1\n",
        "Get the fewest number of moves required to reached the goal"
      ],
      "metadata": {
        "id": "krtSVL3uJOQC"
      }
    },
    {
      "cell_type": "markdown",
      "source": [
        "### Get the data into a list of strings"
      ],
      "metadata": {
        "id": "Jc2_NXw63k49"
      }
    },
    {
      "cell_type": "code",
      "source": [
        "myfile = open('input.txt', 'r')\n",
        "data = myfile.read()\n",
        "data_list = data.split('\\n')\n",
        "# Remove empty value at the bottom of the list.\n",
        "data_list = data_list[:-1]"
      ],
      "metadata": {
        "id": "xQfXHvPiJQrT"
      },
      "execution_count": 1,
      "outputs": []
    },
    {
      "cell_type": "markdown",
      "source": [
        "### Function to preprocess the data"
      ],
      "metadata": {
        "id": "-E8rUbTldPa7"
      }
    },
    {
      "cell_type": "code",
      "source": [
        "def preprocess_data(data):\n",
        "  \n",
        "  # Setup output list.\n",
        "  output_list = []\n",
        "  \n",
        "  # Go trough the data and append\n",
        "  # each row to the list, excluding\n",
        "  # the first and last characters, as\n",
        "  # these are '#' symbols representing\n",
        "  # the border.  \n",
        "  for item in data:\n",
        "    output_list.append(item[1:-1])\n",
        "  \n",
        "  # Remove the first and last rows\n",
        "  # as these also represent the borders.\n",
        "  del output_list[0]\n",
        "  del output_list[-1]\n",
        "  \n",
        "  return output_list"
      ],
      "metadata": {
        "id": "sZosZ7UzTnqs"
      },
      "execution_count": 2,
      "outputs": []
    },
    {
      "cell_type": "markdown",
      "source": [
        "### Function to check if a position will have a blizzard on it"
      ],
      "metadata": {
        "id": "n7XNL58O8Eby"
      }
    },
    {
      "cell_type": "code",
      "source": [
        "def check_blizzard(blizzard_map, nrows, ncols, pos, step_id):\n",
        "  # Get the x and y coordinates of \n",
        "  # the position and increment the\n",
        "  # step id by 1.\n",
        "  x,y = pos\n",
        "  step_id += 1\n",
        "  \n",
        "  # Check the 4 directions for \n",
        "  # the corresponding symbol.\n",
        "  directions = [\n",
        "      blizzard_map[(x-step_id)%nrows][y] == 'v',\n",
        "      blizzard_map[(x+step_id)%nrows][y] == '^',\n",
        "      blizzard_map[x][(y-step_id)%ncols] == '>',\n",
        "      blizzard_map[x][(y+step_id)%ncols] == '<'\n",
        "  ]\n",
        "\n",
        "  # Return True if none of the\n",
        "  # directions have a blizzard.\n",
        "  return sum(directions) == 0"
      ],
      "metadata": {
        "id": "Vg6HQ-Us5wMu"
      },
      "execution_count": 3,
      "outputs": []
    },
    {
      "cell_type": "markdown",
      "source": [
        "### Function to check if a position is within the map"
      ],
      "metadata": {
        "id": "55ZQ7QMHeakm"
      }
    },
    {
      "cell_type": "code",
      "source": [
        "def in_bounds(nrows, ncols, pos):\n",
        "  \n",
        "  # Get the x and y coordinates \n",
        "  # of the position.\n",
        "  x,y = pos\n",
        "\n",
        "  # Return True if the position \n",
        "  # is within the map.\n",
        "  return 0 <= x < nrows and 0 <= y < ncols"
      ],
      "metadata": {
        "id": "UCOI89gBWnou"
      },
      "execution_count": 4,
      "outputs": []
    },
    {
      "cell_type": "markdown",
      "source": [
        "### Function to get the neighbors for a position"
      ],
      "metadata": {
        "id": "WBNO6eiueiIC"
      }
    },
    {
      "cell_type": "code",
      "source": [
        "def get_neighbors(blizzard_map, nrows, ncols, pos, step_id, start, goal):\n",
        "  \n",
        "  # Get the x and y coordinates \n",
        "  # of the position.\n",
        "  x,y = pos\n",
        "  \n",
        "  # Get the four directions to move\n",
        "  # as well as itself, as staying \n",
        "  # put is a valid move. \n",
        "  neighbors = [\n",
        "      (x,y),\n",
        "      (x-1, y),\n",
        "      (x+1, y),\n",
        "      (x, y-1),\n",
        "      (x, y+1)\n",
        "  ]\n",
        "\n",
        "  # Setup list of \n",
        "  # valid neighbors. \n",
        "  neighbors_valid = []\n",
        "  \n",
        "  # Go through the neighbors.\n",
        "  for n in neighbors:\n",
        "    \n",
        "    # If a neighbor is within the map and will \n",
        "    # not have a blizzard on it, or if it is\n",
        "    # the start or goal, add it to the list\n",
        "    # of valid neighbors. \n",
        "    if (in_bounds(nrows, ncols, n) and check_blizzard(blizzard_map, nrows, ncols, n, step_id)) or n == start or n == goal:\n",
        "      neighbors_valid.append(n)\n",
        "  \n",
        "  return neighbors_valid"
      ],
      "metadata": {
        "id": "XEmIbP7fW4GL"
      },
      "execution_count": 5,
      "outputs": []
    },
    {
      "cell_type": "markdown",
      "source": [
        "### Function to calculate the Manhattan distance between two points"
      ],
      "metadata": {
        "id": "qNcNqnWFfyad"
      }
    },
    {
      "cell_type": "code",
      "source": [
        "def manhattan(a,b):\n",
        "  (x1, y1) = a\n",
        "  (x2, y2) = b\n",
        "  return abs(x1-x2) + abs(y1-y2)"
      ],
      "metadata": {
        "id": "tw_v5ujfZNIZ"
      },
      "execution_count": 6,
      "outputs": []
    },
    {
      "cell_type": "markdown",
      "source": [
        "### Function to find the shortest path between the start and the goal"
      ],
      "metadata": {
        "id": "ILQuVyWOf3ZS"
      }
    },
    {
      "cell_type": "code",
      "source": [
        "import heapq\n",
        "\n",
        "def shortest_path(blizzard_map, nrows, ncols, start, goal, step_id_start = 0):\n",
        "\n",
        "  # Setup a set of visited positions,\n",
        "  # a list of positions to explore. Add\n",
        "  # a tuple of the start position and\n",
        "  # its step id to the queue with a\n",
        "  # priority of 0.\n",
        "  visited = set()\n",
        "  queue = []\n",
        "  heapq.heappush(queue, (0, start, step_id_start))\n",
        "\n",
        "  # While there are positions\n",
        "  # left to explore.\n",
        "  while queue:\n",
        "\n",
        "    # Pop the position with the\n",
        "    # lowest priority. \n",
        "    _, pos, step_id = heapq.heappop(queue)\n",
        "    \n",
        "    # If the position is the goal\n",
        "    # return the number of steps.\n",
        "    if pos == goal:\n",
        "      return step_id\n",
        "    \n",
        "    # If a position and step id combination \n",
        "    # have already been visited, skip it.\n",
        "    if (pos, step_id) in visited:\n",
        "      continue\n",
        "    \n",
        "    # Add the position and step id\n",
        "    # combination to the visited set.\n",
        "    visited.add((pos, step_id))\n",
        "    \n",
        "    # Get the valid neighbors for\n",
        "    # the current position.\n",
        "    neighbors = get_neighbors(blizzard_map, nrows, ncols, pos, step_id, start, goal)\n",
        "    \n",
        "    # For each neighbor, calculate its priority\n",
        "    # as the sum of the step id and its Manhattan \n",
        "    # distance to the goal. Add it to the queue, \n",
        "    # incrementing the step id by 1. \n",
        "    for neighbor in neighbors:\n",
        "      priority = step_id + manhattan(neighbor, goal)\n",
        "      heapq.heappush(queue, (priority, neighbor, step_id+1))"
      ],
      "metadata": {
        "id": "KrvzAJwcZZgL"
      },
      "execution_count": 7,
      "outputs": []
    },
    {
      "cell_type": "code",
      "source": [
        "blizzard_map = preprocess_data(data_list)\n",
        "nrows = len(blizzard_map)\n",
        "ncols = len(blizzard_map[0])\n",
        "start =  (-1,0)\n",
        "goal = (nrows, ncols-1)\n",
        "\n",
        "n_steps = shortest_path(blizzard_map, nrows, ncols, start, goal)\n",
        "n_steps"
      ],
      "metadata": {
        "colab": {
          "base_uri": "https://localhost:8080/"
        },
        "id": "WpWRrDnxbgSI",
        "outputId": "f4d8f993-8865-4d02-b4a9-008d23a09f7d"
      },
      "execution_count": 8,
      "outputs": [
        {
          "output_type": "execute_result",
          "data": {
            "text/plain": [
              "245"
            ]
          },
          "metadata": {},
          "execution_count": 8
        }
      ]
    },
    {
      "cell_type": "markdown",
      "source": [
        "## Part 2\n",
        "Get the fewest number of moves required to reached the goal, go back to the start, and then go to the goal again."
      ],
      "metadata": {
        "id": "yiKeMv3lJPM_"
      }
    },
    {
      "cell_type": "code",
      "source": [
        "n_steps_back = shortest_path(blizzard_map, nrows, ncols, goal, start, n_steps)\n",
        "n_steps_2 = shortest_path(blizzard_map, nrows, ncols, start, goal, n_steps_back)\n",
        "n_steps_2"
      ],
      "metadata": {
        "id": "yeCl8dInJRPs",
        "colab": {
          "base_uri": "https://localhost:8080/"
        },
        "outputId": "218faf46-2cff-46b8-a15f-37b497bdc0f3"
      },
      "execution_count": 9,
      "outputs": [
        {
          "output_type": "execute_result",
          "data": {
            "text/plain": [
              "798"
            ]
          },
          "metadata": {},
          "execution_count": 9
        }
      ]
    }
  ]
}