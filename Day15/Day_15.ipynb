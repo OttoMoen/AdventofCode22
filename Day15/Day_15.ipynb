{
  "nbformat": 4,
  "nbformat_minor": 0,
  "metadata": {
    "colab": {
      "provenance": []
    },
    "kernelspec": {
      "name": "python3",
      "display_name": "Python 3"
    },
    "language_info": {
      "name": "python"
    }
  },
  "cells": [
    {
      "cell_type": "markdown",
      "source": [
        "# Advent of Code 2022: Day 15\n",
        "https://adventofcode.com/2022/day/15\n"
      ],
      "metadata": {
        "id": "e7qDcWW3JF8G"
      }
    },
    {
      "cell_type": "markdown",
      "source": [
        "## Part 1\n",
        "Find how many positions in a row that cannot contain a beacon"
      ],
      "metadata": {
        "id": "krtSVL3uJOQC"
      }
    },
    {
      "cell_type": "markdown",
      "source": [
        "### Get the data into a list of strings"
      ],
      "metadata": {
        "id": "Jc2_NXw63k49"
      }
    },
    {
      "cell_type": "code",
      "source": [
        "myfile = open('input.txt', 'r')\n",
        "data = myfile.read()\n",
        "data_list = data.split('\\n')\n",
        "# Remove empty value at the bottom of the list.\n",
        "data_list = data_list[:-1]"
      ],
      "metadata": {
        "id": "xQfXHvPiJQrT"
      },
      "execution_count": 1,
      "outputs": []
    },
    {
      "cell_type": "markdown",
      "source": [
        "### Function to preprocess the data and return min/max values"
      ],
      "metadata": {
        "id": "saJt5p0z6kL2"
      }
    },
    {
      "cell_type": "code",
      "source": [
        "def preprocess_data(data, return_max=True, return_min = True):\n",
        "  \n",
        "  # Setup the objects that\n",
        "  # will potentially be returned.\n",
        "  output_list = []\n",
        "  max_X = 0\n",
        "  max_Y = 0\n",
        "  min_X = float('inf')\n",
        "  min_Y = float('inf')\n",
        "  \n",
        "\n",
        "  # Go through each line\n",
        "  # in the data.\n",
        "  for item in data:\n",
        "    \n",
        "    # Setup a temporary\n",
        "    # list, where the \n",
        "    # current item will go.\n",
        "    temp_list = []\n",
        "    \n",
        "    # Split the item on ': closest beacon is at '.\n",
        "    split = item.split(': closest beacon is at ')\n",
        "    \n",
        "    # Go through each item\n",
        "    # that this split generated.\n",
        "    for inner_item in split:\n",
        "      \n",
        "      # Setup a temporary list,\n",
        "      # where the current inner\n",
        "      # item will go.\n",
        "      inner_temp_list = []\n",
        "      \n",
        "      # Split the inner item on ','.\n",
        "      inner_split = inner_item.split(',')\n",
        "      \n",
        "      # Go through the two strings that \n",
        "      # this split generated. \n",
        "      i = 0\n",
        "      for inner_inner_item in inner_split:\n",
        "        \n",
        "        # Setup an empty string\n",
        "        curr = \"\"\n",
        "        \n",
        "        # Go through each character in the string\n",
        "        for j in range(len(inner_inner_item)): \n",
        "          t = inner_inner_item[j]\n",
        "          \n",
        "          # If the current character is\n",
        "          # a '-' or a digit, append it\n",
        "          # to the string\n",
        "          if t == '-' or t.isdigit():\n",
        "            curr += t\n",
        "          \n",
        "          # If it is the last character of\n",
        "          # the string, convert it to an \n",
        "          # integer. # Compare it to \n",
        "          # the current max and min values \n",
        "          # and update if needed.\n",
        "          if j == (len(inner_inner_item)-1):\n",
        "            curr = int(curr)\n",
        "            if i == 0:\n",
        "              if curr > max_X:\n",
        "                max_X = curr\n",
        "              if curr < min_X:\n",
        "                min_X = curr\n",
        "              i += 1\n",
        "            elif i == 1:\n",
        "                if curr > max_Y:\n",
        "                  max_Y = curr\n",
        "                if curr < min_Y:\n",
        "                  min_Y = curr\n",
        "                i = 0\n",
        "        \n",
        "            # Append the current number\n",
        "            # to the inner list. \n",
        "            inner_temp_list.append(curr)\n",
        "      \n",
        "      # Append the inner list to\n",
        "      # the temporary list.\n",
        "      temp_list.append(inner_temp_list)\n",
        "    \n",
        "    # Append the temporary list\n",
        "    # to the output list.\n",
        "    output_list.append(temp_list)\n",
        "  \n",
        "\n",
        "  # Return the processed data, and \n",
        "  # potentially the minimum and \n",
        "  # maximum values. \n",
        "  if return_max == True and return_min == True:\n",
        "    return output_list, max_X, max_Y, min_X, min_Y\n",
        "  \n",
        "  elif return_max == True:\n",
        "    return output_list, max_X, max_Y\n",
        "  \n",
        "  elif return_min == True:\n",
        "    return output_list, min_X, min_Y\n",
        "  \n",
        "  else:\n",
        "    return output_list"
      ],
      "metadata": {
        "id": "lkpL0GjlEcde"
      },
      "execution_count": 2,
      "outputs": []
    },
    {
      "cell_type": "markdown",
      "source": [
        "### Function to mark a row"
      ],
      "metadata": {
        "id": "n7XNL58O8Eby"
      }
    },
    {
      "cell_type": "code",
      "source": [
        "def mark_map(target_row, item, max_Y, test_row, min_X):\n",
        "  # Get the position of the scanner\n",
        "  # and the beacon. Shift the x\n",
        "  # coordinate to the right by the\n",
        "  # minimum X value. \n",
        "  s_x = item[0][0] + abs(min_X)\n",
        "  s_y = item[0][1]\n",
        "  b_x = item[1][0] + abs(min_X)\n",
        "  b_y = item[1][1]\n",
        "\n",
        "  # If the row should contain\n",
        "  # a sensor or a beacon, mark it.\n",
        "  if s_y== test_row:\n",
        "      target_row[s_x] = \"S\"\n",
        "  if b_y== test_row:\n",
        "    target_row[b_x] = \"B\"\n",
        "\n",
        "  # Get the distance from the \n",
        "  # sensor to the beacon\n",
        "  dist = abs(s_x-b_x)+abs(s_y-b_y)\n",
        "\n",
        "  # Go through the target row. Calculate\n",
        "  # the distance to the sensor and \n",
        "  # mark with a '#' if the distance\n",
        "  # is smaller than the distance\n",
        "  # to the beacon. \n",
        "  for col in range(len(target_row)):\n",
        "    curr_dist = abs(s_x-col) + abs(s_y-test_row)\n",
        "    if curr_dist <= dist:\n",
        "      if target_row[col] == '.':\n",
        "        target_row[col] = \"#\"\n",
        "  \n",
        "  return target_row"
      ],
      "metadata": {
        "id": "W-CH_F9EuLcg"
      },
      "execution_count": 3,
      "outputs": []
    },
    {
      "cell_type": "markdown",
      "source": [
        "### Function to mark a row for every item in the data"
      ],
      "metadata": {
        "id": "E9o4_esK7Xf4"
      }
    },
    {
      "cell_type": "code",
      "source": [
        "def mark_row(data,test_row, max_Y, min_X, target_row):\n",
        "  for item in data:\n",
        "    target_row = mark_map(target_row, item, max_Y, test_row, min_X)\n",
        "  return target_row"
      ],
      "metadata": {
        "id": "kFlGZFWvkmY4"
      },
      "execution_count": 4,
      "outputs": []
    },
    {
      "cell_type": "markdown",
      "source": [
        "### Function to check how many positions in a given row that cannot contain a beacon"
      ],
      "metadata": {
        "id": "MnGipNxW7cZA"
      }
    },
    {
      "cell_type": "code",
      "source": [
        "def check_row(data,test_row):\n",
        "  # Preprocess the data and get min/max values\n",
        "  data_clean, max_X, max_Y, min_X, min_Y = preprocess_data(data)\n",
        "  \n",
        "  # Setup the target row, make it X*2 long for safety\n",
        "  target_row = ['.' for y in range(max_X*2)]\n",
        "  \n",
        "  # Mark the row\n",
        "  target_row = mark_row(data_clean, test_row, max_Y, min_X, target_row)\n",
        "\n",
        "  # Count how many positions contain\n",
        "  # a '#' or a 'S'\n",
        "  pos_count = 0\n",
        "  for col in target_row:\n",
        "    if col == \"#\" or col == \"S\":\n",
        "      pos_count += 1\n",
        "  return pos_count"
      ],
      "metadata": {
        "id": "WY7sDcT03HZm"
      },
      "execution_count": 5,
      "outputs": []
    },
    {
      "cell_type": "code",
      "source": [
        "check_row(data_list, 2000000)"
      ],
      "metadata": {
        "colab": {
          "base_uri": "https://localhost:8080/"
        },
        "id": "WfTgE37Ml5TX",
        "outputId": "f31c3d35-c415-4955-897e-6be5f1a3b685"
      },
      "execution_count": 6,
      "outputs": [
        {
          "output_type": "execute_result",
          "data": {
            "text/plain": [
              "4424278"
            ]
          },
          "metadata": {},
          "execution_count": 6
        }
      ]
    },
    {
      "cell_type": "markdown",
      "source": [
        "## Part 2\n",
        "Find the only location that could have a beacon with x and y\n",
        "coordinates between 0 and 4.000.000.\n",
        "\n",
        "Solution by user: i_have_no_biscuits: \n",
        "\n",
        "https://www.reddit.com/r/adventofcode/comments/zmcn64/comment/j0b90nr/?utm_source=share&utm_medium=web2x&context=3\n",
        "\n",
        "\n",
        "The shape of the area that the scanner covers can be described\n",
        "  as a rhombus, i.e. a shape with\n",
        "  4 sides. A side can be represented\n",
        "  by a diagonal line. Going left to \n",
        "  right in the coordinate space, two\n",
        "  of the lines will have a slope (gradient)\n",
        "  of +1 \n",
        "  \n",
        "  y = x + sy-sx+r+1\n",
        "\n",
        "  y = x + sy-sx-r-1\n",
        "\n",
        "  and two will have a slope of -1\n",
        "\n",
        "  y = -x + sx+sy+r+1\n",
        "\n",
        "  y = -x + sx+sy-r-1\n",
        "\n",
        "  where the sx and sy stand for the\n",
        "  scanner positions. The user calls the second part of these equations, for example (sy-sx+r+1) for the first equation, the coefficients of the lines, while in fact they are the intercepts. Regardless, to find where two lines (x+a) and (-x+b) intercect, find the point ((b-a)/2 , (a+b)/2). One of these intercection points will be the only location where a beacon can exist, so calculate the pairwise intersection between all (x+a) lines and (-x+b) lines until one is found to be outside the radius of every scanner. \n",
        "\n"
      ],
      "metadata": {
        "id": "yiKeMv3lJPM_"
      }
    },
    {
      "cell_type": "code",
      "source": [
        "def find_frequency(data, max_value):\n",
        "  # Preprocess the data, no need\n",
        "  # for any minimum or maxmimum values\n",
        "  data_clean = preprocess_data(data, return_max=False, return_min=False)\n",
        "\n",
        "  # Setup a dictionary which will store \n",
        "  # the radius of every sensor, using \n",
        "  # the sensors coordinates as the key.\n",
        "  radius = {}\n",
        "  for item in data_clean:\n",
        "    s_x = item[0][0]\n",
        "    s_y = item[0][1]\n",
        "    b_x = item[1][0]\n",
        "    b_y = item[1][1]\n",
        "    radius[(s_x, s_y)] = abs(s_x-b_x)+abs(s_y-b_y)\n",
        "  \n",
        "  # Get the scanner coordinates\n",
        "  scanners = radius.keys()\n",
        "\n",
        "  # Setup sets to contain what the\n",
        "  # user calls \"coefficients\" for \n",
        "  # the 4 lines. Based on the equations\n",
        "  # they should probably be labeled \n",
        "  # as intercepts. \n",
        "  acoeffs, bcoeffs = set(), set()\n",
        "\n",
        "  # Fill the sets with the \"coefficients\"\n",
        "  for((x,y), r) in radius.items():\n",
        "    acoeffs.add(y-x+r+1)\n",
        "    acoeffs.add(y-x-r-1)\n",
        "    bcoeffs.add(x+y+r+1)\n",
        "    bcoeffs.add(x+y-r-1)\n",
        "  \n",
        "  # Check the intercetions\n",
        "  # for each pair of a\n",
        "  # and b lines. \n",
        "  for a in acoeffs:\n",
        "    for b in bcoeffs:\n",
        "      p = ((b-a)//2, (a+b)//2)\n",
        "      if all(0<c<max_value for c in p):\n",
        "        if all((abs(p[0]-t[0])+abs(p[1]-t[1]))>radius[t] for t in scanners):\n",
        "          return (max_value*p[0])+p[1]"
      ],
      "metadata": {
        "id": "ofENq7UROda_"
      },
      "execution_count": 7,
      "outputs": []
    },
    {
      "cell_type": "code",
      "source": [
        "find_frequency(data_list, 4000000)"
      ],
      "metadata": {
        "colab": {
          "base_uri": "https://localhost:8080/"
        },
        "id": "Gvj7pyuq6zQ3",
        "outputId": "f98cf1c2-ce1d-47d0-f223-bcd38e477fc2"
      },
      "execution_count": 8,
      "outputs": [
        {
          "output_type": "execute_result",
          "data": {
            "text/plain": [
              "10382630753392"
            ]
          },
          "metadata": {},
          "execution_count": 8
        }
      ]
    }
  ]
}