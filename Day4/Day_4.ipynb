{
  "nbformat": 4,
  "nbformat_minor": 0,
  "metadata": {
    "colab": {
      "provenance": []
    },
    "kernelspec": {
      "name": "python3",
      "display_name": "Python 3"
    },
    "language_info": {
      "name": "python"
    }
  },
  "cells": [
    {
      "cell_type": "markdown",
      "source": [
        "# Advent of Code 2022: Day 4\n",
        "https://adventofcode.com/2022/day/4\n"
      ],
      "metadata": {
        "id": "e7qDcWW3JF8G"
      }
    },
    {
      "cell_type": "markdown",
      "source": [
        "## Part 1\n",
        "Find pairs of ranges where one range fully contains the other"
      ],
      "metadata": {
        "id": "krtSVL3uJOQC"
      }
    },
    {
      "cell_type": "markdown",
      "source": [
        "### Get the data into a list of strings"
      ],
      "metadata": {
        "id": "Jc2_NXw63k49"
      }
    },
    {
      "cell_type": "code",
      "source": [
        "myfile = open('input.txt', 'r')\n",
        "data = myfile.read()\n",
        "data_list = data.split('\\n')  # One observation: '33-62,26-62'"
      ],
      "metadata": {
        "id": "xQfXHvPiJQrT"
      },
      "execution_count": 27,
      "outputs": []
    },
    {
      "cell_type": "markdown",
      "source": [
        "### Get a new list, with the strings split on the comma"
      ],
      "metadata": {
        "id": "n7XNL58O8Eby"
      }
    },
    {
      "cell_type": "code",
      "source": [
        "data_lists = []\n",
        "for i in data_list:\n",
        "  data_lists.append(i.split(',')) # One observation: ['33-62', '26-62']"
      ],
      "metadata": {
        "id": "Vg6HQ-Us5wMu"
      },
      "execution_count": 28,
      "outputs": []
    },
    {
      "cell_type": "markdown",
      "source": [
        "### Extract integers and compare lower and upper bounds to see if the pairs overlap"
      ],
      "metadata": {
        "id": "jboptDUgiHXr"
      }
    },
    {
      "cell_type": "code",
      "source": [
        "result = 0\n",
        "for pair in data_lists:\n",
        "  range1 = pair[0].split('-') # One observation: ['33', '62']\n",
        "  range2 = pair[1].split('-') # One observation: ['26', '62']\n",
        "\n",
        "  l1 = int(range1[0]) # One observation: 33\n",
        "  u1 = int(range1[1]) # One observation: 62\n",
        "  l2 = int(range2[0]) # One observation: 26\n",
        "  u2 = int(range2[1]) # One observation: 62\n",
        "\n",
        "  if (l1 <= l2) and (u1 >= u2):   # l1 ... l2 ... u2 ... u1 \n",
        "    result += 1\n",
        "  elif (l2 <= l1) and (u2 >= u1): # l2 ... l1 ... u1 ... u2\n",
        "    result += 1\n",
        "result"
      ],
      "metadata": {
        "colab": {
          "base_uri": "https://localhost:8080/"
        },
        "id": "vHWkfnvpflzb",
        "outputId": "f2d76d41-5c98-4ded-e7ea-ecee61ad300a"
      },
      "execution_count": 30,
      "outputs": [
        {
          "output_type": "execute_result",
          "data": {
            "text/plain": [
              "588"
            ]
          },
          "metadata": {},
          "execution_count": 30
        }
      ]
    },
    {
      "cell_type": "markdown",
      "source": [
        "## Part 2\n",
        "Find pairs of ranges where one range overlaps with another"
      ],
      "metadata": {
        "id": "yiKeMv3lJPM_"
      }
    },
    {
      "cell_type": "code",
      "source": [
        "result2 = 0\n",
        "for pair in data_lists:\n",
        "  range1 = pair[0].split('-')\n",
        "  range2 = pair[1].split('-')\n",
        "\n",
        "  l1 = int(range1[0])\n",
        "  u1 = int(range1[1])\n",
        "  l2 = int(range2[0])\n",
        "  u2 = int(range2[1])\n",
        "\n",
        "  if (l1 <= l2) and (u1 >= l2):   # l1 ... l2 ... u1\n",
        "    result2 += 1\n",
        "  elif (l1 >= l2) and (l1 <= u2): # l2 ... l1 ... u2\n",
        "    result2 += 1\n",
        "result2"
      ],
      "metadata": {
        "id": "yeCl8dInJRPs",
        "colab": {
          "base_uri": "https://localhost:8080/"
        },
        "outputId": "61436304-5be8-402f-c1ad-46fdaeab8521"
      },
      "execution_count": 31,
      "outputs": [
        {
          "output_type": "execute_result",
          "data": {
            "text/plain": [
              "911"
            ]
          },
          "metadata": {},
          "execution_count": 31
        }
      ]
    }
  ]
}