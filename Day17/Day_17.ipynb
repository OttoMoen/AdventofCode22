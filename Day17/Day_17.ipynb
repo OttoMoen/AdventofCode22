{
  "nbformat": 4,
  "nbformat_minor": 0,
  "metadata": {
    "colab": {
      "provenance": []
    },
    "kernelspec": {
      "name": "python3",
      "display_name": "Python 3"
    },
    "language_info": {
      "name": "python"
    }
  },
  "cells": [
    {
      "cell_type": "markdown",
      "source": [
        "# Advent of Code 2022: Day 17\n",
        "https://adventofcode.com/2022/day/17\n"
      ],
      "metadata": {
        "id": "e7qDcWW3JF8G"
      }
    },
    {
      "cell_type": "markdown",
      "source": [
        "## Part 1\n",
        "Calculate the height of a tower after dropping 2022 blocks.\n"
      ],
      "metadata": {
        "id": "krtSVL3uJOQC"
      }
    },
    {
      "cell_type": "markdown",
      "source": [
        "Get the data into a list of strings"
      ],
      "metadata": {
        "id": "Jc2_NXw63k49"
      }
    },
    {
      "cell_type": "code",
      "source": [
        "myfile = open('input.txt', 'r')\n",
        "data = myfile.read()\n",
        "data_list = data.split('\\n')\n",
        "# Remove empty value at the bottom of the list.\n",
        "data_list = data_list[:-1]"
      ],
      "metadata": {
        "id": "xQfXHvPiJQrT"
      },
      "execution_count": 3,
      "outputs": []
    },
    {
      "cell_type": "markdown",
      "source": [
        "### Get the list of moves, and create a list of rock shapes"
      ],
      "metadata": {
        "id": "Q_GtDFKheF6P"
      }
    },
    {
      "cell_type": "code",
      "source": [
        "move_list = list(data_list[0])"
      ],
      "metadata": {
        "id": "xH6gxjm9x-JG"
      },
      "execution_count": 4,
      "outputs": []
    },
    {
      "cell_type": "code",
      "source": [
        "rock_shapes = ['-', '+', 'J', 'l', 'D']"
      ],
      "metadata": {
        "id": "mM7a8cupyJ-y"
      },
      "execution_count": 5,
      "outputs": []
    },
    {
      "cell_type": "markdown",
      "source": [
        "### Function to drop a block"
      ],
      "metadata": {
        "id": "n7XNL58O8Eby"
      }
    },
    {
      "cell_type": "code",
      "source": [
        "def drop_block(board, block, move_list, heights, max_height, pat=0, find_pattern=False):\n",
        "  \n",
        "  # Get the desired height of the board\n",
        "  # based on the current max height. \n",
        "  # Insert empty rows at the top of \n",
        "  # the board until the board is \n",
        "  # h+3 tall, to account for \n",
        "  # the tallest possible rock shape.\n",
        "  h = max_height +4 \n",
        "  while len(board) < h+3:\n",
        "    board.insert(0, ['.','.','.','.','.','.','.'])\n",
        "  \n",
        "  # Setup a list of coordinates as the\n",
        "  # initial position of a block depending\n",
        "  # on the provided shape.\n",
        "  if block == '-':\n",
        "    pos = [[h, 2], [h,3], [h,4], [h,5]]\n",
        "  elif block == '+':\n",
        "    pos = [[h+1, 2], [h,3], [h+2, 3], [h+1, 4]]\n",
        "  elif block == 'J':\n",
        "    pos = [[h,2], [h,3], [h,4], [h+1, 4], [h+2, 4]]\n",
        "  elif block == 'l':\n",
        "    pos = [[h, 2], [h+1, 2], [h+2, 2], [h+3, 2]]\n",
        "  elif block == 'D':\n",
        "    pos = [[h,2], [h,3], [h+1,2], [h+1,3]]\n",
        "  \n",
        "  # Setup a counter for dropping blocks\n",
        "  # and a counter for the pattern checking\n",
        "  # if turned on.\n",
        "  i = 0\n",
        "  pat = pat\n",
        "  \n",
        "  # While a block can still move\n",
        "  # execute moves if i is an odd\n",
        "  # number and drop it down one\n",
        "  # level if i is an even number.\n",
        "  while True:\n",
        "    i += 1\n",
        "    if i % 2 != 0:\n",
        "      \n",
        "      # Add to the pattern\n",
        "      # counter if turned on.\n",
        "      if find_pattern==True:\n",
        "        pat +=1\n",
        "      \n",
        "      # Get the current move and put \n",
        "      # it at the back of the move list.\n",
        "      curr_move = move_list.pop(0)\n",
        "      move_list.append(curr_move)\n",
        "\n",
        "      # Based on which move to carry out,\n",
        "      # initialize it to a valid move and\n",
        "      # perform two checks for each position\n",
        "      # of a block: if a move in this direction\n",
        "      # would put it outside the board, or if\n",
        "      # there is already something in the\n",
        "      # position where it tries to move. \n",
        "      # If either of these cases, set valid\n",
        "      # to false and break the loop. If every\n",
        "      # position passed the check, carry out\n",
        "      # the move.\n",
        "      if curr_move == '<':\n",
        "        valid = True\n",
        "        for p in pos:\n",
        "          if p[1]-1 < 0 or board[len(board)-p[0]][p[1]-1] != '.':\n",
        "            valid = False\n",
        "            break\n",
        "\n",
        "        if valid == True:\n",
        "          for p in range(len(pos)):\n",
        "            pos[p][1] -=1\n",
        "\n",
        "      elif curr_move == '>':\n",
        "        valid = True\n",
        "        for p in pos:\n",
        "          if p[1]+1 > 6 or board[len(board)-p[0]][p[1]+1] != '.':\n",
        "            valid = False\n",
        "            break        \n",
        "\n",
        "        if valid == True:\n",
        "          for p in range(len(pos)):\n",
        "            pos[p][1] +=1\n",
        "    \n",
        "    # For a downward move, there are likewise\n",
        "    # two checks to perform for each position:\n",
        "    # if a block is already at the bottom of\n",
        "    # the board, or if there is already\n",
        "    # something below the block.\n",
        "    elif i % 2 == 0:\n",
        "      valid = True\n",
        "      for p in pos:\n",
        "        if p[0]-1 <= 0:\n",
        "          valid = False\n",
        "          break\n",
        "        elif board[len(board)-p[0]+1][p[1]] != '.':\n",
        "          valid = False\n",
        "          break\n",
        "\n",
        "      # Similarly to the moves, if every check \n",
        "      # passed, the block is allowed to fall by\n",
        "      # one level. However, if a the move is not \n",
        "      # valid, this means the block should stop.\n",
        "      # If this is the case, we go through each\n",
        "      # position of the block and update a list\n",
        "      # that holds the maximum height for every\n",
        "      # column. The board is also updated by\n",
        "      # setting each position of the block to '#'.\n",
        "      # Finally, the function returns the updated\n",
        "      # heights list, board and pattern if turned on.   \n",
        "      if valid == True:\n",
        "        for p in range(len(pos)):\n",
        "          pos[p][0] -=1\n",
        "      elif valid == False:\n",
        "        for p in pos:\n",
        "          if p[0] > heights[p[1]]:\n",
        "            heights[p[1]] = p[0]\n",
        "          board[len(board)-p[0]][p[1]] = '#'\n",
        "        \n",
        "        if find_pattern==True:\n",
        "          return heights, board, pat\n",
        "        return heights, board      "
      ],
      "metadata": {
        "id": "xJtgLO00z9U1"
      },
      "execution_count": 6,
      "outputs": []
    },
    {
      "cell_type": "markdown",
      "source": [
        "### Function to count the height of a tower of blocks."
      ],
      "metadata": {
        "id": "Udfs3WQthT4c"
      }
    },
    {
      "cell_type": "code",
      "source": [
        "def count_height(n_rocks, find_pattern = False):\n",
        "  \n",
        "  # Initialize the rock shapes and move list\n",
        "  # to ensure that the result is always the same.\n",
        "  # Also setup the board and heights list.\n",
        "  rock_shapes = ['-', '+', 'J', 'l', 'D']\n",
        "  move_list = list(data_list[0])\n",
        "  board = [['.' for i in range(7)]]\n",
        "  heights = [0 for i in range(7)]\n",
        "  \n",
        "  # If we should not look for a pattern, then \n",
        "  # loop for the amount of rocks that should be \n",
        "  # dropped and return the maximum height.\n",
        "  if find_pattern == False:\n",
        "    for i in range(n_rocks):\n",
        "      block = rock_shapes.pop(0)\n",
        "      rock_shapes.append(block)\n",
        "      heights, board = drop_block(board, block, move_list, heights, max(heights))\n",
        "    return max(heights)\n",
        "  \n",
        "  # If the function should look for a pattern, \n",
        "  # then initialize the pattern list, current \n",
        "  # pattern, and two variables for storing\n",
        "  # the previous values of i and the heights list.\n",
        "  elif find_pattern == True:\n",
        "    pattern_list = []\n",
        "    pat = 0\n",
        "    last_i = 0\n",
        "    last_h = [0,0,0,0,0,0,0]\n",
        "    \n",
        "    # Start by going through the entire\n",
        "    # move list and drop that number of blocks. \n",
        "    for i in range(len(move_list)):\n",
        "      block = rock_shapes.pop(0)\n",
        "      rock_shapes.append(block)\n",
        "      heights, board, pat = drop_block(board, block, move_list, heights, max(heights), pat, find_pattern)\n",
        "\n",
        "      # If the pattern counter is equal to or\n",
        "      # greater than the length of the move list,\n",
        "      # then get a copy of the current height list\n",
        "      # and calculate the difference in height\n",
        "      # between now and the last time a pattern was \n",
        "      # encountered. Append this list of differences\n",
        "      # to the pattern list, along with the current\n",
        "      # pattern counter and the difference in i.\n",
        "      # Finally reset the pattern counter to 0, and\n",
        "      # update the last_i and last_h.\n",
        "      if pat-len(move_list) >= 0:\n",
        "        h = heights.copy()\n",
        "        h_diff = []\n",
        "        for he in range(len(h)):\n",
        "          h_diff.append(h[he] - last_h[he])\n",
        "        pattern_list.append([h_diff, pat, i-last_i])\n",
        "        pat = 0\n",
        "        last_i = i\n",
        "        last_h = h\n",
        "\n",
        "    # With the pattern found, reset the list of\n",
        "    # rock shapes, list of moves, board, and list\n",
        "    # of heights. As the first iteration of the \n",
        "    # pattern differs from the rest, start by dropping\n",
        "    # blocks for that number of blocks + the number of\n",
        "    # blocks for the first of the regular patterns that\n",
        "    # follow. The reason for this is that after the unique\n",
        "    # pattern the list of rock shapes and moves have not\n",
        "    # looped back around to their initial states. \n",
        "    rock_shapes = ['-', '+', 'J', 'l', 'D']\n",
        "    move_list = list(data_list[0])\n",
        "    board = [['.' for i in range(7)]]\n",
        "    heights = [0 for i in range(7)]\n",
        "    for i in range(pattern_list[0][2]+pattern_list[1][2]):\n",
        "      block = rock_shapes.pop(0)\n",
        "      rock_shapes.append(block)\n",
        "      heights, board = drop_block(board, block, move_list, heights, max(heights))\n",
        "\n",
        "    # Calculate the pattern count as the number of rocks\n",
        "    # to be dropped, minus the number of blocks in the initial \n",
        "    # unique pattern, divided by the number of blocks in the regular\n",
        "    # pattern. Subtract by 1 to account for already doing one regular\n",
        "    # pattern.  \n",
        "    pattern_count = ((n_rocks - pattern_list[0][2]) // pattern_list[1][2])-1\n",
        "    \n",
        "    # As the number of rocks is not divisible by the pattern length,\n",
        "    # a number of blocks still have to be dropped after the final pattern.\n",
        "    # Calculate this number and drop that amount of blocks.\n",
        "    for i in range(n_rocks-(((pattern_count+1)*pattern_list[1][2])+pattern_list[0][2])):\n",
        "      block = rock_shapes.pop(0)\n",
        "      rock_shapes.append(block)\n",
        "      heights, board = drop_block(board, block, move_list, heights, max(heights))\n",
        "    \n",
        "    # Finally, take the heights and add on for each column add the\n",
        "    # height for the the pattern count to simulate dropping these blocks.\n",
        "    for h in range(len(heights)):\n",
        "      heights[h] = heights[h] + (pattern_list[1][0][0]*pattern_count)\n",
        "   \n",
        "      \n",
        "    return max(heights)"
      ],
      "metadata": {
        "id": "tvaOxFnILoZc"
      },
      "execution_count": 7,
      "outputs": []
    },
    {
      "cell_type": "code",
      "source": [
        "count_height(2022)"
      ],
      "metadata": {
        "colab": {
          "base_uri": "https://localhost:8080/"
        },
        "id": "XlCyGKPSMRTe",
        "outputId": "7cdceff3-49eb-46c9-9f1f-ba017d48b5e3"
      },
      "execution_count": 8,
      "outputs": [
        {
          "output_type": "execute_result",
          "data": {
            "text/plain": [
              "3163"
            ]
          },
          "metadata": {},
          "execution_count": 8
        }
      ]
    },
    {
      "cell_type": "markdown",
      "source": [
        "## Part 2\n"
      ],
      "metadata": {
        "id": "yiKeMv3lJPM_"
      }
    },
    {
      "cell_type": "code",
      "source": [
        "count_height(1000000000000, True)"
      ],
      "metadata": {
        "colab": {
          "base_uri": "https://localhost:8080/"
        },
        "id": "YNPtOa_eBIqL",
        "outputId": "1809787e-7249-4979-d1b1-b68d00c5632e"
      },
      "execution_count": 9,
      "outputs": [
        {
          "output_type": "execute_result",
          "data": {
            "text/plain": [
              "1560932944615"
            ]
          },
          "metadata": {},
          "execution_count": 9
        }
      ]
    }
  ]
}