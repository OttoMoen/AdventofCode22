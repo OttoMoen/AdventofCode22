{
  "nbformat": 4,
  "nbformat_minor": 0,
  "metadata": {
    "colab": {
      "provenance": []
    },
    "kernelspec": {
      "name": "python3",
      "display_name": "Python 3"
    },
    "language_info": {
      "name": "python"
    }
  },
  "cells": [
    {
      "cell_type": "markdown",
      "source": [
        "# Advent of Code 2022: Day 1"
      ],
      "metadata": {
        "id": "o-tNSVNuvVMb"
      }
    },
    {
      "cell_type": "markdown",
      "source": [
        "## Part 1\n",
        "Find the amount of calories carried by the elf which is carrying the most amount of calories."
      ],
      "metadata": {
        "id": "HRH2W_Oex_I8"
      }
    },
    {
      "cell_type": "markdown",
      "source": [
        "### Get the data into a list of strings"
      ],
      "metadata": {
        "id": "sTS_qGN4vfcK"
      }
    },
    {
      "cell_type": "code",
      "execution_count": 35,
      "metadata": {
        "id": "ZvJTK9GRqIQ6"
      },
      "outputs": [],
      "source": [
        "myfile = open('input.txt', 'r')\n",
        "data = myfile.read()"
      ]
    },
    {
      "cell_type": "code",
      "source": [
        "data_list = data.replace('\\n', ' ').split(\" \")\n",
        "#print(data_list)"
      ],
      "metadata": {
        "id": "v1fazA76saEk"
      },
      "execution_count": 36,
      "outputs": []
    },
    {
      "cell_type": "markdown",
      "source": [
        "### Loop over the list, summing up the numbers. \n",
        "When encountering an empty string, ' ' , append the current sum to the result list and reset the sum to 0. "
      ],
      "metadata": {
        "id": "-Yg-oXirvpPq"
      }
    },
    {
      "cell_type": "code",
      "source": [
        "result = []\n",
        "temp = 0\n",
        "for i in range(len(data_list)):\n",
        "  cur = data_list[i]\n",
        "  if(cur != ''):\n",
        "    temp = temp + int(cur)\n",
        "  else:\n",
        "    result.append(temp)\n",
        "    temp = 0"
      ],
      "metadata": {
        "id": "M0Y3eX8HtQGw"
      },
      "execution_count": 38,
      "outputs": []
    },
    {
      "cell_type": "markdown",
      "source": [
        "### Find the maximum value"
      ],
      "metadata": {
        "id": "WMfCgbNbxEx0"
      }
    },
    {
      "cell_type": "code",
      "source": [
        "max_item = max(result)\n",
        "print(f'The elf with the most calories is carrying {max_item} calories. ')"
      ],
      "metadata": {
        "colab": {
          "base_uri": "https://localhost:8080/"
        },
        "id": "WK5BZ-rlvBTM",
        "outputId": "ac3370d1-5023-4323-aee6-b39d69ccaeac"
      },
      "execution_count": 39,
      "outputs": [
        {
          "output_type": "stream",
          "name": "stdout",
          "text": [
            "The elf with the most calories is carrying 69310 calories. \n"
          ]
        }
      ]
    },
    {
      "cell_type": "markdown",
      "source": [
        "## Part 2\n",
        "Find the number of calories carried by the three elves carrying the most calories. "
      ],
      "metadata": {
        "id": "h9HsQd-AyDdl"
      }
    },
    {
      "cell_type": "markdown",
      "source": [
        "Sort the result list in reverse order and take a slice of the first three items. Get the sum of these items."
      ],
      "metadata": {
        "id": "seSRXSBqzTPd"
      }
    },
    {
      "cell_type": "code",
      "source": [
        "sum(sorted(result, reverse=True)[:3])"
      ],
      "metadata": {
        "colab": {
          "base_uri": "https://localhost:8080/"
        },
        "id": "C64Y-_kzyFwu",
        "outputId": "dcf34142-58a3-4c1f-e07a-4a8c35619ec4"
      },
      "execution_count": 41,
      "outputs": [
        {
          "output_type": "execute_result",
          "data": {
            "text/plain": [
              "206104"
            ]
          },
          "metadata": {},
          "execution_count": 41
        }
      ]
    }
  ]
}