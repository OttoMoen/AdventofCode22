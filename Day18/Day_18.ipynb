{
  "nbformat": 4,
  "nbformat_minor": 0,
  "metadata": {
    "colab": {
      "provenance": []
    },
    "kernelspec": {
      "name": "python3",
      "display_name": "Python 3"
    },
    "language_info": {
      "name": "python"
    }
  },
  "cells": [
    {
      "cell_type": "markdown",
      "source": [
        "# Advent of Code 2022: Day 18\n",
        "https://adventofcode.com/2022/day/18\n"
      ],
      "metadata": {
        "id": "e7qDcWW3JF8G"
      }
    },
    {
      "cell_type": "markdown",
      "source": [
        "## Part 1\n",
        "Calculate the number of exposed sides on a 3d object made of 1x1x1 cubes with coordinates x,y,z."
      ],
      "metadata": {
        "id": "krtSVL3uJOQC"
      }
    },
    {
      "cell_type": "markdown",
      "source": [
        "### Get the data into a list of strings"
      ],
      "metadata": {
        "id": "Jc2_NXw63k49"
      }
    },
    {
      "cell_type": "code",
      "source": [
        "myfile = open('input.txt', 'r')\n",
        "data = myfile.read()\n",
        "data_list = data.split('\\n')\n",
        "# Remove empty value at the bottom of the list.\n",
        "data_list = data_list[:-1]"
      ],
      "metadata": {
        "id": "xQfXHvPiJQrT"
      },
      "execution_count": null,
      "outputs": []
    },
    {
      "cell_type": "markdown",
      "source": [
        "### Function to preprocess the data"
      ],
      "metadata": {
        "id": "n7XNL58O8Eby"
      }
    },
    {
      "cell_type": "code",
      "source": [
        "def preprocess_data(data):\n",
        "  \n",
        "  # Setup the list and dictionary\n",
        "  # to output. \n",
        "  output_list = []\n",
        "  side_dict = {}\n",
        "  \n",
        "  # Go through each cube in the data\n",
        "  # and get the three coordinate numbers\n",
        "  # into a list. Make an entry in the \n",
        "  # dictionary, with the original string\n",
        "  # as key, and the value being another\n",
        "  # dictionary, containing the list of\n",
        "  # numbers, along with an indicator\n",
        "  # for each of the 6 sides, initialized\n",
        "  # as being true.\n",
        "  for item in data:\n",
        "    temp_list = []\n",
        "    split = item.split(',')\n",
        "    for s in split:\n",
        "      temp_list.append(int(s))\n",
        "    side_dict[item] = {'sides': temp_list,\n",
        "                       'left': True,\n",
        "                       'right': True,\n",
        "                       'up': True,\n",
        "                       'down': True,\n",
        "                       'forward': True,\n",
        "                       'backward':True}\n",
        "    \n",
        "    output_list.append(temp_list)\n",
        "  output_list.sort()\n",
        "  return side_dict, output_list"
      ],
      "metadata": {
        "id": "vF_iW-3JNuYV"
      },
      "execution_count": null,
      "outputs": []
    },
    {
      "cell_type": "markdown",
      "source": [
        "### Function to compare two cubes"
      ],
      "metadata": {
        "id": "y8CTFO189MiQ"
      }
    },
    {
      "cell_type": "code",
      "source": [
        "def compare_cubes(side_dict, cube1, cube2):\n",
        "  \n",
        "  # Get the list of numbers\n",
        "  # for each cube.\n",
        "  c1 = side_dict[cube1]['sides']\n",
        "  c2 = side_dict[cube2]['sides']\n",
        "\n",
        "  # Check for X if both not already false\n",
        "  if side_dict[cube1]['right'] == True or side_dict[cube1]['left'] == True: \n",
        "    if (c1[1] == c2[1]) and (c1[2] == c2[2]):\n",
        "      if c1[0]-c2[0] == -1:\n",
        "        side_dict[cube1]['right'] = False\n",
        "        side_dict[cube2]['left'] = False\n",
        "      elif c1[0]-c2[0] == 1:\n",
        "        side_dict[cube1]['left'] = False\n",
        "        side_dict[cube2]['right'] = False\n",
        "\n",
        "  # Check for Y if both not already false\n",
        "  if side_dict[cube1]['up'] == True or side_dict[cube1]['down'] == True: \n",
        "    if (c1[0] == c2[0]) and (c1[2] == c2[2]):\n",
        "      if c1[1]-c2[1] == -1:\n",
        "        side_dict[cube1]['down'] = False\n",
        "        side_dict[cube2]['up'] = False\n",
        "      elif c1[1]-c2[1] == 1:\n",
        "        side_dict[cube1]['up'] = False\n",
        "        side_dict[cube2]['down'] = False\n",
        "  \n",
        "  # Check for Z if both not already false\n",
        "  if side_dict[cube1]['forward'] == True or side_dict[cube1]['backward'] == True: \n",
        "    if (c1[0] == c2[0]) and (c1[1] == c2[1]):\n",
        "      if c1[2]-c2[2] == -1:\n",
        "        side_dict[cube1]['forward'] = False\n",
        "        side_dict[cube2]['backward'] = False\n",
        "      elif c1[2]-c2[2] == 1:\n",
        "        side_dict[cube1]['backward'] = False\n",
        "        side_dict[cube2]['forward'] = False\n",
        "  \n",
        "  return side_dict"
      ],
      "metadata": {
        "id": "OcIeHIOaW5DE"
      },
      "execution_count": null,
      "outputs": []
    },
    {
      "cell_type": "markdown",
      "source": [
        "### Function to get a list of neighboring positions for each cube"
      ],
      "metadata": {
        "id": "aWyDPiA-9ksq"
      }
    },
    {
      "cell_type": "code",
      "source": [
        "def get_neighbors(cube_sides):\n",
        "  neighbors = []\n",
        "  for i in range(3):\n",
        "    if i == 0:\n",
        "      c = cube_sides.copy()\n",
        "      c[0] = c[0]-1\n",
        "      neighbors.append(c)\n",
        "      c = cube_sides.copy()\n",
        "      c[0] = c[0]+1\n",
        "      neighbors.append(c)\n",
        "    if i ==1:\n",
        "      c = cube_sides.copy()\n",
        "      c[1] = c[1]-1\n",
        "      neighbors.append(c)\n",
        "      c = cube_sides.copy()\n",
        "      c[1] = c[1]+1\n",
        "      neighbors.append(c)\n",
        "    if i ==2:\n",
        "      c = cube_sides.copy()\n",
        "      c[2] = c[2]-1\n",
        "      neighbors.append(c)\n",
        "      c = cube_sides.copy()\n",
        "      c[2] = c[2]+1\n",
        "      neighbors.append(c)\n",
        "  return neighbors"
      ],
      "metadata": {
        "id": "DJ5holhYXdH_"
      },
      "execution_count": null,
      "outputs": []
    },
    {
      "cell_type": "markdown",
      "source": [
        "### Simple DFS algorithm to see if the side of a cube is truly exposed to the outside"
      ],
      "metadata": {
        "id": "rWd1Vt_L9x2l"
      }
    },
    {
      "cell_type": "code",
      "source": [
        "def walk_out(cube_list, start, goals = [0,20]):\n",
        "  \n",
        "  # Setup explore and visited\n",
        "  # lists and an indicator for\n",
        "  # if the goal was found. \n",
        "  exploreQ = []\n",
        "  exploreQ.append(start)\n",
        "  visited = []\n",
        "  visited.append(start)\n",
        "  found_goal = False\n",
        "\n",
        "  while exploreQ and not found_goal:\n",
        "    \n",
        "    # Get a position to explore from and \n",
        "    # retrieve all its neighboring positions. \n",
        "    curr = exploreQ.pop(0)\n",
        "    neighbors = get_neighbors(curr)\n",
        "    for neighbor in neighbors:\n",
        "      \n",
        "      # If a neighboring position has not already \n",
        "      # been visited and is not a cube, add it to\n",
        "      # the explore and visited lists. To ensure\n",
        "      # the function will never go infinite, also\n",
        "      # check that a neighbor cannot be outside\n",
        "      # the goal limits.\n",
        "      if (neighbor not in visited) and (str(neighbor).rstrip(']').lstrip('[').replace(' ','') not in cube_list) and (min(neighbor) >= goals[0]) and (max(neighbor)<=goals[1]):\n",
        "        exploreQ.append(neighbor)\n",
        "        visited.append(neighbor)\n",
        "\n",
        "      # If any of the x,y,z coordinates reaches the goal\n",
        "      # limits, then the side is truly exposed to the outside.\n",
        "      if neighbor[0] in goals or neighbor[1] in goals or neighbor[2] in goals:\n",
        "        found_goal = True\n",
        "        break\n",
        "             \n",
        "  return found_goal"
      ],
      "metadata": {
        "id": "0YqsjB_utodh"
      },
      "execution_count": null,
      "outputs": []
    },
    {
      "cell_type": "markdown",
      "source": [
        "### Function to count the number of exposed sides."
      ],
      "metadata": {
        "id": "RDzE0WvE_WYc"
      }
    },
    {
      "cell_type": "code",
      "source": [
        "def count_sides(data, check_voids = False):\n",
        "  \n",
        "  # Setup the dictionary and list of numbers.\n",
        "  # Also get a list of the dictionary keys. \n",
        "  s,l = preprocess_data(data)\n",
        "  keys = list(s.keys())  \n",
        "  \n",
        "  # Compare every cube and mark touching\n",
        "  # sides as False. \n",
        "  for i in range(len(s)):\n",
        "    for j in range(i+1, (len(s))):\n",
        "      cube1 = keys[i]\n",
        "      cube2 = keys[j]\n",
        "      s = compare_cubes(s, cube1, cube2)\n",
        "  \n",
        "  # If the function should also check for\n",
        "  # empty spaces inside the cube (voids)\n",
        "  if check_voids == True:\n",
        "    \n",
        "    # Get a list of the 6 sides of a cube.\n",
        "    inner_keys = list(s[keys[0]].keys())[1:]\n",
        "    \n",
        "    # Go through every side\n",
        "    # of every cube. \n",
        "    for i in range(len(s)):\n",
        "      for j in range(len(inner_keys)):\n",
        "        curr_inner_key = inner_keys[j]\n",
        "        \n",
        "        # If the side is still marked as True\n",
        "        # perform the DFS from the position\n",
        "        # to the corresponding side of the cube.\n",
        "        # Mark the side as False if the DFS\n",
        "        # did not find a way outside the cube.\n",
        "        if s[keys[i]][curr_inner_key] == True:\n",
        "          c = s[keys[i]]['sides'].copy()\n",
        "          if curr_inner_key == 'left':\n",
        "              c[0] -=1\n",
        "              free = walk_out(keys, c)\n",
        "              if not free:\n",
        "                s[keys[i]][curr_inner_key] = False\n",
        "\n",
        "          if curr_inner_key == 'right':\n",
        "              c[0] +=1\n",
        "              free = walk_out(keys, c)\n",
        "              if not free:\n",
        "                s[keys[i]][curr_inner_key] = False\n",
        "\n",
        "          if curr_inner_key == 'up':\n",
        "              c[1] -=1\n",
        "              free = walk_out(keys, c)\n",
        "              if not free:\n",
        "                s[keys[i]][curr_inner_key] = False\n",
        "\n",
        "          if curr_inner_key == 'down':\n",
        "              c[1] +=1\n",
        "              free = walk_out(keys, c)\n",
        "              if not free:\n",
        "                s[keys[i]][curr_inner_key] = False\n",
        "\n",
        "          if curr_inner_key == 'forward':\n",
        "              c[2] +=1\n",
        "              free = walk_out(keys, c)\n",
        "              if not free:\n",
        "                s[keys[i]][curr_inner_key] = False \n",
        "\n",
        "          if curr_inner_key == 'backward':\n",
        "              c[2] -=1\n",
        "              free = walk_out(keys, c)\n",
        "              if not free:\n",
        "                s[keys[i]][curr_inner_key] = False              \n",
        "\n",
        "  # Count the number of \n",
        "  # exposed sides.\n",
        "  side_count = 0\n",
        "  inner_keys = list(s[keys[0]].keys())[1:]\n",
        "  for i in range(len(s)):\n",
        "    for j in range(len(inner_keys)):\n",
        "      if s[keys[i]][inner_keys[j]] == True:\n",
        "        side_count += 1\n",
        "  return side_count"
      ],
      "metadata": {
        "id": "hPp_78NtY5Cd"
      },
      "execution_count": null,
      "outputs": []
    },
    {
      "cell_type": "code",
      "source": [
        "count_sides(data_list)"
      ],
      "metadata": {
        "colab": {
          "base_uri": "https://localhost:8080/"
        },
        "id": "IiBC4rPBae5b",
        "outputId": "9a6b1c9c-fcce-4280-c663-f52fd0784203"
      },
      "execution_count": null,
      "outputs": [
        {
          "output_type": "execute_result",
          "data": {
            "text/plain": [
              "3636"
            ]
          },
          "metadata": {},
          "execution_count": 321
        }
      ]
    },
    {
      "cell_type": "markdown",
      "source": [
        "## Part 2\n",
        "Calculate the number of exposed sides on a 3d object made of 1x1x1 cubes with coordinates x,y,z, only if they are truly exposed to the outside. This means that sides exposed to an empty space that is completely surrounded by cubes should not count as being exposed."
      ],
      "metadata": {
        "id": "yiKeMv3lJPM_"
      }
    },
    {
      "cell_type": "code",
      "source": [
        "count_sides(data_list, True)"
      ],
      "metadata": {
        "colab": {
          "base_uri": "https://localhost:8080/"
        },
        "id": "djlrQncAVJ3N",
        "outputId": "e62d9565-d8fb-41c0-bae7-90b5b4d8eff4"
      },
      "execution_count": null,
      "outputs": [
        {
          "output_type": "execute_result",
          "data": {
            "text/plain": [
              "2102"
            ]
          },
          "metadata": {},
          "execution_count": 322
        }
      ]
    }
  ]
}