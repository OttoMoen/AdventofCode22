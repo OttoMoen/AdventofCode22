{
  "nbformat": 4,
  "nbformat_minor": 0,
  "metadata": {
    "colab": {
      "provenance": []
    },
    "kernelspec": {
      "name": "python3",
      "display_name": "Python 3"
    },
    "language_info": {
      "name": "python"
    }
  },
  "cells": [
    {
      "cell_type": "markdown",
      "source": [
        "# Advent of Code 2022: Day 5\n",
        "https://adventofcode.com/2022/day/5\n"
      ],
      "metadata": {
        "id": "e7qDcWW3JF8G"
      }
    },
    {
      "cell_type": "markdown",
      "source": [
        "## Part 1\n",
        "Find the crates on top of every column"
      ],
      "metadata": {
        "id": "krtSVL3uJOQC"
      }
    },
    {
      "cell_type": "markdown",
      "source": [
        "### Get the data into a list of strings"
      ],
      "metadata": {
        "id": "Jc2_NXw63k49"
      }
    },
    {
      "cell_type": "code",
      "source": [
        "myfile = open('input.txt', 'r')\n",
        "data = myfile.read()\n",
        "data_list = data.split('\\n')\n",
        "# Remove empty value at the bottom of the list\n",
        "data_list = data_list[:-1]"
      ],
      "metadata": {
        "id": "xQfXHvPiJQrT"
      },
      "execution_count": 1,
      "outputs": []
    },
    {
      "cell_type": "markdown",
      "source": [
        "### Create a new list with only the moves"
      ],
      "metadata": {
        "id": "CbNPYa1QeSUO"
      }
    },
    {
      "cell_type": "code",
      "source": [
        "b = 0\n",
        "for i in range(len(data_list)):\n",
        "  if 'move' in data_list[i]:\n",
        "    b = i\n",
        "    break\n",
        "b"
      ],
      "metadata": {
        "colab": {
          "base_uri": "https://localhost:8080/"
        },
        "id": "oWZjJ-GYuKjd",
        "outputId": "a2072132-0fd8-4f7f-830f-acbd9035446a"
      },
      "execution_count": 2,
      "outputs": [
        {
          "output_type": "execute_result",
          "data": {
            "text/plain": [
              "10"
            ]
          },
          "metadata": {},
          "execution_count": 2
        }
      ]
    },
    {
      "cell_type": "code",
      "source": [
        "moves_list = data_list[b:]"
      ],
      "metadata": {
        "id": "FkwtHLZIVdmq"
      },
      "execution_count": 3,
      "outputs": []
    },
    {
      "cell_type": "markdown",
      "source": [
        "### Create a new list with only the stack information"
      ],
      "metadata": {
        "id": "Y_vwdR4GeYsQ"
      }
    },
    {
      "cell_type": "code",
      "source": [
        "data_list = data_list[:b-2]\n",
        "data_list"
      ],
      "metadata": {
        "colab": {
          "base_uri": "https://localhost:8080/"
        },
        "id": "4X5IszRUWbLd",
        "outputId": "aebc3db9-ae48-4079-d8f4-3c45166731a2"
      },
      "execution_count": 4,
      "outputs": [
        {
          "output_type": "execute_result",
          "data": {
            "text/plain": [
              "['[M] [H]         [N]                ',\n",
              " '[S] [W]         [F]     [W] [V]    ',\n",
              " '[J] [J]         [B]     [S] [B] [F]',\n",
              " '[L] [F] [G]     [C]     [L] [N] [N]',\n",
              " '[V] [Z] [D]     [P] [W] [G] [F] [Z]',\n",
              " '[F] [D] [C] [S] [W] [M] [N] [H] [H]',\n",
              " '[N] [N] [R] [B] [Z] [R] [T] [T] [M]',\n",
              " '[R] [P] [W] [N] [M] [P] [R] [Q] [L]']"
            ]
          },
          "metadata": {},
          "execution_count": 4
        }
      ]
    },
    {
      "cell_type": "markdown",
      "source": [
        "### Set up the cargospace as a dictionary"
      ],
      "metadata": {
        "id": "g9GjA70teb9O"
      }
    },
    {
      "cell_type": "code",
      "source": [
        "cargospace = {\n",
        "    '1': [],\n",
        "    '2': [],\n",
        "    '3': [],\n",
        "    '4': [],\n",
        "    '5': [],\n",
        "    '6': [],\n",
        "    '7': [],\n",
        "    '8': [],\n",
        "    '9': [],\n",
        "}\n",
        "\n",
        "i = 0\n",
        "l = len(data_list)\n",
        "while i < l:\n",
        "  row = data_list[l-1-i].split(' ')\n",
        "  rowl = len(row)\n",
        "  j = 0\n",
        "  row_res = []\n",
        "  while j < rowl:\n",
        "    if row[j] == '':\n",
        "      j += 4\n",
        "      row_res.append('')\n",
        "      continue\n",
        "    else:\n",
        "      row_res.append(row[j][1])\n",
        "      j += 1\n",
        "  for k in range(len(row_res)):\n",
        "    if row_res[k] != '':\n",
        "      cargospace[str(k+1)].append(row_res[k])\n",
        "  i +=1\n",
        "cargospace"
      ],
      "metadata": {
        "colab": {
          "base_uri": "https://localhost:8080/"
        },
        "id": "TRJOwVQnpVJb",
        "outputId": "5aad3f51-c851-4ee2-a009-0906c0ed4da6"
      },
      "execution_count": 5,
      "outputs": [
        {
          "output_type": "execute_result",
          "data": {
            "text/plain": [
              "{'1': ['R', 'N', 'F', 'V', 'L', 'J', 'S', 'M'],\n",
              " '2': ['P', 'N', 'D', 'Z', 'F', 'J', 'W', 'H'],\n",
              " '3': ['W', 'R', 'C', 'D', 'G'],\n",
              " '4': ['N', 'B', 'S'],\n",
              " '5': ['M', 'Z', 'W', 'P', 'C', 'B', 'F', 'N'],\n",
              " '6': ['P', 'R', 'M', 'W'],\n",
              " '7': ['R', 'T', 'N', 'G', 'L', 'S', 'W'],\n",
              " '8': ['Q', 'T', 'H', 'F', 'N', 'B', 'V'],\n",
              " '9': ['L', 'M', 'H', 'Z', 'N', 'F']}"
            ]
          },
          "metadata": {},
          "execution_count": 5
        }
      ]
    },
    {
      "cell_type": "markdown",
      "source": [
        "### Execute the moves"
      ],
      "metadata": {
        "id": "n7XNL58O8Eby"
      }
    },
    {
      "cell_type": "code",
      "source": [
        "for move in moves_list:                                 # 'move 1 from 7 to 6'\n",
        "  \n",
        "  temp_list  = move.split(' ')                          # ['move', '1', 'from', \n",
        "                                                        #  '7', 'to', '6']\n",
        "  \n",
        "  origin = temp_list[3]                                 # '7'\n",
        "  target = temp_list[5]                                 # '6'\n",
        "  nmoves = int(temp_list[1])                            # 1\n",
        "  \n",
        "  for i in range(nmoves):\n",
        "    cargospace[target].append(cargospace[origin].pop()) # Put the item from the \n",
        "                                                        # back of origin list\n",
        "                                                        # at the back of the \n",
        "                                                        # target list"
      ],
      "metadata": {
        "id": "HJEl0K3naIGO"
      },
      "execution_count": 6,
      "outputs": []
    },
    {
      "cell_type": "markdown",
      "source": [
        "### Return the crates on top of each stack as a string"
      ],
      "metadata": {
        "id": "QC16YJQfelwk"
      }
    },
    {
      "cell_type": "code",
      "source": [
        "result = ''\n",
        "for key in cargospace:\n",
        "  l = len(cargospace[key])\n",
        "  result += cargospace[key][l-1]\n",
        "result"
      ],
      "metadata": {
        "id": "Vg6HQ-Us5wMu",
        "colab": {
          "base_uri": "https://localhost:8080/",
          "height": 35
        },
        "outputId": "2b2656e5-9142-4df5-d47e-4d1bff1b6259"
      },
      "execution_count": 7,
      "outputs": [
        {
          "output_type": "execute_result",
          "data": {
            "text/plain": [
              "'QPJPLMNNR'"
            ],
            "application/vnd.google.colaboratory.intrinsic+json": {
              "type": "string"
            }
          },
          "metadata": {},
          "execution_count": 7
        }
      ]
    },
    {
      "cell_type": "markdown",
      "source": [
        "## Part 2\n",
        "Find the crates on top of every column, new moving algorithm"
      ],
      "metadata": {
        "id": "yiKeMv3lJPM_"
      }
    },
    {
      "cell_type": "markdown",
      "source": [
        "### Create a copy of the cargospace dictionary"
      ],
      "metadata": {
        "id": "nH71FhFYerBl"
      }
    },
    {
      "cell_type": "code",
      "source": [
        "cargospace2 = {\n",
        "    '1': ['R', 'N', 'F', 'V', 'L', 'J', 'S', 'M'],\n",
        "    '2': ['P', 'N', 'D', 'Z', 'F', 'J', 'W', 'H'],\n",
        "    '3': ['W', 'R', 'C', 'D', 'G'],\n",
        "    '4': ['N', 'B', 'S'],\n",
        "    '5': ['M', 'Z', 'W', 'P', 'C', 'B', 'F', 'N'],\n",
        "    '6': ['P', 'R', 'M', 'W'],\n",
        "    '7': ['R', 'T', 'N', 'G', 'L', 'S', 'W'],\n",
        "    '8': ['Q', 'T', 'H', 'F', 'N', 'B', 'V'],\n",
        "    '9': ['L', 'M', 'H', 'Z', 'N', 'F'],\n",
        "}"
      ],
      "metadata": {
        "id": "yeCl8dInJRPs"
      },
      "execution_count": 8,
      "outputs": []
    },
    {
      "cell_type": "markdown",
      "source": [
        "### Execute the moves, using a temporary stack to ensure the correct order"
      ],
      "metadata": {
        "id": "QyDTnlC1ewAJ"
      }
    },
    {
      "cell_type": "code",
      "source": [
        "for move in moves_list:\n",
        "  temp_list  = move.split(' ')\n",
        "  origin = temp_list[3]\n",
        "  target = temp_list[5]\n",
        "  nmoves = int(temp_list[1])\n",
        "  temp_stack = []\n",
        "  \n",
        "  for i in range(nmoves):                           # Put the item at the \n",
        "    temp_stack.append(cargospace2[origin].pop())    # back of origin list\n",
        "                                                    # at the back of the\n",
        "                                                    # temporary list\n",
        "\n",
        "  for i in range(nmoves):                           # Put the item at the \n",
        "    cargospace2[target].append(temp_stack.pop())    # back of temporary list\n",
        "                                                    # at the back of the \n",
        "                                                    # target list\n"
      ],
      "metadata": {
        "id": "OKPpgn7gdJLQ"
      },
      "execution_count": 9,
      "outputs": []
    },
    {
      "cell_type": "markdown",
      "source": [
        "### Return the crates on top of each stack as a string"
      ],
      "metadata": {
        "id": "vuOh53Ihe4pa"
      }
    },
    {
      "cell_type": "code",
      "source": [
        "result2 = ''\n",
        "for key in cargospace2:\n",
        "  l = len(cargospace2[key])\n",
        "  result2 += cargospace2[key][l-1]\n",
        "result2"
      ],
      "metadata": {
        "colab": {
          "base_uri": "https://localhost:8080/",
          "height": 35
        },
        "id": "zjbiGmFwdbxS",
        "outputId": "64bae026-32cb-47d1-d6a5-db4ee3c16fa5"
      },
      "execution_count": 10,
      "outputs": [
        {
          "output_type": "execute_result",
          "data": {
            "text/plain": [
              "'BQDNWJPVJ'"
            ],
            "application/vnd.google.colaboratory.intrinsic+json": {
              "type": "string"
            }
          },
          "metadata": {},
          "execution_count": 10
        }
      ]
    }
  ]
}