{
  "nbformat": 4,
  "nbformat_minor": 0,
  "metadata": {
    "colab": {
      "provenance": []
    },
    "kernelspec": {
      "name": "python3",
      "display_name": "Python 3"
    },
    "language_info": {
      "name": "python"
    }
  },
  "cells": [
    {
      "cell_type": "markdown",
      "source": [
        "# Advent of Code 2022: Day 9\n",
        "https://adventofcode.com/2022/day/9\n"
      ],
      "metadata": {
        "id": "e7qDcWW3JF8G"
      }
    },
    {
      "cell_type": "markdown",
      "source": [
        "## Part 1\n",
        "Find the number of spaces the tail touched at least once"
      ],
      "metadata": {
        "id": "krtSVL3uJOQC"
      }
    },
    {
      "cell_type": "markdown",
      "source": [
        "### Get the data into a list of strings\n",
        "One observation: 'U 1'"
      ],
      "metadata": {
        "id": "Jc2_NXw63k49"
      }
    },
    {
      "cell_type": "code",
      "source": [
        "myfile = open('input.txt', 'r')\n",
        "data = myfile.read()\n",
        "data_list = data.split('\\n')\n",
        "# Remove empty value at the bottom of the list\n",
        "data_list = data_list[:-1]"
      ],
      "metadata": {
        "id": "xQfXHvPiJQrT"
      },
      "execution_count": 1,
      "outputs": []
    },
    {
      "cell_type": "markdown",
      "source": [
        "### Transform to a list of lists\n",
        "One observation: ['U', 1]"
      ],
      "metadata": {
        "id": "zrdmi1cPjD55"
      }
    },
    {
      "cell_type": "code",
      "source": [
        "data_lists = []\n",
        "for item in data_list:\n",
        "  # Split the item on empty space.\n",
        "  temp_list = item.split(' ')\n",
        "\n",
        "  # Transform the number part to an integer.\n",
        "  temp_list[1] = int(temp_list[1])\n",
        "\n",
        "  # Append to the final list.\n",
        "  data_lists.append(temp_list)"
      ],
      "metadata": {
        "id": "FU_R22lSjCkP"
      },
      "execution_count": 2,
      "outputs": []
    },
    {
      "cell_type": "markdown",
      "source": [
        "### Set up helper functions"
      ],
      "metadata": {
        "id": "n7XNL58O8Eby"
      }
    },
    {
      "cell_type": "markdown",
      "source": [
        "#### Helper function to create the gameboard"
      ],
      "metadata": {
        "id": "dp2yhmxxjjcg"
      }
    },
    {
      "cell_type": "code",
      "source": [
        "def setup_gameboard(move_list):\n",
        "  \n",
        "  # Set up dictionary of moves.\n",
        "  space = {\"U\" : 0,\n",
        "           \"R\" : 0,\n",
        "           \"L\" : 0,\n",
        "           \"D\" : 0}\n",
        "  \n",
        "  # Fill the dictionary with the\n",
        "  # total number of moves in\n",
        "  # every direction.\n",
        "  for move in move_list:\n",
        "    space[move[0]] += move[1]\n",
        "\n",
        "  # Find the direction with the \n",
        "  # largest number of moves,\n",
        "  # add 30 extra for safety.   \n",
        "  maxdirr = max(space.items())[1] + 30\n",
        "\n",
        "  # Set up a 2d array of zeros,\n",
        "  # with rows and colums equal\n",
        "  # to the calculated maxdirr.\n",
        "  board = [[0 for x in range(maxdirr)] for y in range(maxdirr)]\n",
        "  return board"
      ],
      "metadata": {
        "id": "Vg6HQ-Us5wMu"
      },
      "execution_count": 3,
      "outputs": []
    },
    {
      "cell_type": "markdown",
      "source": [
        "#### Helper function to execute moves"
      ],
      "metadata": {
        "id": "vBXd8EQUjpS0"
      }
    },
    {
      "cell_type": "code",
      "source": [
        "def execute_move(move, Hpos, Tpos, gameboard, tail=True):\n",
        "  newTpos = Tpos.copy()\n",
        "\n",
        "  #############################\n",
        "  # Move the head based on    #\n",
        "  # the given direction       #\n",
        "  #############################\n",
        "  if move[0]==\"U\":            #\n",
        "    Hpos[0] -= 1              #\n",
        "  if move[0]==\"D\":            #\n",
        "    Hpos[0] += 1              #\n",
        "  if move[0]==\"R\":            #\n",
        "    Hpos[1] += 1              #\n",
        "  if move[0]==\"L\":            #\n",
        "    Hpos[1] -= 1              #\n",
        "  if move[0] == \"UR\":         #\n",
        "    Hpos[0] -=1               #\n",
        "    Hpos[1] +=1               #\n",
        "  if move[0] == \"UL\":         #\n",
        "    Hpos[0] -=1               #\n",
        "    Hpos[1] -=1               #\n",
        "  if move[0] == \"DR\":         #\n",
        "    Hpos[0] +=1               #\n",
        "    Hpos[1] +=1               #\n",
        "  if move[0] == \"DL\":         #\n",
        "    Hpos[0] +=1               #\n",
        "    Hpos[1] -=1               #\n",
        "###############################\n",
        "\n",
        "  #################################\n",
        "  # If the rows are the name      #\n",
        "  #################################\n",
        "  if (Tpos[0] == Hpos[0]):        #\n",
        "    if((Tpos[1]-Hpos[1])>1):      #\n",
        "      # Move one left             #\n",
        "      newTpos[1] -=1              #\n",
        "      # Move one right            #\n",
        "    elif((Tpos[1]-Hpos[1]<-1)):   #\n",
        "      newTpos[1] +=1              #\n",
        "  #################################\n",
        "\n",
        "  #################################\n",
        "  # If the columns are the same   #\n",
        "  #################################  \n",
        "  elif (Tpos[1] == Hpos[1]):      #\n",
        "    if((Tpos[0]-Hpos[0])>1):      #\n",
        "      # Move one up               #\n",
        "      newTpos[0] -=1              #\n",
        "    elif((Tpos[0]-Hpos[0]<-1)):   #\n",
        "      # Move one down             #\n",
        "      newTpos[0] +=1              #\n",
        "   ################################\n",
        "  else:\n",
        "\n",
        "    # If the tail is 2 rows below the head\n",
        "    if(Tpos[0]-Hpos[0] > 1):\n",
        "\n",
        "      # If the tail is 1 or more columns\n",
        "      # to the right of the head\n",
        "      if(Tpos[1]-Hpos[1] >= 1):\n",
        "\n",
        "        # Move 1 up and 1 left\n",
        "        newTpos[1] -=1\n",
        "        newTpos[0] -=1\n",
        "      \n",
        "      # If the tail is 1 or more columns\n",
        "      # to the left of the head\n",
        "      elif(Tpos[1]-Hpos[1] <= -1):\n",
        "\n",
        "        # Move 1 up and 1 right\n",
        "        newTpos[1] +=1\n",
        "        newTpos[0] -=1\n",
        "\n",
        "    # If the tail is 2 rows above the head\n",
        "    elif(Tpos[0]-Hpos[0] < -1):\n",
        "\n",
        "      # If the tail is 1 or more columns\n",
        "      # to the right of the head\n",
        "      if(Tpos[1]-Hpos[1] >= 1):\n",
        "\n",
        "        # Move 1 down and 1 left\n",
        "        newTpos[1] -=1\n",
        "        newTpos[0] +=1\n",
        "\n",
        "      # If the tail is 1 or more columns\n",
        "      # to the left of the head\n",
        "      elif(Tpos[1]-Hpos[1] <= -1):\n",
        "\n",
        "        # Move 1 down and 1 right\n",
        "        newTpos[1] +=1\n",
        "        newTpos[0] +=1\n",
        "\n",
        "    # If the tail is 2 columns to the right of the head\n",
        "    elif(Tpos[1]-Hpos[1] > 1):\n",
        "\n",
        "      # If the tail is 1 row below the head\n",
        "      if(Tpos[0]-Hpos[0] == 1):\n",
        "\n",
        "        # Move 1 left and 1 up\n",
        "        newTpos[1] -=1\n",
        "        newTpos[0] -=1\n",
        "\n",
        "      # If the tail is 1 row above the head \n",
        "      elif(Tpos[0]-Hpos[0] == -1):\n",
        "\n",
        "        # Move 1 left and 1 down\n",
        "        newTpos[1] -=1\n",
        "        newTpos[0] +=1\n",
        "\n",
        "    # If the tail is 2 columns to the left of the head\n",
        "    elif(Tpos[1]-Hpos[1] < -1):\n",
        "\n",
        "      # If the tail is 1 row below the head\n",
        "      if(Tpos[0]-Hpos[0] == 1):\n",
        "\n",
        "        # Move 1 right and 1 up\n",
        "        newTpos[1] +=1\n",
        "        newTpos[0] -=1\n",
        "\n",
        "      # If the tail is 1 row above the head  \n",
        "      elif(Tpos[0]-Hpos[0] == -1):\n",
        "\n",
        "        # Move 1 right and 1 down\n",
        "        newTpos[1] +=1\n",
        "        newTpos[0] +=1\n",
        "\n",
        "\n",
        "  # If tail is true, the tail is the actual\n",
        "  # tail of the entire rope. If that is the \n",
        "  # case, update the gameboard if the tail\n",
        "  # is in a position it has not been at before.\n",
        "  if tail == True:\n",
        "    if gameboard[newTpos[0]][newTpos[1]] == 0:\n",
        "      gameboard[newTpos[0]][newTpos[1]] = 1\n",
        "  \n",
        "  return Hpos, newTpos, gameboard"
      ],
      "metadata": {
        "id": "NcngvJmneLpW"
      },
      "execution_count": 4,
      "outputs": []
    },
    {
      "cell_type": "markdown",
      "source": [
        "#### Helper function to calculate the final sum"
      ],
      "metadata": {
        "id": "NwByyizZk3nO"
      }
    },
    {
      "cell_type": "code",
      "source": [
        "def sum_visited_spaces(gameboard):\n",
        "  res = 0\n",
        "  for i in gameboard:\n",
        "    for j in i:\n",
        "      res += j\n",
        "  return res"
      ],
      "metadata": {
        "id": "Nqd2whzUmudp"
      },
      "execution_count": 5,
      "outputs": []
    },
    {
      "cell_type": "markdown",
      "source": [
        "#### Helper function to find which direction to move in"
      ],
      "metadata": {
        "id": "03Rr4uKkk7Mp"
      }
    },
    {
      "cell_type": "code",
      "source": [
        "def find_direction(pos1, pos2):\n",
        "  # If the rows are the same\n",
        "  if(pos1[0] == pos2[0]):\n",
        "    \n",
        "    # If pos1 is to the \n",
        "    # right of pos2 \n",
        "    if(pos1[1]-pos2[1] == 1):\n",
        "      dirr = \"R\"\n",
        "    \n",
        "    # If pos1 is to the \n",
        "    # left of pos2\n",
        "    elif(pos1[1]-pos2[1]==-1):\n",
        "      dirr = \"L\"\n",
        "  \n",
        "  # If the columns are the same\n",
        "  elif(pos1[1]== pos2[1]):\n",
        "\n",
        "    # If pos1 is below pos2\n",
        "    if(pos1[0]-pos2[0]==1):\n",
        "      dirr = \"D\"\n",
        "    \n",
        "    # If pos1 is above pos2 \n",
        "    elif(pos1[0]-pos2[0]==-1):\n",
        "      dirr = \"U\"\n",
        "  \n",
        "  # If pos1 is below pos2\n",
        "  elif(pos1[0]-pos2[0]==1):\n",
        "\n",
        "    # If pos1 is to the \n",
        "    # right of pos2\n",
        "    if(pos1[1]-pos2[1]==1):\n",
        "      dirr= \"DR\"\n",
        "\n",
        "    # If pos1 is to the \n",
        "    # left of pos2  \n",
        "    elif(pos1[1]-pos2[1]==-1):\n",
        "      dirr= \"DL\"\n",
        "\n",
        "  # If pos1 is above pos2   \n",
        "  elif(pos1[0]-pos2[0]==-1):\n",
        "\n",
        "    # If pos1 is to the \n",
        "    # right of pos2\n",
        "    if(pos1[1]-pos2[1]==1):\n",
        "      dirr = \"UR\"\n",
        "\n",
        "    # If pos1 is to the \n",
        "    # left of pos2   \n",
        "    elif(pos1[1]-pos2[1]==-1):\n",
        "      dirr = \"UL\"\n",
        "  return dirr"
      ],
      "metadata": {
        "id": "CL0gppvmA3ZG"
      },
      "execution_count": 6,
      "outputs": []
    },
    {
      "cell_type": "markdown",
      "source": [
        "### Function to play the game"
      ],
      "metadata": {
        "id": "53A0QF94k_NF"
      }
    },
    {
      "cell_type": "code",
      "source": [
        "def play_game(movelist, n_knots = 2):\n",
        "  \n",
        "  # Set up the game board and\n",
        "  # the start position\n",
        "  board = setup_gameboard(movelist)\n",
        "  startpos = int(len(board)/2)\n",
        "\n",
        "  # If the number of knots is\n",
        "  # equal to 2, there is just a\n",
        "  # head followed by a tail\n",
        "  if n_knots == 2:\n",
        "    \n",
        "    # Set up initial positions\n",
        "    # of the head and tail\n",
        "    Hpos = [startpos, startpos]\n",
        "    Tpos = [startpos, startpos]\n",
        "\n",
        "    # Set the initial position\n",
        "    # on the board to 1\n",
        "    board[startpos][startpos] = 1\n",
        "\n",
        "    # Go through the movelist\n",
        "    for move in movelist:\n",
        "      \n",
        "      # Go through the number of\n",
        "      # times a move should be executed\n",
        "      for i in range(move[1]):\n",
        "        Hpos, Tpos, board = execute_move(move, Hpos, Tpos, board)\n",
        "  \n",
        "  # If the number of knots\n",
        "  # is greater than 2 more\n",
        "  # steps are required\n",
        "  else:\n",
        "    \n",
        "    # Set up the list of knot-positions\n",
        "    knots = [[startpos, startpos]]\n",
        "    for i in range(1,n_knots):\n",
        "      knots.append([startpos, startpos])\n",
        "\n",
        "    # Go through the movelist\n",
        "    for move in movelist:\n",
        "\n",
        "      # Go through the number of\n",
        "      # times a move should be executed\n",
        "      for i in range(move[1]):\n",
        "\n",
        "        # Get positions of the\n",
        "        # head and first knot\n",
        "        Hpos = knots[0]\n",
        "        Tpos1 = knots[1]\n",
        "\n",
        "        # Keep track of if the current tail\n",
        "        # is the true tail of the full rope\n",
        "        tail = False\n",
        "\n",
        "        # Move the head, while for the first\n",
        "        # knot store the \"potential\" move in a \n",
        "        # temporary value\n",
        "        Hpos, Tpos_temp, board = execute_move(move, Hpos, Tpos1, board, tail)\n",
        "\n",
        "        # Update the knots list with\n",
        "        # the new position of the head\n",
        "        knots[0] = Hpos\n",
        "        \n",
        "        # If the first knots new position, after a \n",
        "        # potential move, is equal to its previous\n",
        "        # position, it does not need to move. If so\n",
        "        # continue to the next iteration of the loop. \n",
        "        if ((Tpos_temp[0] == Tpos1[0]) and (Tpos_temp[1]==Tpos1[1])):\n",
        "          continue\n",
        "        else:\n",
        "\n",
        "          # If the first knot needs to move, start\n",
        "          # at position 1 and go through until\n",
        "          # the (n-2)nd position. \n",
        "          for i in range(1, len(knots)-1):\n",
        "            \n",
        "            # Using the position after potential\n",
        "            # move and old position, find out\n",
        "            # which direction this potential\n",
        "            # move would have been in.\n",
        "            dirr = find_direction(Tpos_temp, Tpos1)\n",
        "\n",
        "            # Set the \"inner move\" to\n",
        "            # this obtained direction\n",
        "            innermove = [dirr,1]\n",
        "\n",
        "            # Get the \"inner tail\" as\n",
        "            # the (i+1)th position\n",
        "            innerTpos = knots[i+1]\n",
        "            \n",
        "            # If (i+1) is equal to (n-2)\n",
        "            # the \"inner tail\" is the \n",
        "            # tail of the full rope\n",
        "            if (i+1) == (len(knots)-1):\n",
        "              \n",
        "              # In this case the\n",
        "              # tail is the actual tail\n",
        "              tail = True\n",
        "\n",
        "              # Move the inner head\n",
        "              # and tail\n",
        "              Hpos, Tpos, board = execute_move(innermove, Tpos1, innerTpos, board, tail)\n",
        "\n",
        "              # Update the positions of\n",
        "              # the inner head and tail\n",
        "              knots[i] = Hpos\n",
        "              knots[i+1] = Tpos\n",
        "              break\n",
        "\n",
        "            # If (i+1) is not equal to (n-2)\n",
        "            # the inner tail is not the actual tail.\n",
        "            # If so, execute a move, where the\n",
        "            # previous tail is now the head, and\n",
        "            # the inner tail is the tail. Store\n",
        "            # the potential move of the tail as \n",
        "            # was done previously.\n",
        "            Hpos, Tpos_temp, board = execute_move(innermove, Tpos1, innerTpos, board, tail)\n",
        "\n",
        "            # Update the position\n",
        "            # of the current knot\n",
        "            knots[i] = Hpos\n",
        "            \n",
        "            # As before, if the new position, after a \n",
        "            # potential move, is equal to the previous\n",
        "            # position, the tail does not need to move.\n",
        "            # If so break the inner loop.\n",
        "            if Tpos_temp[0] == innerTpos[0] and Tpos_temp[1] == innerTpos[1]:\n",
        "              break\n",
        "            \n",
        "            # Otherwise, set the inner tail\n",
        "            # as the new inner head\n",
        "            else:\n",
        "              Tpos1 = innerTpos\n",
        "\n",
        "  # Calculate the sum of all\n",
        "  # visited spaces\n",
        "  res = sum_visited_spaces(board)\n",
        "  return res"
      ],
      "metadata": {
        "id": "38if2WEGstFM"
      },
      "execution_count": 7,
      "outputs": []
    },
    {
      "cell_type": "code",
      "source": [
        "res = play_game(data_lists)\n",
        "res"
      ],
      "metadata": {
        "colab": {
          "base_uri": "https://localhost:8080/"
        },
        "id": "wrF0Rvpjt9Wi",
        "outputId": "9f70cecc-f49a-4163-f883-82eeaf5073db"
      },
      "execution_count": 8,
      "outputs": [
        {
          "output_type": "execute_result",
          "data": {
            "text/plain": [
              "6087"
            ]
          },
          "metadata": {},
          "execution_count": 8
        }
      ]
    },
    {
      "cell_type": "markdown",
      "source": [
        "## Part 2\n"
      ],
      "metadata": {
        "id": "yiKeMv3lJPM_"
      }
    },
    {
      "cell_type": "code",
      "source": [
        "res2 = play_game(data_lists, n_knots= 10)\n",
        "res2"
      ],
      "metadata": {
        "colab": {
          "base_uri": "https://localhost:8080/"
        },
        "id": "oFdd_28PuUU5",
        "outputId": "20420d9b-4f2a-416c-887f-8f59db87670b"
      },
      "execution_count": 9,
      "outputs": [
        {
          "output_type": "execute_result",
          "data": {
            "text/plain": [
              "2493"
            ]
          },
          "metadata": {},
          "execution_count": 9
        }
      ]
    }
  ]
}