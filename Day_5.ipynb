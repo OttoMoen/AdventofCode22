{
  "nbformat": 4,
  "nbformat_minor": 0,
  "metadata": {
    "colab": {
      "provenance": []
    },
    "kernelspec": {
      "name": "python3",
      "display_name": "Python 3"
    },
    "language_info": {
      "name": "python"
    }
  },
  "cells": [
    {
      "cell_type": "markdown",
      "source": [
        "# Advent of Code 2022: Day 5\n",
        "https://adventofcode.com/2022/day/5\n"
      ],
      "metadata": {
        "id": "e7qDcWW3JF8G"
      }
    },
    {
      "cell_type": "markdown",
      "source": [
        "## Part 1\n",
        "Find the crates on top of every column"
      ],
      "metadata": {
        "id": "krtSVL3uJOQC"
      }
    },
    {
      "cell_type": "markdown",
      "source": [
        "### Get the data into a list of strings"
      ],
      "metadata": {
        "id": "Jc2_NXw63k49"
      }
    },
    {
      "cell_type": "code",
      "source": [
        "myfile = open('input.txt', 'r')\n",
        "data = myfile.read()\n",
        "data_list = data.split('\\n') "
      ],
      "metadata": {
        "id": "xQfXHvPiJQrT"
      },
      "execution_count": 47,
      "outputs": []
    },
    {
      "cell_type": "markdown",
      "source": [
        "### Create a new list with only the moves"
      ],
      "metadata": {
        "id": "CbNPYa1QeSUO"
      }
    },
    {
      "cell_type": "code",
      "source": [
        "moves_list = data_list[10:]"
      ],
      "metadata": {
        "id": "FkwtHLZIVdmq"
      },
      "execution_count": 48,
      "outputs": []
    },
    {
      "cell_type": "markdown",
      "source": [
        "### Create a new list with only the stack information"
      ],
      "metadata": {
        "id": "Y_vwdR4GeYsQ"
      }
    },
    {
      "cell_type": "code",
      "source": [
        "data_list = data_list[:9]\n",
        "data_list"
      ],
      "metadata": {
        "colab": {
          "base_uri": "https://localhost:8080/"
        },
        "id": "4X5IszRUWbLd",
        "outputId": "b6c11c0d-503a-47b4-e29e-dbe723c6c94b"
      },
      "execution_count": 49,
      "outputs": [
        {
          "output_type": "execute_result",
          "data": {
            "text/plain": [
              "['[M] [H]         [N]                ',\n",
              " '[S] [W]         [F]     [W] [V]    ',\n",
              " '[J] [J]         [B]     [S] [B] [F]',\n",
              " '[L] [F] [G]     [C]     [L] [N] [N]',\n",
              " '[V] [Z] [D]     [P] [W] [G] [F] [Z]',\n",
              " '[F] [D] [C] [S] [W] [M] [N] [H] [H]',\n",
              " '[N] [N] [R] [B] [Z] [R] [T] [T] [M]',\n",
              " '[R] [P] [W] [N] [M] [P] [R] [Q] [L]',\n",
              " ' 1   2   3   4   5   6   7   8   9 ']"
            ]
          },
          "metadata": {},
          "execution_count": 49
        }
      ]
    },
    {
      "cell_type": "markdown",
      "source": [
        "### Set up the cargospace as a dictionary"
      ],
      "metadata": {
        "id": "g9GjA70teb9O"
      }
    },
    {
      "cell_type": "code",
      "source": [
        "cargospace = {\n",
        "    '1': ['R', 'N', 'F', 'V', 'L', 'J', 'S', 'M'],\n",
        "    '2': ['P', 'N', 'D', 'Z', 'F', 'J', 'W', 'H'],\n",
        "    '3': ['W', 'R', 'C', 'D', 'G'],\n",
        "    '4': ['N', 'B', 'S'],\n",
        "    '5': ['M', 'Z', 'W', 'P', 'C', 'B', 'F', 'N'],\n",
        "    '6': ['P', 'R', 'M', 'W'],\n",
        "    '7': ['R', 'T', 'N', 'G', 'L', 'S', 'W'],\n",
        "    '8': ['Q', 'T', 'H', 'F', 'N', 'B', 'V'],\n",
        "    '9': ['L', 'M', 'H', 'Z', 'N', 'F'],\n",
        "}"
      ],
      "metadata": {
        "id": "k3-NrTnfXOtn"
      },
      "execution_count": 50,
      "outputs": []
    },
    {
      "cell_type": "code",
      "source": [
        "moves_list[0]"
      ],
      "metadata": {
        "colab": {
          "base_uri": "https://localhost:8080/",
          "height": 35
        },
        "id": "-G55hncTfcku",
        "outputId": "aae54032-73a3-485e-b172-e1f97d54420b"
      },
      "execution_count": 58,
      "outputs": [
        {
          "output_type": "execute_result",
          "data": {
            "text/plain": [
              "'move 1 from 7 to 6'"
            ],
            "application/vnd.google.colaboratory.intrinsic+json": {
              "type": "string"
            }
          },
          "metadata": {},
          "execution_count": 58
        }
      ]
    },
    {
      "cell_type": "markdown",
      "source": [
        "### Execute the moves"
      ],
      "metadata": {
        "id": "n7XNL58O8Eby"
      }
    },
    {
      "cell_type": "code",
      "source": [
        "for move in moves_list:                                 # 'move 1 from 7 to 6'\n",
        "  \n",
        "  temp_list  = move.split(' ')                          # ['move', '1', 'from', \n",
        "                                                        #  '7', 'to', '6']\n",
        "  \n",
        "  origin = temp_list[3]                                 # '7'\n",
        "  target = temp_list[5]                                 # '6'\n",
        "  nmoves = int(temp_list[1])                            # 1\n",
        "  \n",
        "  for i in range(nmoves):\n",
        "    cargospace[target].append(cargospace[origin].pop()) # Put the item at the \n",
        "                                                        # back of origin list\n",
        "                                                        # at the back of the \n",
        "                                                        # target list"
      ],
      "metadata": {
        "id": "HJEl0K3naIGO"
      },
      "execution_count": 51,
      "outputs": []
    },
    {
      "cell_type": "markdown",
      "source": [
        "### Return the crates on top of each stack as a string"
      ],
      "metadata": {
        "id": "QC16YJQfelwk"
      }
    },
    {
      "cell_type": "code",
      "source": [
        "result = ''\n",
        "for key in cargospace:\n",
        "  l = len(cargospace[key])\n",
        "  result += cargospace[key][l-1]\n",
        "result"
      ],
      "metadata": {
        "id": "Vg6HQ-Us5wMu",
        "colab": {
          "base_uri": "https://localhost:8080/",
          "height": 35
        },
        "outputId": "15d9512e-5be5-4cb4-8f08-ceb7258ef9a7"
      },
      "execution_count": 54,
      "outputs": [
        {
          "output_type": "execute_result",
          "data": {
            "text/plain": [
              "'QPJPLMNNR'"
            ],
            "application/vnd.google.colaboratory.intrinsic+json": {
              "type": "string"
            }
          },
          "metadata": {},
          "execution_count": 54
        }
      ]
    },
    {
      "cell_type": "markdown",
      "source": [
        "## Part 2\n",
        "Find the crates on top of every column, new moving algorithm"
      ],
      "metadata": {
        "id": "yiKeMv3lJPM_"
      }
    },
    {
      "cell_type": "markdown",
      "source": [
        "### Create a copy of the cargospace dictionary"
      ],
      "metadata": {
        "id": "nH71FhFYerBl"
      }
    },
    {
      "cell_type": "code",
      "source": [
        "cargospace2 = {\n",
        "    '1': ['R', 'N', 'F', 'V', 'L', 'J', 'S', 'M'],\n",
        "    '2': ['P', 'N', 'D', 'Z', 'F', 'J', 'W', 'H'],\n",
        "    '3': ['W', 'R', 'C', 'D', 'G'],\n",
        "    '4': ['N', 'B', 'S'],\n",
        "    '5': ['M', 'Z', 'W', 'P', 'C', 'B', 'F', 'N'],\n",
        "    '6': ['P', 'R', 'M', 'W'],\n",
        "    '7': ['R', 'T', 'N', 'G', 'L', 'S', 'W'],\n",
        "    '8': ['Q', 'T', 'H', 'F', 'N', 'B', 'V'],\n",
        "    '9': ['L', 'M', 'H', 'Z', 'N', 'F'],\n",
        "}"
      ],
      "metadata": {
        "id": "yeCl8dInJRPs"
      },
      "execution_count": 55,
      "outputs": []
    },
    {
      "cell_type": "markdown",
      "source": [
        "### Execute the moves, using a temporary stack to ensure the correct order"
      ],
      "metadata": {
        "id": "QyDTnlC1ewAJ"
      }
    },
    {
      "cell_type": "code",
      "source": [
        "for move in moves_list:\n",
        "  temp_list  = move.split(' ')\n",
        "  origin = temp_list[3]\n",
        "  target = temp_list[5]\n",
        "  nmoves = int(temp_list[1])\n",
        "  temp_stack = []\n",
        "  \n",
        "  for i in range(nmoves):                           # Put the item at the \n",
        "    temp_stack.append(cargospace2[origin].pop())    # back of origin list\n",
        "                                                    # at the back of the\n",
        "                                                    # temporary list\n",
        "\n",
        "  for i in range(nmoves):                           # Put the item at the \n",
        "    cargospace2[target].append(temp_stack.pop())    # back of temporary list\n",
        "                                                    # at the back of the \n",
        "                                                    # target list\n"
      ],
      "metadata": {
        "id": "OKPpgn7gdJLQ"
      },
      "execution_count": 56,
      "outputs": []
    },
    {
      "cell_type": "markdown",
      "source": [
        "### Return the crates on top of each stack as a string"
      ],
      "metadata": {
        "id": "vuOh53Ihe4pa"
      }
    },
    {
      "cell_type": "code",
      "source": [
        "result2 = ''\n",
        "for key in cargospace2:\n",
        "  l = len(cargospace2[key])\n",
        "  result2 += cargospace2[key][l-1]\n",
        "result2"
      ],
      "metadata": {
        "colab": {
          "base_uri": "https://localhost:8080/",
          "height": 35
        },
        "id": "zjbiGmFwdbxS",
        "outputId": "85e3e95f-c598-444c-eb04-0f5ddd80dc2b"
      },
      "execution_count": 57,
      "outputs": [
        {
          "output_type": "execute_result",
          "data": {
            "text/plain": [
              "'BQDNWJPVJ'"
            ],
            "application/vnd.google.colaboratory.intrinsic+json": {
              "type": "string"
            }
          },
          "metadata": {},
          "execution_count": 57
        }
      ]
    }
  ]
}