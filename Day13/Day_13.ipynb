{
  "nbformat": 4,
  "nbformat_minor": 0,
  "metadata": {
    "colab": {
      "provenance": []
    },
    "kernelspec": {
      "name": "python3",
      "display_name": "Python 3"
    },
    "language_info": {
      "name": "python"
    }
  },
  "cells": [
    {
      "cell_type": "markdown",
      "source": [
        "# Advent of Code 2022: Day 13\n",
        "https://adventofcode.com/2022/day/13\n"
      ],
      "metadata": {
        "id": "e7qDcWW3JF8G"
      }
    },
    {
      "cell_type": "markdown",
      "source": [
        "## Part 1\n",
        "Find the sum of pair indices for pairs in the correct order "
      ],
      "metadata": {
        "id": "krtSVL3uJOQC"
      }
    },
    {
      "cell_type": "markdown",
      "source": [
        "### Get the data into a list of strings"
      ],
      "metadata": {
        "id": "Jc2_NXw63k49"
      }
    },
    {
      "cell_type": "code",
      "source": [
        "# Abstract Syntax Trees (ast) module,\n",
        "# allows parsing a string representing\n",
        "# a list to a list of the correct shape.  \n",
        "import ast\n",
        "\n",
        "myfile = open('input.txt', 'r')\n",
        "data = myfile.read()\n",
        "data_list = data.split('\\n')\n",
        "# Remove empty value at the bottom of the list.\n",
        "data_list = data_list[:-1]\n",
        "\n",
        "# Remove the empty values between pairs\n",
        "data_clean = [value for value in data_list if value != '']"
      ],
      "metadata": {
        "id": "xQfXHvPiJQrT"
      },
      "execution_count": 1,
      "outputs": []
    },
    {
      "cell_type": "markdown",
      "source": [
        "### Function for comparing two lists"
      ],
      "metadata": {
        "id": "repWP3KsjeYk"
      }
    },
    {
      "cell_type": "code",
      "source": [
        "def compare_lists(list1, list2):\n",
        "  \n",
        "  # Setup default value\n",
        "  order = -1\n",
        "  \n",
        "  # If list1 is empty it should \n",
        "  # come before list2, meaning \n",
        "  # the order is correct.\n",
        "  if not list1:\n",
        "    order = True\n",
        "    return order\n",
        "\n",
        "  # If list2 is empty it should \n",
        "  # come before list1, meaning \n",
        "  # the order is incorrect.\n",
        "  if not list2:\n",
        "    order = False\n",
        "    return order\n",
        "\n",
        "  # Go through each item in list1\n",
        "  for i in range(len(list1)):\n",
        "\n",
        "    # If i is at the length of list2, \n",
        "    # list2 is out of items, meaning \n",
        "    # the order is incorrect.\n",
        "    if i == len(list2):\n",
        "      order = False\n",
        "      return order\n",
        "\n",
        "    # Get the ith item\n",
        "    # from each list\n",
        "    l1_i = list1[i]\n",
        "    l2_i = list2[i]\n",
        "\n",
        "    # If the ith item from\n",
        "    # each list is a list\n",
        "    if isinstance(l1_i, list):\n",
        "      if isinstance(l2_i, list):\n",
        "        \n",
        "        # Recursively call the function\n",
        "        # on the ith items\n",
        "        order = compare_lists(l1_i, l2_i)\n",
        "        \n",
        "        # If the recursive call found the \n",
        "        # order was correct or incorrect,\n",
        "        # return the order. \n",
        "        if order == True or order == False:\n",
        "          return order\n",
        "      \n",
        "      # If the ith item from list1 is a list,\n",
        "      # but the ith item from list2 is not\n",
        "      elif(not isinstance(l2_i,list)):\n",
        "        \n",
        "        # Recursively call the function\n",
        "        # on the ith items, transforming\n",
        "        # the item from list2 to a list\n",
        "        order = compare_lists(l1_i, [l2_i])\n",
        "        \n",
        "        # If the recursive call found the \n",
        "        # order was correct or incorrect,\n",
        "        # return the order. \n",
        "        if order == True or order == False:\n",
        "          return order\n",
        "    \n",
        "    # If the ith item from list1 is not a \n",
        "    # list, but the ith item from list2 is\n",
        "    elif(isinstance(l2_i, list)):\n",
        "      \n",
        "      # Recursively call the function\n",
        "      # on the ith items, transforming\n",
        "      # the item from list1 to a list\n",
        "      order = compare_lists([l1_i], l2_i)\n",
        "      \n",
        "      # If the recursive call found the \n",
        "      # order was correct or incorrect,\n",
        "      # return the order. \n",
        "      if order == True or order == False:\n",
        "          return order\n",
        "\n",
        "    # If neither of the ith\n",
        "    # items are lists.\n",
        "    else:\n",
        "\n",
        "      # If the item from list1 is \n",
        "      # smaller than the item from \n",
        "      # list2, the order is correct.\n",
        "      if l1_i < l2_i:\n",
        "        order = True\n",
        "        return order\n",
        "      \n",
        "      # If the item from list1 is \n",
        "      # greater than the item from \n",
        "      # list2, the order is incorrect.\n",
        "      if l1_i > l2_i:\n",
        "        order = False\n",
        "        #print(7)\n",
        "        return order\n",
        "\n",
        "      \n",
        "      # If the current item is\n",
        "      # the last in list1.\n",
        "      if (i == len(list1)-1):\n",
        "        \n",
        "        # If the length of list2\n",
        "        # is greater than list1,\n",
        "        # the order is correct\n",
        "        if len(list2) > len(list1):\n",
        "          order = True\n",
        "          return order\n",
        "  \n",
        "  return order"
      ],
      "metadata": {
        "id": "diwAUutxkPsY"
      },
      "execution_count": 2,
      "outputs": []
    },
    {
      "cell_type": "markdown",
      "source": [
        "### Function to the sum of pair indices for pairs in the correct order "
      ],
      "metadata": {
        "id": "kAH-qa7HnxDb"
      }
    },
    {
      "cell_type": "code",
      "source": [
        "def sum_of_correct_pairs_index(data):\n",
        "  # Setup the iterator,\n",
        "  # pair index, and sum\n",
        "  i = 0\n",
        "  pair = 0\n",
        "  sum = 0\n",
        "  \n",
        "  # Go through the data\n",
        "  while i < (len(data)):\n",
        "    \n",
        "    # Get the two lists to compare\n",
        "    # and increment the pair index\n",
        "    list1 = ast.literal_eval(data[i])\n",
        "    list2 = ast.literal_eval(data[i+1])\n",
        "    pair += 1\n",
        "\n",
        "    # If the order of the two lists is \n",
        "    # correct, add to the sum. \n",
        "    if compare_lists(list1, list2) == True:\n",
        "      sum += pair\n",
        "    \n",
        "    # Increment the\n",
        "    # iterator\n",
        "    i += 2\n",
        "\n",
        "  return sum\n"
      ],
      "metadata": {
        "id": "1hPXXiUE-Z_U"
      },
      "execution_count": 3,
      "outputs": []
    },
    {
      "cell_type": "markdown",
      "source": [
        "### Execute the function"
      ],
      "metadata": {
        "id": "Jah2S4enoavf"
      }
    },
    {
      "cell_type": "code",
      "source": [
        "sum_of_correct_pairs_index(data_clean)"
      ],
      "metadata": {
        "colab": {
          "base_uri": "https://localhost:8080/"
        },
        "id": "MoqDS6tp-lkr",
        "outputId": "6615d9d5-8e61-463b-a7a4-96fccd7176ec"
      },
      "execution_count": 4,
      "outputs": [
        {
          "output_type": "execute_result",
          "data": {
            "text/plain": [
              "6240"
            ]
          },
          "metadata": {},
          "execution_count": 4
        }
      ]
    },
    {
      "cell_type": "markdown",
      "source": [
        "## Part 2\n",
        "Find the product of the two divider packets after sorting the data"
      ],
      "metadata": {
        "id": "yiKeMv3lJPM_"
      }
    },
    {
      "cell_type": "markdown",
      "source": [
        "### Function to sort the data"
      ],
      "metadata": {
        "id": "27ydT-qJomFq"
      }
    },
    {
      "cell_type": "code",
      "source": [
        "def sort_packets(data, divider_packets):\n",
        "  \n",
        "  # Append the divider packets\n",
        "  # to the data, if they are not\n",
        "  # already in the data.\n",
        "  for packet in divider_packets:\n",
        "    if packet not in data:\n",
        "      data.append(packet)\n",
        "\n",
        "  # Bubble sort algorithm to\n",
        "  # sort the data.\n",
        "  for i in range(len(data)-1, 0, -1):\n",
        "    for j in range(i):\n",
        "      list1 = ast.literal_eval(data[j])\n",
        "      list2 = ast.literal_eval(data[j+1])\n",
        "      if compare_lists(list1, list2) == False:\n",
        "        temp = data[j]\n",
        "        data[j] = data[j+1]\n",
        "        data[j+1] = temp"
      ],
      "metadata": {
        "id": "yeCl8dInJRPs"
      },
      "execution_count": 5,
      "outputs": []
    },
    {
      "cell_type": "markdown",
      "source": [
        "### Function to find the product of divider indeces"
      ],
      "metadata": {
        "id": "4uEBdXgLo2MX"
      }
    },
    {
      "cell_type": "code",
      "source": [
        "def divider_index_product(data, divider_packets):\n",
        "  # Get the indeces of \n",
        "  # the divider packets\n",
        "  dividers = []\n",
        "  for i in range(len(data)):\n",
        "    if data[i] in divider_packets:\n",
        "      dividers.append(i)\n",
        "  \n",
        "  # Calculate the\n",
        "  # product of the indeces.\n",
        "  prod = 1\n",
        "  for d in dividers:\n",
        "    prod = prod * (d+1)\n",
        "  return prod"
      ],
      "metadata": {
        "id": "DTU_FxSVXEtg"
      },
      "execution_count": 6,
      "outputs": []
    },
    {
      "cell_type": "markdown",
      "source": [
        "### Execute the function"
      ],
      "metadata": {
        "id": "sHu6VoClpC_L"
      }
    },
    {
      "cell_type": "code",
      "source": [
        "dividers = ['[[2]]','[[6]]']\n",
        "sort_packets(data_clean, dividers)\n",
        "divider_index_product(data_clean, dividers)"
      ],
      "metadata": {
        "colab": {
          "base_uri": "https://localhost:8080/"
        },
        "id": "CE0RxitHLigb",
        "outputId": "1b95e02c-e737-4252-d80a-36b77b9f08d9"
      },
      "execution_count": 7,
      "outputs": [
        {
          "output_type": "execute_result",
          "data": {
            "text/plain": [
              "23142"
            ]
          },
          "metadata": {},
          "execution_count": 7
        }
      ]
    }
  ]
}