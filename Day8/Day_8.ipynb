{
  "nbformat": 4,
  "nbformat_minor": 0,
  "metadata": {
    "colab": {
      "provenance": []
    },
    "kernelspec": {
      "name": "python3",
      "display_name": "Python 3"
    },
    "language_info": {
      "name": "python"
    }
  },
  "cells": [
    {
      "cell_type": "markdown",
      "source": [
        "# Advent of Code 2022: Day 8\n",
        "https://adventofcode.com/2022/day/8\n"
      ],
      "metadata": {
        "id": "e7qDcWW3JF8G"
      }
    },
    {
      "cell_type": "markdown",
      "source": [
        "## Part 1\n",
        "Find the number of visible trees in a square"
      ],
      "metadata": {
        "id": "krtSVL3uJOQC"
      }
    },
    {
      "cell_type": "markdown",
      "source": [
        "### Get the data into a list of strings"
      ],
      "metadata": {
        "id": "Jc2_NXw63k49"
      }
    },
    {
      "cell_type": "code",
      "source": [
        "myfile = open('input.txt', 'r')\n",
        "data = myfile.read()\n",
        "data_list = data.split('\\n') "
      ],
      "metadata": {
        "id": "xQfXHvPiJQrT"
      },
      "execution_count": 1,
      "outputs": []
    },
    {
      "cell_type": "markdown",
      "source": [
        "### Transform the list into an array of arrays"
      ],
      "metadata": {
        "id": "y0ZtG-ksil_i"
      }
    },
    {
      "cell_type": "code",
      "source": [
        "data_array2d = []\n",
        "for line in data_list:\n",
        "  data_array2d.append(list(map(int, list(line))))"
      ],
      "metadata": {
        "id": "vOUnDR3gYdjs"
      },
      "execution_count": 2,
      "outputs": []
    },
    {
      "cell_type": "markdown",
      "source": [
        "### Create function to count the number of visible trees"
      ],
      "metadata": {
        "id": "GNCvvdK3iqmS"
      }
    },
    {
      "cell_type": "code",
      "source": [
        "def count_visible(tree_array):\n",
        "\n",
        "  # Initialize count as the number of trees \n",
        "  # around the edge of the grid\n",
        "  count = (len(tree_array)*2 + len(tree_array[0])*2)-4\n",
        "\n",
        "  # Loop over all trees, excluding the edges. \n",
        "  for i in range(1,len(tree_array)-1):\n",
        "    for j in range(1,len(tree_array[0])-1):\n",
        "\n",
        "      # Obtain the value of the current tree\n",
        "      curr = tree_array[i][j]\n",
        "\n",
        "      # Initialize the step counters by\n",
        "      # taking one step in each direction\n",
        "      left = j-1\n",
        "      right = j+1\n",
        "      up = i-1\n",
        "      down = i+1\n",
        "      \n",
        "      # Walk to the left, if a tree of the \n",
        "      # same or greater height is encountered \n",
        "      # before reaching the edge, set the \n",
        "      # step counter to false.\n",
        "      while left > -1:\n",
        "        if tree_array[i][left] >= curr:\n",
        "          left = False\n",
        "          break\n",
        "        else:\n",
        "          left -= 1\n",
        "\n",
        "      # Walk to the right, if a tree of the \n",
        "      # same or greater height is encountered \n",
        "      # before reaching the edge, set the \n",
        "      # step counter to false.\n",
        "      while right < len(tree_array[0]):\n",
        "        if tree_array[i][right] >= curr:\n",
        "          right = False\n",
        "          break\n",
        "        else:\n",
        "          right +=1\n",
        "      \n",
        "      # Walk upwards, if a tree of the \n",
        "      # same or greater height is encountered \n",
        "      # before reaching the edge, set the \n",
        "      # step counter to false.\n",
        "      while up > -1:\n",
        "        if tree_array[up][j] >= curr:\n",
        "          up = False\n",
        "          break\n",
        "        else:\n",
        "          up -=1\n",
        "      \n",
        "      # Walk downwards, if a tree of the \n",
        "      # same or greater height is encountered \n",
        "      # before reaching the edge, set the \n",
        "      # step counter to false.\n",
        "      while down < len(tree_array):\n",
        "        if tree_array[down][j] >= curr:\n",
        "          down = False\n",
        "          break\n",
        "        else:\n",
        "          down +=1\n",
        "      \n",
        "      # If walking in every direction has\n",
        "      # returned false, the tree is not visible.\n",
        "      if(left == False and right == False and up == False and down == False):\n",
        "        continue\n",
        "      else:\n",
        "        count += 1\n",
        "  return count"
      ],
      "metadata": {
        "id": "YuCuLyF7YxYI"
      },
      "execution_count": 3,
      "outputs": []
    },
    {
      "cell_type": "markdown",
      "source": [
        "### Count the number of visible trees"
      ],
      "metadata": {
        "id": "n7XNL58O8Eby"
      }
    },
    {
      "cell_type": "code",
      "source": [
        "count_visible(data_array2d)"
      ],
      "metadata": {
        "id": "Vg6HQ-Us5wMu",
        "colab": {
          "base_uri": "https://localhost:8080/"
        },
        "outputId": "e3315e05-797d-4751-e16e-c93b87af22a6"
      },
      "execution_count": 4,
      "outputs": [
        {
          "output_type": "execute_result",
          "data": {
            "text/plain": [
              "1684"
            ]
          },
          "metadata": {},
          "execution_count": 4
        }
      ]
    },
    {
      "cell_type": "markdown",
      "source": [
        "## Part 2\n",
        "Find the highest scenic score of any tree"
      ],
      "metadata": {
        "id": "yiKeMv3lJPM_"
      }
    },
    {
      "cell_type": "code",
      "source": [
        "def max_view(tree_array):\n",
        "  \n",
        "  # Initialize array of each\n",
        "  # scenic score\n",
        "  views_array = []\n",
        "\n",
        "  # Loop over all trees\n",
        "  for i in range(len(tree_array)):\n",
        "    for j in range(len(tree_array[0])):\n",
        "\n",
        "      # Initialize a vector of the number\n",
        "      # of seen trees in each direction\n",
        "      views = [0,0,0,0]\n",
        "\n",
        "      # Obtain the value of the current tree\n",
        "      curr = tree_array[i][j]\n",
        "\n",
        "      # Initialize the step counters by\n",
        "      # taking one step in each direction\n",
        "      left = j-1\n",
        "      right = j+1\n",
        "      up = i-1\n",
        "      down = i+1\n",
        "\n",
        "      # Walk to the left and count each\n",
        "      # tree encountered. If a tree is\n",
        "      # of equal or greater height than\n",
        "      # the current tree, stop walking.\n",
        "      while left > -1:\n",
        "        if tree_array[i][left] >= curr:\n",
        "          views[0] += 1\n",
        "          break\n",
        "        else:\n",
        "          left -= 1\n",
        "          views[0] += 1\n",
        "\n",
        "      # Walk to the right and count each\n",
        "      # tree encountered. If a tree is\n",
        "      # of equal or greater height than\n",
        "      # the current tree, stop walking.\n",
        "      while right < len(tree_array[0]):\n",
        "        if tree_array[i][right] >= curr:\n",
        "          views[1] += 1\n",
        "          break\n",
        "        else:\n",
        "          right +=1\n",
        "          views[1] += 1\n",
        "      \n",
        "      # Walk upwards and count each\n",
        "      # tree encountered. If a tree is\n",
        "      # of equal or greater height than\n",
        "      # the current tree, stop walking.\n",
        "      while up > -1:\n",
        "        if tree_array[up][j] >= curr:\n",
        "          views[2] += 1\n",
        "          break\n",
        "        else:\n",
        "          up -=1\n",
        "          views[2] += 1\n",
        "\n",
        "      # Walk downwards and count each\n",
        "      # tree encountered. If a tree is\n",
        "      # of equal or greater height than\n",
        "      # the current tree, stop walking.\n",
        "      while down < len(tree_array):\n",
        "        if tree_array[down][j] >= curr:\n",
        "          views[3] += 1\n",
        "          break\n",
        "        else:\n",
        "          down +=1\n",
        "          views[3] += 1\n",
        "      \n",
        "      # Add the product of the number of trees\n",
        "      # encountered in each direction to the \n",
        "      # array of scenic scores.\n",
        "      views_array.append(views[0]*views[1]*views[2]*views[3])\n",
        "\n",
        "  # Return the maximum scenic score.\n",
        "  return max(views_array)"
      ],
      "metadata": {
        "id": "yeCl8dInJRPs"
      },
      "execution_count": 5,
      "outputs": []
    },
    {
      "cell_type": "markdown",
      "source": [
        "### Find the highest scenic score"
      ],
      "metadata": {
        "id": "482q1LgvrsdP"
      }
    },
    {
      "cell_type": "code",
      "source": [
        "max_view(data_array2d)"
      ],
      "metadata": {
        "colab": {
          "base_uri": "https://localhost:8080/"
        },
        "id": "ImQ9j5xalCeB",
        "outputId": "765f1602-861a-416c-b211-e438126431af"
      },
      "execution_count": 6,
      "outputs": [
        {
          "output_type": "execute_result",
          "data": {
            "text/plain": [
              "486540"
            ]
          },
          "metadata": {},
          "execution_count": 6
        }
      ]
    }
  ]
}