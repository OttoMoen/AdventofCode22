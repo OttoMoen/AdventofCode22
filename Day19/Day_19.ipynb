{
  "nbformat": 4,
  "nbformat_minor": 0,
  "metadata": {
    "colab": {
      "provenance": []
    },
    "kernelspec": {
      "name": "python3",
      "display_name": "Python 3"
    },
    "language_info": {
      "name": "python"
    }
  },
  "cells": [
    {
      "cell_type": "markdown",
      "source": [
        "# Advent of Code 2022: Day 19\n",
        "https://adventofcode.com/2022/day/19\n"
      ],
      "metadata": {
        "id": "e7qDcWW3JF8G"
      }
    },
    {
      "cell_type": "markdown",
      "source": [
        "## Part 1\n",
        "Get the maximum number of geodes in 24 minutes for each of a number of 'blueprints' with information on how much different resource-collecting robots cost to produce."
      ],
      "metadata": {
        "id": "krtSVL3uJOQC"
      }
    },
    {
      "cell_type": "markdown",
      "source": [
        "### Install the mip module"
      ],
      "metadata": {
        "id": "Jc2_NXw63k49"
      }
    },
    {
      "cell_type": "code",
      "source": [
        "pip install mip"
      ],
      "metadata": {
        "colab": {
          "base_uri": "https://localhost:8080/"
        },
        "id": "_kzn1TRt-Toa",
        "outputId": "9756d27e-4489-46f6-bedf-2b746ccc6e08"
      },
      "execution_count": 1,
      "outputs": [
        {
          "output_type": "stream",
          "name": "stdout",
          "text": [
            "Looking in indexes: https://pypi.org/simple, https://us-python.pkg.dev/colab-wheels/public/simple/\n",
            "Requirement already satisfied: mip in /usr/local/lib/python3.8/dist-packages (1.14.2)\n",
            "Requirement already satisfied: cffi==1.15.0 in /usr/local/lib/python3.8/dist-packages (from mip) (1.15.0)\n",
            "Requirement already satisfied: pycparser in /usr/local/lib/python3.8/dist-packages (from cffi==1.15.0->mip) (2.21)\n"
          ]
        }
      ]
    },
    {
      "cell_type": "markdown",
      "source": [
        "### Get the data into a list of strings"
      ],
      "metadata": {
        "id": "s0TKXrLGCJY1"
      }
    },
    {
      "cell_type": "code",
      "source": [
        "myfile = open('input.txt', 'r')\n",
        "data = myfile.read()\n",
        "data_list = data.split('\\n')\n",
        "# Remove empty value at the bottom of the list.\n",
        "data_list = data_list[:-1]"
      ],
      "metadata": {
        "id": "xQfXHvPiJQrT"
      },
      "execution_count": 2,
      "outputs": []
    },
    {
      "cell_type": "markdown",
      "source": [
        "### Function to preprocess the data"
      ],
      "metadata": {
        "id": "TDKup3O9CMTm"
      }
    },
    {
      "cell_type": "code",
      "source": [
        "def preprocess_data(data):\n",
        "  \n",
        "  # Setup output list\n",
        "  output_list = []\n",
        "  \n",
        "  # Go through each blueprint\n",
        "  # in the data.\n",
        "  for item in data:\n",
        "    \n",
        "    # Setup temporary list to hold \n",
        "    # the costs for a blueprint\n",
        "    temp_list = []\n",
        "    \n",
        "    # Go through each robot in a blueprint\n",
        "    item_split = item.lstrip('Blueprint ').split('.')[:-1]\n",
        "    for inner_item in item_split:\n",
        "      \n",
        "      # Setup temporary list to hold\n",
        "      # the cost for a single robot.\n",
        "      inner_temp_list = []\n",
        "      \n",
        "      # Go through each word in the \n",
        "      # description of a robot.\n",
        "      inner_split = inner_item[1:].split(' ')\n",
        "      for c in inner_split:\n",
        "        \n",
        "        # If the word is a digit, convert it\n",
        "        # to a number and append it to the list.\n",
        "        if c.isdigit():\n",
        "          inner_temp_list.append(int(c))\n",
        "      \n",
        "      # Append the cost for a robot\n",
        "      # to the blueprint list.\n",
        "      temp_list.append(inner_temp_list)\n",
        "    \n",
        "    # Append the blueprint list\n",
        "    # to the output list.\n",
        "    output_list.append(temp_list)\n",
        "  return output_list"
      ],
      "metadata": {
        "id": "Z7BUoNcqoikD"
      },
      "execution_count": 3,
      "outputs": []
    },
    {
      "cell_type": "markdown",
      "source": [
        "### Function to calculate the maximum number of geodes for every blueprint"
      ],
      "metadata": {
        "id": "cyky2ehUDX-T"
      }
    },
    {
      "cell_type": "code",
      "source": [
        "# Import required classes and functions\n",
        "from mip import Model, xsum, maximize, BINARY\n",
        "\n",
        "def sum_quality_levels(data, minutes, part2 = False):\n",
        "\n",
        "  # Preprocess the data and setup\n",
        "  # the sum.\n",
        "  blueprints = preprocess_data(data)\n",
        "  quality_sum = 0\n",
        "  \n",
        "  # Get a range object for \n",
        "  # the number of minutes.\n",
        "  I = range(minutes)\n",
        "  \n",
        "  # For part 2, only get the first three\n",
        "  # blueprints, and set the counter to 1.\n",
        "  if part2 == True:\n",
        "    blueprints = blueprints[:3]\n",
        "    quality_sum = 1\n",
        "  \n",
        "  # Go through every blueprint\n",
        "  for b in range(len(blueprints)):\n",
        "    \n",
        "    # Get the blueprint and the\n",
        "    # cost for every robot.\n",
        "    blueprint = blueprints[b]\n",
        "    r1_cost = blueprint[0]\n",
        "    r2_cost = blueprint[1]\n",
        "    r3_cost = blueprint[2]\n",
        "    r4_cost = blueprint[3]\n",
        "\n",
        "    # Initialize the optimizer model\n",
        "    m = Model(\"geode\")\n",
        "\n",
        "    # Add the variables to optimize to the model. In this case it is\n",
        "    # a 2d array where a row corresponds to the robot type and the\n",
        "    # columns corresponds to the current minute. The values will be\n",
        "    # 1 if a robot of a type was produced in the current minute, and\n",
        "    # 0 otherwise. \n",
        "    x = [[m.add_var(var_type=BINARY) for i in I] for j in range(4)]\n",
        "\n",
        "    # The objective is to optimize the current function, which\n",
        "    # says that every geode robot (robots of type 4) produce 1\n",
        "    # geode for every minute they are active, except the minute \n",
        "    # they were produced. \n",
        "    m.objective = maximize(xsum((minutes-1-i) * x[3][i] for i in I))\n",
        "\n",
        "    # Add a constraint to the model, which says that in the first\n",
        "    # minute, we only have one robot of type 1.\n",
        "    m += x[0][0] == 1\n",
        "\n",
        "    # Add a constraint to the model for every minute, which \n",
        "    # says that for a given minute, only a single robot \n",
        "    # of a single type can be produced. \n",
        "    for i in I:\n",
        "      m += (x[0][i]+x[1][i]+x[2][i]+x[3][i]) <=1\n",
        "\n",
        "    # Add three constraints to the model for every minute, except\n",
        "    # the first and last minutes, that deal with the costs of the robots.\n",
        "    for i in range(1,minutes-1):\n",
        "      \n",
        "      # Every robot requires ore to produce, meaning that for a given\n",
        "      # minute, the combined ore cost of every active robot cannot be\n",
        "      # greater than the amount of ore that has so far been produced. \n",
        "      m += -xsum(x[0][j]*r1_cost[0] for j in range(1,i+1)) - xsum(x[1][j]*r2_cost[0] for j in range(i+1)) - xsum(x[2][j]*r3_cost[0] for j in range(i+1)) - xsum(x[3][j]*r4_cost[0] for j in range(i+1)) + xsum((i-j-1)*x[0][j] for j in range(i))+1 >= 0\n",
        "      \n",
        "      # The robot of type 3 costs clay to produce, meaning that for a \n",
        "      # given minute, the combined clay cost of every active robot of\n",
        "      # type 3 cannot be greater than the amount of clay that has so\n",
        "      # far been produced.\n",
        "      m += -xsum(x[2][j]*r3_cost[1] for j in range(i+1)) + xsum((i-j-1)*x[1][j] for j in range(i)) >= 0\n",
        "      \n",
        "      # The robot of type 4 costs obsidian to produce, meaning that for \n",
        "      # a given minute, the combined obsidian cost of every active robot \n",
        "      # of type 4 cannot be greater than the amount of obsidian that has \n",
        "      # so far been produced.\n",
        "      m += -xsum(x[3][j]*r4_cost[1] for j in range(i+1)) + xsum((i-j-1)*x[2][j] for j in range(i)) >= 0\n",
        "\n",
        "    # Optimize the objective\n",
        "    m.optimize()\n",
        "    \n",
        "    # Get the number of geodes\n",
        "    # produces for the blueprint.\n",
        "    quality = sum((minutes-1-i) * x[3][i].x for i in I)\n",
        "    \n",
        "    # Add to or multiply the sum based\n",
        "    # on the part. \n",
        "    if part2 == True:\n",
        "      quality_sum = quality_sum * quality\n",
        "    else:\n",
        "      quality_sum += (b+1)*quality\n",
        "  return int(quality_sum)"
      ],
      "metadata": {
        "id": "z46n_Pht-mhg"
      },
      "execution_count": 4,
      "outputs": []
    },
    {
      "cell_type": "code",
      "source": [
        "sum_quality_levels(data_list, 24)"
      ],
      "metadata": {
        "colab": {
          "base_uri": "https://localhost:8080/"
        },
        "id": "NvUMO_gozHvh",
        "outputId": "92b76a03-e5db-4d78-fce1-be13c1a9dd87"
      },
      "execution_count": 5,
      "outputs": [
        {
          "output_type": "execute_result",
          "data": {
            "text/plain": [
              "1427"
            ]
          },
          "metadata": {},
          "execution_count": 5
        }
      ]
    },
    {
      "cell_type": "markdown",
      "source": [
        "## Part 2\n",
        "Get the maximum number of geodes in 32 minutes, for just the first 3 blueprints."
      ],
      "metadata": {
        "id": "yiKeMv3lJPM_"
      }
    },
    {
      "cell_type": "code",
      "source": [
        "sum_quality_levels(data_list, 32, True)"
      ],
      "metadata": {
        "colab": {
          "base_uri": "https://localhost:8080/"
        },
        "id": "4JEvC3Kwzqd3",
        "outputId": "2161e78f-2ecd-46ce-903f-8c89df29f57e"
      },
      "execution_count": 6,
      "outputs": [
        {
          "output_type": "execute_result",
          "data": {
            "text/plain": [
              "4400"
            ]
          },
          "metadata": {},
          "execution_count": 6
        }
      ]
    }
  ]
}