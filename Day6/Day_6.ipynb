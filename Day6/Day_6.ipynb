{
  "nbformat": 4,
  "nbformat_minor": 0,
  "metadata": {
    "colab": {
      "provenance": []
    },
    "kernelspec": {
      "name": "python3",
      "display_name": "Python 3"
    },
    "language_info": {
      "name": "python"
    }
  },
  "cells": [
    {
      "cell_type": "markdown",
      "source": [
        "# Advent of Code 2022: Day 6\n",
        "https://adventofcode.com/2022/day/6\n"
      ],
      "metadata": {
        "id": "e7qDcWW3JF8G"
      }
    },
    {
      "cell_type": "markdown",
      "source": [
        "## Part 1\n",
        "Find the start-of-packet marker (4 unique characters in a row)"
      ],
      "metadata": {
        "id": "krtSVL3uJOQC"
      }
    },
    {
      "cell_type": "markdown",
      "source": [
        "Get the data into a string"
      ],
      "metadata": {
        "id": "Jc2_NXw63k49"
      }
    },
    {
      "cell_type": "code",
      "source": [
        "myfile = open('input.txt', 'r')\n",
        "data = myfile.read()"
      ],
      "metadata": {
        "id": "xQfXHvPiJQrT"
      },
      "execution_count": 1,
      "outputs": []
    },
    {
      "cell_type": "markdown",
      "source": [
        "Find the position of the 4th character in the start-of-packet marker"
      ],
      "metadata": {
        "id": "n7XNL58O8Eby"
      }
    },
    {
      "cell_type": "code",
      "source": [
        "def find_marker(input, num):\n",
        "  \n",
        "  for i in range(len(input)-num):\n",
        "\n",
        "    # If the length of set (only unique items)\n",
        "    # is equal to the desired length, return\n",
        "    # the position at the end of this set.\n",
        "    if len(set(input[i:(i+num)])) == num:\n",
        "      return i+num"
      ],
      "metadata": {
        "id": "Vg6HQ-Us5wMu"
      },
      "execution_count": 16,
      "outputs": []
    },
    {
      "cell_type": "code",
      "source": [
        "find_marker(data, 4)"
      ],
      "metadata": {
        "colab": {
          "base_uri": "https://localhost:8080/"
        },
        "id": "SN1x3xOhBVTS",
        "outputId": "0986c5bb-f98d-465f-f508-47e9fbd8f597"
      },
      "execution_count": 17,
      "outputs": [
        {
          "output_type": "execute_result",
          "data": {
            "text/plain": [
              "1109"
            ]
          },
          "metadata": {},
          "execution_count": 17
        }
      ]
    },
    {
      "cell_type": "markdown",
      "source": [
        "## Part 2\n",
        "Find the start-of-message marker (14 unique characters in a row)"
      ],
      "metadata": {
        "id": "yiKeMv3lJPM_"
      }
    },
    {
      "cell_type": "code",
      "source": [
        "find_marker(data, 14)"
      ],
      "metadata": {
        "id": "yeCl8dInJRPs",
        "colab": {
          "base_uri": "https://localhost:8080/"
        },
        "outputId": "f952a411-a82a-4c72-e228-2b7b6a822bad"
      },
      "execution_count": 18,
      "outputs": [
        {
          "output_type": "execute_result",
          "data": {
            "text/plain": [
              "3965"
            ]
          },
          "metadata": {},
          "execution_count": 18
        }
      ]
    }
  ]
}