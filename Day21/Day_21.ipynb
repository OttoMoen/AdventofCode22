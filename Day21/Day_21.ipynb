{
  "nbformat": 4,
  "nbformat_minor": 0,
  "metadata": {
    "colab": {
      "provenance": []
    },
    "kernelspec": {
      "name": "python3",
      "display_name": "Python 3"
    },
    "language_info": {
      "name": "python"
    }
  },
  "cells": [
    {
      "cell_type": "markdown",
      "source": [
        "# Advent of Code 2022: Day 21\n",
        "https://adventofcode.com/2022/day/21\n"
      ],
      "metadata": {
        "id": "e7qDcWW3JF8G"
      }
    },
    {
      "cell_type": "markdown",
      "source": [
        "## Part 1\n",
        "Calculate the value of the 'root' equation, which recursively requires other equations to be calculated."
      ],
      "metadata": {
        "id": "krtSVL3uJOQC"
      }
    },
    {
      "cell_type": "markdown",
      "source": [
        "### Get the data into a list of strings"
      ],
      "metadata": {
        "id": "Jc2_NXw63k49"
      }
    },
    {
      "cell_type": "code",
      "source": [
        "myfile = open('input.txt', 'r')\n",
        "data = myfile.read()\n",
        "data_list = data.split('\\n')\n",
        "# Remove empty value at the bottom of the list.\n",
        "data_list = data_list[:-1]"
      ],
      "metadata": {
        "id": "xQfXHvPiJQrT"
      },
      "execution_count": 201,
      "outputs": []
    },
    {
      "cell_type": "markdown",
      "source": [
        "### Function to preprocess the data into a dictionary"
      ],
      "metadata": {
        "id": "yxF-9xLGFNmG"
      }
    },
    {
      "cell_type": "code",
      "source": [
        "def preprocess_data(data):\n",
        "  output_dict = {}\n",
        "  for item in data:\n",
        "    \n",
        "    split = item.split(': ')\n",
        "    \n",
        "    # If the second item in the split\n",
        "    # is a digit, then create an entry\n",
        "    # with the first item as key and\n",
        "    # the second item, converted to \n",
        "    # integer, as value. \n",
        "    if split[1].isdigit():\n",
        "      output_dict[split[0]] = int(split[1])\n",
        "    \n",
        "    # Otherwise the second item should\n",
        "    # consist of three parts; two keys\n",
        "    # and an operator. Make these into\n",
        "    # a list and make an entry with\n",
        "    # the first item as key and the\n",
        "    # list as value.\n",
        "    else:\n",
        "      split2 = split[1].split(' ')\n",
        "      output_dict[split[0]] = split2\n",
        "\n",
        "  return output_dict"
      ],
      "metadata": {
        "id": "oi4jxvrgvFMS"
      },
      "execution_count": 202,
      "outputs": []
    },
    {
      "cell_type": "code",
      "source": [
        "data_dict = preprocess_data(data_list)"
      ],
      "metadata": {
        "id": "wXRed5DBvsuA"
      },
      "execution_count": 203,
      "outputs": []
    },
    {
      "cell_type": "markdown",
      "source": [
        "### Function to find the number at a given key"
      ],
      "metadata": {
        "id": "E_uubwO4F-JM"
      }
    },
    {
      "cell_type": "code",
      "source": [
        "def get_number(data_dict, key):\n",
        "  item = data_dict[key]\n",
        "  \n",
        "  # If the item is an int,\n",
        "  # return it.\n",
        "  if isinstance(item, int):\n",
        "    return item\n",
        "  \n",
        "  # Otherwise, the item is a list of two keys and\n",
        "  # and an operator. Call the function recursively\n",
        "  # using the elements in the list.\n",
        "  else:\n",
        "    if item[1] == '+':\n",
        "      return get_number(data_dict, item[0]) + get_number(data_dict, item[2])\n",
        "    elif item[1] == '-':\n",
        "      return get_number(data_dict, item[0]) - get_number(data_dict, item[2])\n",
        "    elif item[1] == '*':\n",
        "      return get_number(data_dict, item[0]) * get_number(data_dict, item[2])\n",
        "    elif item[1] == '/':\n",
        "      return get_number(data_dict, item[0]) // get_number(data_dict, item[2])"
      ],
      "metadata": {
        "id": "Ji235g4twMhu"
      },
      "execution_count": 204,
      "outputs": []
    },
    {
      "cell_type": "code",
      "source": [
        "get_number(data_dict, 'root')"
      ],
      "metadata": {
        "colab": {
          "base_uri": "https://localhost:8080/"
        },
        "id": "JWlAldUZwxXj",
        "outputId": "2f7cd4a5-f1b0-4e68-9d6d-570ada41da2c"
      },
      "execution_count": 205,
      "outputs": [
        {
          "output_type": "execute_result",
          "data": {
            "text/plain": [
              "155708040358220"
            ]
          },
          "metadata": {},
          "execution_count": 205
        }
      ]
    },
    {
      "cell_type": "markdown",
      "source": [
        "### "
      ],
      "metadata": {
        "id": "n7XNL58O8Eby"
      }
    },
    {
      "cell_type": "markdown",
      "source": [
        "## Part 2\n"
      ],
      "metadata": {
        "id": "yiKeMv3lJPM_"
      }
    },
    {
      "cell_type": "markdown",
      "source": [
        "### Function to get all the numbers at and before a given key"
      ],
      "metadata": {
        "id": "KtuKeOZ1HKTl"
      }
    },
    {
      "cell_type": "code",
      "source": [
        "def get_all_numbers(data_dict, key, path_dict):\n",
        "  item = data_dict[key]\n",
        "  \n",
        "  # If the item is an int,\n",
        "  # return it and the\n",
        "  # path dictionary.\n",
        "  if isinstance(item, int):\n",
        "    path_dict[key] = item\n",
        "    return item, path_dict\n",
        "  \n",
        "  # Otherwise, the item is a list of two keys and\n",
        "  # and an operator. Call the function recursively\n",
        "  # using the elements in the list. Keep updating\n",
        "  # the path dictionary. \n",
        "  else:\n",
        "    if item[1] == '+':\n",
        "      n1, path_dict = get_all_numbers(data_dict, item[0],path_dict)\n",
        "      n2, path_dict = get_all_numbers(data_dict, item[2],path_dict)\n",
        "      path_dict[key] = n1+n2\n",
        "      return n1+n2, path_dict\n",
        "    elif item[1] == '-':\n",
        "      n1, path_dict = get_all_numbers(data_dict, item[0],path_dict)\n",
        "      n2, path_dict = get_all_numbers(data_dict, item[2],path_dict)\n",
        "      path_dict[key] = n1-n2\n",
        "      return n1-n2, path_dict\n",
        "    elif item[1] == '*':\n",
        "      n1, path_dict = get_all_numbers(data_dict, item[0],path_dict)\n",
        "      n2, path_dict = get_all_numbers(data_dict, item[2],path_dict)\n",
        "      path_dict[key] = n1*n2\n",
        "      return n1*n2, path_dict\n",
        "    elif item[1] == '/':\n",
        "      n1, path_dict = get_all_numbers(data_dict, item[0],path_dict)\n",
        "      n2, path_dict = get_all_numbers(data_dict, item[2],path_dict)\n",
        "      path_dict[key] = n1/n2\n",
        "      return n1/n2, path_dict"
      ],
      "metadata": {
        "id": "ZmHIS9qO12Dc"
      },
      "execution_count": 206,
      "outputs": []
    },
    {
      "cell_type": "markdown",
      "source": [
        "### Function to get the path between two keys"
      ],
      "metadata": {
        "id": "7Z3YdlXzHg4u"
      }
    },
    {
      "cell_type": "code",
      "source": [
        "def get_path(data_dict, start, goal='root'):\n",
        "  path = []\n",
        "  curr = start\n",
        "  while curr != goal:\n",
        "    \n",
        "    # Go through the dictionary and find the\n",
        "    # key which has curr in its list.\n",
        "    # Append curr to the path list and set\n",
        "    # curr to the found key. Iterate until\n",
        "    # reaching the goal.\n",
        "    for key in data_dict:\n",
        "      if isinstance(data_dict[key], list):\n",
        "        if curr in data_dict[key]:\n",
        "          path.append(curr)\n",
        "          curr = key\n",
        "  \n",
        "  # Return the path in\n",
        "  # reverse order.\n",
        "  path.reverse()\n",
        "  return path"
      ],
      "metadata": {
        "id": "ZS-MOjT3DPFC"
      },
      "execution_count": 207,
      "outputs": []
    },
    {
      "cell_type": "code",
      "source": [
        "def change_start(data_dict, start, goal='root'):\n",
        "  \n",
        "  # Get the dictionary of all the values\n",
        "  # up to the goal key, as well as the \n",
        "  # path from the start to the goal.\n",
        "  path_dict = {}\n",
        "  n, path_dict = get_all_numbers(data_dict, goal, path_dict)\n",
        "  path = get_path(data_dict, start, goal)\n",
        "\n",
        "  # Set curr to the list of the\n",
        "  # first key in the path list, which\n",
        "  # should be directly before the goal.\n",
        "  # Then set the goal to be the value of\n",
        "  # the key in 'goal' which is not in the\n",
        "  # path list. \n",
        "  curr = data_dict[path[0]]\n",
        "  if path[0] == data_dict[goal][0]:\n",
        "    goal = path_dict[data_dict[goal][2]]\n",
        "  else:\n",
        "    goal = path_dict[data_dict[goal][0]]\n",
        "\n",
        "  for i in range(1, len(path)):\n",
        "    \n",
        "    # If element 0 in curr is in\n",
        "    # the path list, this item needs\n",
        "    # to change. If its not in the \n",
        "    # list it should be kept fixed.\n",
        "    # Also keep track of this order \n",
        "    # for the minus operator.\n",
        "    if curr[0] in path:\n",
        "      change = path_dict[curr[0]]\n",
        "      order = 0\n",
        "      fixed = path_dict[curr[2]]\n",
        "    else: \n",
        "      change = path_dict[curr[2]]\n",
        "      order = 1\n",
        "      fixed = path_dict[curr[0]]\n",
        "    \n",
        "    # Change the value depending\n",
        "    # on the operator. \n",
        "    if curr[1] == '+':\n",
        "      change = goal-fixed\n",
        "    elif curr[1] == '-':\n",
        "      if order == 0:\n",
        "        change = goal+fixed\n",
        "      elif order ==1:\n",
        "        change = -(goal-fixed)\n",
        "    elif curr[1] == '*':\n",
        "      change = goal/fixed\n",
        "    elif curr[1] == '/':\n",
        "      change = goal*fixed\n",
        "\n",
        "    # Update the current to the next\n",
        "    # element in the path list, and\n",
        "    # update the goal to the changed\n",
        "    # value.\n",
        "    curr = data_dict[path[i]]\n",
        "    goal = change\n",
        "  return int(goal)"
      ],
      "metadata": {
        "id": "LnwkMwRJDfPg"
      },
      "execution_count": 208,
      "outputs": []
    },
    {
      "cell_type": "code",
      "source": [
        "change_start(data_dict, 'humn')"
      ],
      "metadata": {
        "colab": {
          "base_uri": "https://localhost:8080/"
        },
        "id": "8qNt9dbnEPBz",
        "outputId": "b6ed80bb-68a9-4222-dc83-cb47ec5eccf3"
      },
      "execution_count": 209,
      "outputs": [
        {
          "output_type": "execute_result",
          "data": {
            "text/plain": [
              "3342154812537"
            ]
          },
          "metadata": {},
          "execution_count": 209
        }
      ]
    }
  ]
}