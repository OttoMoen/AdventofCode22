{
  "nbformat": 4,
  "nbformat_minor": 0,
  "metadata": {
    "colab": {
      "provenance": []
    },
    "kernelspec": {
      "name": "python3",
      "display_name": "Python 3"
    },
    "language_info": {
      "name": "python"
    }
  },
  "cells": [
    {
      "cell_type": "markdown",
      "source": [
        "# Advent of Code 2022: Day 16\n",
        "https://adventofcode.com/2022/day/16\n"
      ],
      "metadata": {
        "id": "e7qDcWW3JF8G"
      }
    },
    {
      "cell_type": "markdown",
      "source": [
        "## Part 1\n",
        "Release the most amount of pressure in 30 minutes"
      ],
      "metadata": {
        "id": "krtSVL3uJOQC"
      }
    },
    {
      "cell_type": "markdown",
      "source": [
        "### Get the data into a list of strings"
      ],
      "metadata": {
        "id": "Jc2_NXw63k49"
      }
    },
    {
      "cell_type": "code",
      "source": [
        "myfile = open('input.txt', 'r')\n",
        "data = myfile.read()\n",
        "data_list = data.split('\\n')\n",
        "# Remove empty value at the bottom of the list.\n",
        "data_list = data_list[:-1]"
      ],
      "metadata": {
        "id": "xQfXHvPiJQrT"
      },
      "execution_count": 44,
      "outputs": []
    },
    {
      "cell_type": "markdown",
      "source": [
        "### Dijkstra algorithm to find the shortest path from each room to every other room"
      ],
      "metadata": {
        "id": "n7XNL58O8Eby"
      }
    },
    {
      "cell_type": "code",
      "source": [
        "def dijkstra(data, start, goal):\n",
        "  \n",
        "  # Setup lists and dictionaries for\n",
        "  # performing the shortest-path search.\n",
        "  exploreQ = []\n",
        "  exploreQ.append(start)\n",
        "\n",
        "  prev = {}\n",
        "  prev[start] = None\n",
        "\n",
        "  dist = {}\n",
        "  dist[start] = 0\n",
        "\n",
        "  # Perform the search. Save the shortest\n",
        "  # distance to the starting room. \n",
        "  while exploreQ:\n",
        "    curr = exploreQ.pop(0)\n",
        "    if curr == goal:\n",
        "      break\n",
        "    \n",
        "    for neighbor in data[curr][1]:\n",
        "      new_dist = dist[curr] + 1\n",
        "      if (neighbor not in dist.keys()) or (new_dist < dist[neighbor]):\n",
        "        dist[neighbor] = new_dist\n",
        "        exploreQ.append(neighbor)\n",
        "        prev[neighbor] = curr\n",
        "  return dist"
      ],
      "metadata": {
        "id": "eekLFHFs5JBI"
      },
      "execution_count": 45,
      "outputs": []
    },
    {
      "cell_type": "markdown",
      "source": [
        "### Function to preprocess the data"
      ],
      "metadata": {
        "id": "iD2r9Jq1Jffo"
      }
    },
    {
      "cell_type": "code",
      "source": [
        "def preprocess_data(data):\n",
        "  \n",
        "  # Setup dictionaries to return.\n",
        "  output_dict = {}\n",
        "  dists = {}\n",
        "  valves = []\n",
        "\n",
        "  # Go through each valve and parse\n",
        "  # the text information into the\n",
        "  # desired format, where the name\n",
        "  # of the valve is the key and the\n",
        "  # value is a list, where the first \n",
        "  # element is its flow value and the\n",
        "  # second element is a list of valves \n",
        "  # that can be reached from this valve.\n",
        "  for item in data:\n",
        "    split = item.split('; ')\n",
        "    valve = split[0].split(' ')[1]\n",
        "    flow = int(split[0].split('=')[1])\n",
        "    tunnels = [] \n",
        "    for v in split[1].split(' ')[4:]:\n",
        "      tunnels.append(v.rstrip(','))\n",
        "\n",
        "    valves.append(valve)\n",
        "    output_dict[valve] = [flow, tunnels]\n",
        "\n",
        "  # Go through every vavle, if it is\n",
        "  # the starting valve 'AA' or if it \n",
        "  # has a positive flow value, and\n",
        "  # calculate the shortest path to \n",
        "  # every other valve that has a \n",
        "  # positive flow value. \n",
        "  for v in valves:\n",
        "    start = v\n",
        "    if v == 'AA' or output_dict[v][0] > 0:\n",
        "      dists[v] = {}\n",
        "      for g in valves:\n",
        "        if (g == 'AA' and g!=v) or (g != v and output_dict[g][0] >0):\n",
        "          dists[v][g] = dijkstra(output_dict, v, g)[g]\n",
        "        \n",
        "  return dists, output_dict"
      ],
      "metadata": {
        "id": "Vg6HQ-Us5wMu"
      },
      "execution_count": 46,
      "outputs": []
    },
    {
      "cell_type": "code",
      "source": [
        "dists, data_dict = preprocess_data(data_list)"
      ],
      "metadata": {
        "id": "3Wkn_FQ7gl3Y"
      },
      "execution_count": 47,
      "outputs": []
    },
    {
      "cell_type": "markdown",
      "source": [
        "### Function to setup the minutes array"
      ],
      "metadata": {
        "id": "C2hWAyK3NtUw"
      }
    },
    {
      "cell_type": "code",
      "source": [
        "def setup_minutes(dists, n_minutes):\n",
        "  # Setup a list of empty lists\n",
        "  # with a length equal to the \n",
        "  # number of minutes.\n",
        "  minutes = []\n",
        "  for i in range(n_minutes):\n",
        "    minutes.append([])\n",
        "  \n",
        "  # For each minute, add a 2d-array\n",
        "  # with rows equal to the number of \n",
        "  # positive valves and columns equal\n",
        "  # to 2 to the power of the number\n",
        "  # of positive valves. Make\n",
        "  # all entries -inf.\n",
        "  for i in range(len(minutes)):\n",
        "    temp_list = []\n",
        "    for j in range(len(dists)):\n",
        "      inner_temp_list = []\n",
        "      for l in range(2**(len(dists))):\n",
        "        inner_temp_list.append(float('-inf'))\n",
        "      temp_list.append(inner_temp_list)\n",
        "    minutes[i] = (temp_list)\n",
        "  \n",
        "  # Starting at valve 'AA' go to \n",
        "  # each of the positive valves.\n",
        "  # Update the minutes table with\n",
        "  # 0 to represent that we are now\n",
        "  # in that valve. Which minute to\n",
        "  # update depends on the distance\n",
        "  # from AA to a valve.\n",
        "  valves = list(dists.keys())\n",
        "  for j in range(len(valves)):\n",
        "    if valves[j]!='AA':\n",
        "      dist = dists['AA'][valves[j]]\n",
        "      minutes[dist][j][1<<j] = 0\n",
        "  return minutes"
      ],
      "metadata": {
        "id": "IIvOz4aHLfm8"
      },
      "execution_count": 48,
      "outputs": []
    },
    {
      "cell_type": "markdown",
      "source": [
        "### Function to get the current pressure flow, which depends on how many valves are currently open, represented by l"
      ],
      "metadata": {
        "id": "w2hxiTtMXON1"
      }
    },
    {
      "cell_type": "code",
      "source": [
        "def get_pressure(data_dict, l, valves):\n",
        "  out_rate = 0\n",
        "  for j in range(len(valves)):\n",
        "    if (1<<j & l !=0):\n",
        "      out_rate += data_dict[valves[j]][0] \n",
        "  return out_rate"
      ],
      "metadata": {
        "id": "usbNUQw6M695"
      },
      "execution_count": 49,
      "outputs": []
    },
    {
      "cell_type": "markdown",
      "source": [
        "### Function to fill the minutes table with the total pressure for every possible path."
      ],
      "metadata": {
        "id": "E0_o6zRlXik0"
      }
    },
    {
      "cell_type": "code",
      "source": [
        "def calculate_paths(dists, data_dict, n_minutes):\n",
        "  # Setup the minutes array and get a \n",
        "  # list of the positive valves.\n",
        "  minutes = setup_minutes(dists, n_minutes)\n",
        "  valves = list(dists.keys())\n",
        "  \n",
        "  # Go through every minute, skipping\n",
        "  # the first minute as nothing will\n",
        "  # be turned on at this point. \n",
        "  for i in range(len(minutes)):\n",
        "    if i == 0:\n",
        "      continue\n",
        "    else:\n",
        "      \n",
        "      # Go through every state (l) which corresponds\n",
        "      # to the different permutations of valves being\n",
        "      # turned on for every valve (j).\n",
        "      for j in range(len(minutes[0])):\n",
        "        for l in range(len(minutes[0][0])):\n",
        "          \n",
        "          # If the value at the same j and l for the previous\n",
        "          # minute was -inf, this valve/state combination is\n",
        "          # not possible to achieve, so skip it.\n",
        "          if minutes[i-1][j][l] == float('-inf') and minutes[i][j][l] == float('-inf'):\n",
        "            continue\n",
        "          \n",
        "          # Calculate the current pressure flow, calculate\n",
        "          # the total and update the minutes list, unless\n",
        "          # the value there is already equal or greater.\n",
        "          temp_p = get_pressure(data_dict, l, valves)\n",
        "          total_p = temp_p + minutes[i-1][j][l]\n",
        "          if total_p > minutes[i][j][l]:\n",
        "            minutes[i][j][l] =  total_p    \n",
        "          \n",
        "          # If the valves represented by\n",
        "          # l are not on in the states\n",
        "          # included in j, then we are\n",
        "          # not currently at one of \n",
        "          # these valves, which means the\n",
        "          # following part can be skipped. \n",
        "          if (1<<j & l) == 0:\n",
        "            continue \n",
        "          \n",
        "          # Go through the other positive\n",
        "          # valves. \n",
        "          for ij in range(len(valves)):\n",
        "            \n",
        "            # If a valve is already\n",
        "            # on, we do not need to visit \n",
        "            # it again.\n",
        "            if 1<<ij & l !=0:\n",
        "              continue\n",
        "\n",
        "            # Otherwise, move from the current\n",
        "            # valve to the other valves. Update\n",
        "            # the minutes table depending on\n",
        "            # how many minutes it takes to get\n",
        "            # there, and what the current pressure\n",
        "            # flow is. \n",
        "            if valves[j] != valves[ij]:\n",
        "              dist = dists[valves[j]][valves[ij]]+1\n",
        "              if i+dist <= (n_minutes-1):\n",
        "                c = minutes[i][j][l] + temp_p*dist\n",
        "                if c > minutes[i+dist][ij][l|(1<<ij)]:\n",
        "                  minutes[i+dist][ij][l|(1<<ij)] = c  \n",
        "  return minutes"
      ],
      "metadata": {
        "id": "XAc1KNzWMkSh"
      },
      "execution_count": 50,
      "outputs": []
    },
    {
      "cell_type": "code",
      "source": [
        "minutes = calculate_paths(dists, data_dict, 30)\n",
        "max([max(i) for i in minutes[29]])"
      ],
      "metadata": {
        "colab": {
          "base_uri": "https://localhost:8080/"
        },
        "id": "cifE8a4Wb8rf",
        "outputId": "1adf5282-7285-4cd1-961e-69f09222a2f9"
      },
      "execution_count": 51,
      "outputs": [
        {
          "output_type": "execute_result",
          "data": {
            "text/plain": [
              "2320"
            ]
          },
          "metadata": {},
          "execution_count": 51
        }
      ]
    },
    {
      "cell_type": "markdown",
      "source": [
        "## Part 2\n",
        "Release the most amount of pressure in 26 minutes, with two people moving through the tunnels"
      ],
      "metadata": {
        "id": "yiKeMv3lJPM_"
      }
    },
    {
      "cell_type": "code",
      "source": [
        "# Setup the maximum pressure counter,\n",
        "# a list of the positive valves and\n",
        "# extract the desired minute from\n",
        "# the minutes array.\n",
        "max_pressure = 0\n",
        "valves = list(dists.keys())\n",
        "twenty_six = minutes[25]\n",
        "\n",
        "# Go through the chosed minute\n",
        "# twice to simulate two people\n",
        "# walking through the tunnel.\n",
        "for i in range(len(twenty_six[0])):\n",
        "  for j in range(len(twenty_six[0])):\n",
        "    \n",
        "    # If j is not a subset of i,\n",
        "    # then there are valves turned\n",
        "    # on for person i which are not\n",
        "    # on for person j. These cases \n",
        "    # are not interesting as we want\n",
        "    # to simulate two people turning\n",
        "    # valves on, which means if a \n",
        "    # valve is turned on by either\n",
        "    # person it should be considered\n",
        "    # turned on for both. \n",
        "    if i & j !=j:\n",
        "      continue\n",
        "    \n",
        "    # Set initial pressure values\n",
        "    # for each person to -inf\n",
        "    person1 = float('-inf')\n",
        "    person2 = float('-inf')\n",
        "\n",
        "    # Go through every positive valve\n",
        "    # and update the maximum if the \n",
        "    # pressure at the current states\n",
        "    # are greater than previous.\n",
        "    for l in range(len(valves)):\n",
        "      person1 = max(person1, twenty_six[l][j])\n",
        "      person2 = max(person2, twenty_six[l][i&~j])\n",
        "    max_pressure = max(max_pressure, person1+person2)\n",
        "max_pressure"
      ],
      "metadata": {
        "id": "yeCl8dInJRPs",
        "colab": {
          "base_uri": "https://localhost:8080/"
        },
        "outputId": "560bee32-667c-47b6-efbc-a50e7b58b454"
      },
      "execution_count": 52,
      "outputs": [
        {
          "output_type": "execute_result",
          "data": {
            "text/plain": [
              "2967"
            ]
          },
          "metadata": {},
          "execution_count": 52
        }
      ]
    }
  ]
}