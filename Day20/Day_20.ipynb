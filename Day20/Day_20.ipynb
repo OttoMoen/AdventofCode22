{
  "nbformat": 4,
  "nbformat_minor": 0,
  "metadata": {
    "colab": {
      "provenance": []
    },
    "kernelspec": {
      "name": "python3",
      "display_name": "Python 3"
    },
    "language_info": {
      "name": "python"
    }
  },
  "cells": [
    {
      "cell_type": "markdown",
      "source": [
        "# Advent of Code 2022: Day 20\n",
        "https://adventofcode.com/2022/day/20\n"
      ],
      "metadata": {
        "id": "e7qDcWW3JF8G"
      }
    },
    {
      "cell_type": "markdown",
      "source": [
        "## Part 1\n",
        "Get the sum of the three coordinate numbers after decrypting (mixing) a file."
      ],
      "metadata": {
        "id": "krtSVL3uJOQC"
      }
    },
    {
      "cell_type": "markdown",
      "source": [
        "### Get the data into a list of strings"
      ],
      "metadata": {
        "id": "Jc2_NXw63k49"
      }
    },
    {
      "cell_type": "code",
      "source": [
        "myfile = open('input.txt', 'r')\n",
        "data = myfile.read()\n",
        "data_list = data.split('\\n')\n",
        "# Remove empty value at the bottom of the list.\n",
        "data_list = data_list[:-1]"
      ],
      "metadata": {
        "id": "xQfXHvPiJQrT"
      },
      "execution_count": 1,
      "outputs": []
    },
    {
      "cell_type": "markdown",
      "source": [
        "### Function to mix the data"
      ],
      "metadata": {
        "id": "n7XNL58O8Eby"
      }
    },
    {
      "cell_type": "code",
      "source": [
        "def mixing(row_list, row_list_org):\n",
        "  \n",
        "  # Go through the numbers\n",
        "  for i in range(len(row_list)):\n",
        "    \n",
        "    # Get the current id based on\n",
        "    # the original order of the data\n",
        "    # and corresponding value. \n",
        "    curr_id = row_list.index(row_list_org[i])\n",
        "    curr = row_list.pop(curr_id)\n",
        "    \n",
        "    # Get the new id by taking the current\n",
        "    # id and adding the value.\n",
        "    new_id = curr_id + int(curr.split('_')[1]) \n",
        "    \n",
        "    # Perform the modulo operation\n",
        "    # in case the new id is outside\n",
        "    # the boundary of the list.\n",
        "    new_id %= (len(row_list))\n",
        "\n",
        "    # Insert the value at the \n",
        "    # new position. \n",
        "    row_list.insert(new_id, curr)\n",
        "    \n",
        "  return row_list"
      ],
      "metadata": {
        "id": "edS1j-UVJU_d"
      },
      "execution_count": 2,
      "outputs": []
    },
    {
      "cell_type": "markdown",
      "source": [
        "### Function to calculate the sum of coordinate numbers after mixing"
      ],
      "metadata": {
        "id": "NIhRIDplMo3R"
      }
    },
    {
      "cell_type": "code",
      "source": [
        "def sum_pos(data, positions, key = 1, n=1):\n",
        "  \n",
        "  # Convert the strings to integers\n",
        "  # and multiply with the key.\n",
        "  data_list = list(map(int, data))\n",
        "  data_list = [key*i for i in data_list]\n",
        "  \n",
        "  # Get the index of 0.\n",
        "  j = data_list.index(0)\n",
        "  \n",
        "  # Setup a list of strings that\n",
        "  # contain the number as well as\n",
        "  # the initial row, to ensure that\n",
        "  # every string is unique.\n",
        "  row_list = [str(i)+'_'+str(data_list[i]) for i in range(len(data_list))]\n",
        "  \n",
        "  # Get the string of 0.\n",
        "  zero_value = row_list[j]\n",
        "\n",
        "  # Get a copy of the string list\n",
        "  # to preserve the original order.\n",
        "  row_list_org = row_list.copy()\n",
        "\n",
        "  # Mix the data n number\n",
        "  # of times. \n",
        "  for i in range(n):\n",
        "    row_list = mixing(row_list, row_list_org)\n",
        "\n",
        "  # Get the position of 0 after \n",
        "  # the mixing and setup a sum.\n",
        "  j = row_list.index(zero_value)\n",
        "  s = 0\n",
        "  \n",
        "  # Go through the data and add to \n",
        "  # the sum at the coordinate positions.\n",
        "  for i in range(max(positions)+1):\n",
        "    j += 1\n",
        "    if j == len(row_list):\n",
        "      j = 0\n",
        "    if i+1 in positions:\n",
        "      s += int(row_list[j].split('_')[1])\n",
        "  return s"
      ],
      "metadata": {
        "id": "xU0CTeC7NO8O"
      },
      "execution_count": 3,
      "outputs": []
    },
    {
      "cell_type": "code",
      "source": [
        "sum_pos(data_list, [1000,2000,3000])"
      ],
      "metadata": {
        "colab": {
          "base_uri": "https://localhost:8080/"
        },
        "id": "uYpgrqbMH9hG",
        "outputId": "6977141b-175c-4ed9-ee62-76e1c06ed660"
      },
      "execution_count": 4,
      "outputs": [
        {
          "output_type": "execute_result",
          "data": {
            "text/plain": [
              "18257"
            ]
          },
          "metadata": {},
          "execution_count": 4
        }
      ]
    },
    {
      "cell_type": "markdown",
      "source": [
        "## Part 2\n",
        "Get the sum of the three coordinate numbers after decrypting (mixing) a file 10 times. Also multiply the numbers with the decryption key."
      ],
      "metadata": {
        "id": "yiKeMv3lJPM_"
      }
    },
    {
      "cell_type": "code",
      "source": [
        "sum_pos(data_list, [1000,2000,3000], 811589153, 10)"
      ],
      "metadata": {
        "colab": {
          "base_uri": "https://localhost:8080/"
        },
        "id": "GClN-DW4NyFX",
        "outputId": "ae39b7fd-716e-43a4-bc82-922a9a772432"
      },
      "execution_count": 5,
      "outputs": [
        {
          "output_type": "execute_result",
          "data": {
            "text/plain": [
              "4148032160983"
            ]
          },
          "metadata": {},
          "execution_count": 5
        }
      ]
    }
  ]
}