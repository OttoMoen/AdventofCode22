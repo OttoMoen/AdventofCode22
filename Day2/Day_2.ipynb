{
  "nbformat": 4,
  "nbformat_minor": 0,
  "metadata": {
    "colab": {
      "provenance": []
    },
    "kernelspec": {
      "name": "python3",
      "display_name": "Python 3"
    },
    "language_info": {
      "name": "python"
    }
  },
  "cells": [
    {
      "cell_type": "markdown",
      "source": [
        "# Advent of Code 2022: Day 2\n",
        "https://adventofcode.com/2022/day/2\n"
      ],
      "metadata": {
        "id": "e7qDcWW3JF8G"
      }
    },
    {
      "cell_type": "markdown",
      "source": [
        "## Part 1\n",
        "\n",
        "Calculate the score from a Rock Paper Scissors game"
      ],
      "metadata": {
        "id": "krtSVL3uJOQC"
      }
    },
    {
      "cell_type": "markdown",
      "source": [
        "### Get the data into a list of strings"
      ],
      "metadata": {
        "id": "qSHolakPWW5I"
      }
    },
    {
      "cell_type": "code",
      "source": [
        "myfile = open('input.txt', 'r')\n",
        "data = myfile.read()\n",
        "data_list = data.split('\\n')"
      ],
      "metadata": {
        "id": "xQfXHvPiJQrT"
      },
      "execution_count": 30,
      "outputs": []
    },
    {
      "cell_type": "markdown",
      "source": [
        "### Set up the game rules"
      ],
      "metadata": {
        "id": "LTZwCaYwaF9j"
      }
    },
    {
      "cell_type": "code",
      "source": [
        "# A,X = Rock, 1 point\n",
        "# B,Y = Paper, 2 points\n",
        "# C,Z = Scissor, 3 points\n",
        "\n",
        "# Lose = 0 points\n",
        "# Draw = 3 points\n",
        "# Win = 6 points\n",
        "game_rules = {\n",
        "    \"A X\":4,\n",
        "    \"A Y\":8,\n",
        "    \"A Z\":3,\n",
        "    \"B X\":1,\n",
        "    \"B Y\":5,\n",
        "    \"B Z\":9,\n",
        "    \"C X\":7,\n",
        "    \"C Y\":2,\n",
        "    \"C Z\":6}"
      ],
      "metadata": {
        "id": "95SBF7X0WcVQ"
      },
      "execution_count": 31,
      "outputs": []
    },
    {
      "cell_type": "markdown",
      "source": [
        "### Calculate the points"
      ],
      "metadata": {
        "id": "s594SPnZaIYw"
      }
    },
    {
      "cell_type": "code",
      "source": [
        "points = 0\n",
        "for i in range(len(data_list)):\n",
        "  points = points + game_rules[data_list[i]]\n",
        "points"
      ],
      "metadata": {
        "colab": {
          "base_uri": "https://localhost:8080/"
        },
        "id": "ewA_3hn7ZieR",
        "outputId": "cb5ddbf4-70ae-4b86-fa5f-bac801007881"
      },
      "execution_count": 32,
      "outputs": [
        {
          "output_type": "execute_result",
          "data": {
            "text/plain": [
              "11873"
            ]
          },
          "metadata": {},
          "execution_count": 32
        }
      ]
    },
    {
      "cell_type": "markdown",
      "source": [
        "## Part 2\n",
        "\n",
        "Calculate the score with a new ruleset"
      ],
      "metadata": {
        "id": "yiKeMv3lJPM_"
      }
    },
    {
      "cell_type": "markdown",
      "source": [
        "### Set up the game rules"
      ],
      "metadata": {
        "id": "_Sypq5KocP0h"
      }
    },
    {
      "cell_type": "code",
      "source": [
        "# A = Rock\n",
        "# B = Paper\n",
        "# C = Scissor\n",
        "\n",
        "# X = Lose\n",
        "# Y = Draw\n",
        "# Z = Win\n",
        "\n",
        "game_rules2 = {\n",
        "    \"A X\":3,\n",
        "    \"A Y\":4,\n",
        "    \"A Z\":8,\n",
        "    \"B X\":1,\n",
        "    \"B Y\":5,\n",
        "    \"B Z\":9,\n",
        "    \"C X\":2,\n",
        "    \"C Y\":6,\n",
        "    \"C Z\":7}"
      ],
      "metadata": {
        "id": "yeCl8dInJRPs"
      },
      "execution_count": 34,
      "outputs": []
    },
    {
      "cell_type": "markdown",
      "source": [
        "### Calculate the points"
      ],
      "metadata": {
        "id": "0W_zYZt1cQl0"
      }
    },
    {
      "cell_type": "code",
      "source": [
        "points2 = 0\n",
        "for i in range(len(data_list)):\n",
        "  points2 = points2 + game_rules2[data_list[i]]\n",
        "points2"
      ],
      "metadata": {
        "colab": {
          "base_uri": "https://localhost:8080/"
        },
        "id": "AHEHIjK4cUSW",
        "outputId": "04edab8b-8eb4-4a80-d414-ab0f15f2c6c3"
      },
      "execution_count": 35,
      "outputs": [
        {
          "output_type": "execute_result",
          "data": {
            "text/plain": [
              "12014"
            ]
          },
          "metadata": {},
          "execution_count": 35
        }
      ]
    }
  ]
}
