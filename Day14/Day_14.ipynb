{
  "nbformat": 4,
  "nbformat_minor": 0,
  "metadata": {
    "colab": {
      "provenance": []
    },
    "kernelspec": {
      "name": "python3",
      "display_name": "Python 3"
    },
    "language_info": {
      "name": "python"
    }
  },
  "cells": [
    {
      "cell_type": "markdown",
      "source": [
        "# Advent of Code 2022: Day 14\n",
        "https://adventofcode.com/2022/day/14\n"
      ],
      "metadata": {
        "id": "e7qDcWW3JF8G"
      }
    },
    {
      "cell_type": "markdown",
      "source": [
        "## Part 1\n",
        "Count the number of sand units which fill up the cave, \n",
        "before the sand starts flowing out of the bottom"
      ],
      "metadata": {
        "id": "krtSVL3uJOQC"
      }
    },
    {
      "cell_type": "markdown",
      "source": [
        "### Get the data into a list of strings"
      ],
      "metadata": {
        "id": "Jc2_NXw63k49"
      }
    },
    {
      "cell_type": "code",
      "source": [
        "myfile = open('input.txt', 'r')\n",
        "data = myfile.read()\n",
        "data_list = data.split('\\n')\n",
        "# Remove empty value at the bottom of the list.\n",
        "data_list = data_list[:-1]"
      ],
      "metadata": {
        "id": "xQfXHvPiJQrT"
      },
      "execution_count": 1,
      "outputs": []
    },
    {
      "cell_type": "markdown",
      "source": [
        "### Setup helper functions"
      ],
      "metadata": {
        "id": "n7XNL58O8Eby"
      }
    },
    {
      "cell_type": "markdown",
      "source": [
        "#### Function to preprocess the data"
      ],
      "metadata": {
        "id": "_-yHLP8h5H_5"
      }
    },
    {
      "cell_type": "code",
      "source": [
        "def preprocess_data(data, return_max_X=True, return_max_Y = True):\n",
        "  \n",
        "  # Setup the three objects that\n",
        "  # will potentially be returned.\n",
        "  output_list = []\n",
        "  max_X = 0\n",
        "  max_Y = 0\n",
        "  \n",
        "  # Go through each line\n",
        "  # in the data.\n",
        "  for item in data:\n",
        "    \n",
        "    # Setup a temporary\n",
        "    # list, where the \n",
        "    # current item will go.\n",
        "    temp_list = []\n",
        "    \n",
        "    # Split the item on ' -> '.\n",
        "    split = item.split(' -> ')\n",
        "    \n",
        "    # Go through each item\n",
        "    # that this split generated.\n",
        "    for inner_item in split:\n",
        "      \n",
        "      # Setup a temporary list,\n",
        "      # where the current inner\n",
        "      # item will go.\n",
        "      inner_temp_list = []\n",
        "      \n",
        "      # Split the inner item on ','.\n",
        "      inner_split = inner_item.split(',')\n",
        "      \n",
        "      # Go through the two numbers\n",
        "      # that this split should have\n",
        "      # generated. Compare them to \n",
        "      # the current max values and\n",
        "      # update if needed.\n",
        "      i = 0\n",
        "      for number in inner_split:\n",
        "        curr = int(number)\n",
        "        if i == 0:\n",
        "          if curr > max_X:\n",
        "            max_X = curr\n",
        "          i += 1\n",
        "        elif i == 1:\n",
        "            if curr > max_Y:\n",
        "              max_Y = curr\n",
        "            i = 0\n",
        "        \n",
        "        # Append the current number\n",
        "        # to the inner list. \n",
        "        inner_temp_list.append(curr)\n",
        "      \n",
        "      # Append the inner list to\n",
        "      # the temporary list.\n",
        "      temp_list.append(inner_temp_list)\n",
        "    \n",
        "    # Append the temporary list\n",
        "    # to the output list.\n",
        "    output_list.append(temp_list)\n",
        "  \n",
        "\n",
        "  # Return the processed data, and \n",
        "  # potentially one or two of the \n",
        "  # maximum values. \n",
        "  if return_max_X == True and return_max_Y == True:\n",
        "    return output_list, max_X, max_Y\n",
        "  \n",
        "  elif return_max_X == True:\n",
        "    return output_list, max_X\n",
        "  \n",
        "  elif return_max_Y == True:\n",
        "    return output_list, max_Y\n",
        "  \n",
        "  else:\n",
        "    return output_list"
      ],
      "metadata": {
        "id": "hHr1WsDHOAUP"
      },
      "execution_count": 2,
      "outputs": []
    },
    {
      "cell_type": "markdown",
      "source": [
        "#### Function to get the direction and length of a line between two points"
      ],
      "metadata": {
        "id": "FR-wBo036bjP"
      }
    },
    {
      "cell_type": "code",
      "source": [
        "def get_line(point1, point2):\n",
        "  \n",
        "  # Get the coordinate\n",
        "  # values for each point.\n",
        "  x1 = point1[0]\n",
        "  y1 = point1[1]\n",
        "  x2 = point2[0]\n",
        "  y2 = point2[1]\n",
        "\n",
        "  # The lines cannot be diagonal,\n",
        "  # which means the two points will\n",
        "  # either have equal x values or \n",
        "  # equal y values. \n",
        "  if x1==x2:\n",
        "    \n",
        "    # Calculate the length\n",
        "    # of the line. Return it, \n",
        "    # along with the direction.\n",
        "    dist = y1-y2\n",
        "    if dist < 0:\n",
        "      return \"down\", dist\n",
        "    else:\n",
        "      return \"up\", dist\n",
        " \n",
        "  elif y1==y2:\n",
        "    \n",
        "    # Calculate the length\n",
        "    # of the line. Return it, \n",
        "    # along with the direction.\n",
        "    dist = x1-x2\n",
        "    if dist < 0:\n",
        "      return \"right\", dist\n",
        "    else:\n",
        "      return \"left\", dist"
      ],
      "metadata": {
        "id": "_FzqquNeTs_T"
      },
      "execution_count": 3,
      "outputs": []
    },
    {
      "cell_type": "markdown",
      "source": [
        "#### Function to draw lines on a map"
      ],
      "metadata": {
        "id": "rlvH9wzj7A6d"
      }
    },
    {
      "cell_type": "code",
      "source": [
        "def draw_lines(map, item):\n",
        "  \n",
        "  # Go through each point in the item.\n",
        "  for i in range(len(item)-1):\n",
        "    start = item[i]\n",
        "    end = item[i+1]\n",
        "\n",
        "    # Get the direction and distance \n",
        "    # between the two points. \n",
        "    dirr, dist = get_line(start, end)\n",
        "\n",
        "    # Starting coordinates.\n",
        "    x = start[0]\n",
        "    y = start[1]\n",
        "    \n",
        "    # Depending on the direction,\n",
        "    # draw the line, using '#' to\n",
        "    # as the marking symbol, for\n",
        "    # the correct length.\n",
        "    if dirr == \"down\":\n",
        "      while y <= (start[1]-dist):\n",
        "        map[y][x] = \"#\"\n",
        "        y += 1\n",
        "\n",
        "    elif dirr == \"up\":\n",
        "      while y >=(start[1]-dist):\n",
        "        map[y][x] = \"#\"\n",
        "        y -= 1\n",
        "\n",
        "\n",
        "    elif dirr == \"right\":\n",
        "      while x <= (start[0]-dist):\n",
        "        map[y][x] = \"#\"\n",
        "        x += 1\n",
        "\n",
        "    elif dirr == \"left\":\n",
        "      while x >= (start[0]-dist):\n",
        "        map[y][x] = \"#\"\n",
        "        x -= 1\n",
        "\n",
        "  return map"
      ],
      "metadata": {
        "id": "soUNEI1WSrW7"
      },
      "execution_count": 4,
      "outputs": []
    },
    {
      "cell_type": "markdown",
      "source": [
        "#### Function to create a map"
      ],
      "metadata": {
        "id": "Cr97jTVw7oSl"
      }
    },
    {
      "cell_type": "code",
      "source": [
        "def create_map(data, max_X, max_Y, floor = False):\n",
        "  \n",
        "  # Setup the map depending on the maximum\n",
        "  # values provided. Pad the directions to\n",
        "  # protect against going out of bounds. For\n",
        "  # the y direction, just add 3 extra rows.\n",
        "  # For the x direction, make the map twice\n",
        "  # the length of the maximum value. This\n",
        "  # is especially needed for part 2. \n",
        "  cave_map = [['.' for x in range(max_X*2)] for y in range(max_Y+3)]\n",
        "\n",
        "  # Go through the data and\n",
        "  # draw the lines on the map.\n",
        "  for item in data:\n",
        "    cave_map = draw_lines(cave_map, item)\n",
        "\n",
        "  # For part 2, if floor = true, then\n",
        "  # add a \"floor\" to the bottom of the\n",
        "  # cave by manually drawing a line\n",
        "  # along the bottom row.\n",
        "  if floor == True:\n",
        "    for col in range(len(cave_map[0])):\n",
        "      cave_map[len(cave_map)-1][col] = \"#\"\n",
        "\n",
        "  return cave_map"
      ],
      "metadata": {
        "id": "HSjOrfyhPXcQ"
      },
      "execution_count": 5,
      "outputs": []
    },
    {
      "cell_type": "markdown",
      "source": [
        "#### Function to drop sand from the roof of the cave"
      ],
      "metadata": {
        "id": "qxJYYzCt8zUB"
      }
    },
    {
      "cell_type": "code",
      "source": [
        "def drop_sand(map, start_point, max_Y, floor = False):\n",
        "  \n",
        "  # Get the coordinates\n",
        "  # where the sand enters\n",
        "  # the cave.\n",
        "  x = start_point[0]\n",
        "  y = start_point[1]\n",
        "\n",
        "  # If the starting position\n",
        "  # is already an 'o', which \n",
        "  # represents a settled unit\n",
        "  # of sand, the cave is full.\n",
        "  # Return the map and False.\n",
        "  if map[y][x] == \"o\":\n",
        "    return map, False\n",
        "\n",
        "  # Otherwise, mark the starting\n",
        "  # position with '+', which\n",
        "  # represents a unit of sand\n",
        "  # still in motion.\n",
        "  map[y][x] = \"+\"\n",
        "  while True:\n",
        "    \n",
        "    # If there is no floor, then\n",
        "    # check if the y position of\n",
        "    # the current sand unit is \n",
        "    # equal to the maximum value.\n",
        "    # If it is, return the map and False.\n",
        "    if floor == False:\n",
        "      if y == max_Y:\n",
        "        return map, False\n",
        "    \n",
        "    # Get the value of the map\n",
        "    # in the position below\n",
        "    # the current sand unit.\n",
        "    below = map[y+1][x]\n",
        "    \n",
        "    # If the value below is '.'\n",
        "    # this means there is empty\n",
        "    # space below the current \n",
        "    # sand unit. If so, move\n",
        "    # the sand unit down. \n",
        "    if below == \".\":\n",
        "      map[y+1][x] = \"+\"\n",
        "      map[y][x] = \".\"\n",
        "      y +=1\n",
        "    \n",
        "    # If the position below is not\n",
        "    # empty, then get the value to\n",
        "    # the bottom left (diagonally)\n",
        "    # and perform the same check.\n",
        "    else:\n",
        "      below_left = map[y+1][x-1]\n",
        "      if below_left == \".\":\n",
        "        map[y+1][x-1] = \"+\"\n",
        "        map[y][x] = \".\"\n",
        "        y += 1\n",
        "        x -= 1\n",
        "      \n",
        "      # If the position to the bottom\n",
        "      # left is also empty, then get the is not\n",
        "      # value to the bottom right (diagonally)\n",
        "      # and perform the same check.\n",
        "      else:\n",
        "        below_right = map[y+1][x+1]\n",
        "        if below_right == \".\":\n",
        "          map[y+1][x+1] = \"+\"\n",
        "          map[y][x] = \".\"\n",
        "          y +=1\n",
        "          x +=1\n",
        "        \n",
        "        # If the position to the bottom \n",
        "        # right is also empty, the sand \n",
        "        # unit can no longer keep moving.\n",
        "        # Mark this by changing the value\n",
        "        # from '+' to 'o'.\n",
        "        else:\n",
        "          map[y][x] = \"o\"\n",
        "          break\n",
        "  \n",
        "  # If neither of the exit conditions\n",
        "  # were met, return the map and True.\n",
        "  return map, True"
      ],
      "metadata": {
        "id": "hOXej_Zhctiu"
      },
      "execution_count": 6,
      "outputs": []
    },
    {
      "cell_type": "markdown",
      "source": [
        "### Main function to count sand"
      ],
      "metadata": {
        "id": "1dTEH-eH_nSZ"
      }
    },
    {
      "cell_type": "code",
      "source": [
        "def count_sand(data, start_point, floor = False):\n",
        "  \n",
        "  # Preprocess the data and get\n",
        "  # the maximum values.\n",
        "  data_clean, max_X, max_Y = preprocess_data(data)\n",
        "  \n",
        "  # Create the map of the cave.\n",
        "  cave_map = create_map(data_clean, max_X, max_Y, floor)\n",
        "\n",
        "  # Setup the sand counter.\n",
        "  sand_count = 0\n",
        "  \n",
        "  # Keep dropping sand into the cave\n",
        "  # and increment the counter until\n",
        "  # the function returns False.\n",
        "  while True:\n",
        "    cave_map, test = drop_sand(cave_map, start_point, max_Y, floor)\n",
        "    sand_count += 1\n",
        "    if not test:\n",
        "      return sand_count-1"
      ],
      "metadata": {
        "id": "K5dzqLuPfbF4"
      },
      "execution_count": 7,
      "outputs": []
    },
    {
      "cell_type": "code",
      "source": [
        "start_point = [500,0]\n",
        "count_sand(data_list, start_point)"
      ],
      "metadata": {
        "colab": {
          "base_uri": "https://localhost:8080/"
        },
        "id": "wU1mzkbcfP1Z",
        "outputId": "7fa5b2bc-bf88-471c-f404-f4058a072f4e"
      },
      "execution_count": 8,
      "outputs": [
        {
          "output_type": "execute_result",
          "data": {
            "text/plain": [
              "696"
            ]
          },
          "metadata": {},
          "execution_count": 8
        }
      ]
    },
    {
      "cell_type": "markdown",
      "source": [
        "## Part 2\n",
        "Assuming there is a floor, count the number of sand units which fill up the cave until the cave is full"
      ],
      "metadata": {
        "id": "yiKeMv3lJPM_"
      }
    },
    {
      "cell_type": "code",
      "source": [
        "start_point = [500,0]\n",
        "count_sand(data_list, start_point, floor=True)"
      ],
      "metadata": {
        "colab": {
          "base_uri": "https://localhost:8080/"
        },
        "id": "KlUAn3rgkGZz",
        "outputId": "f15c367f-a1e7-4dac-9cd7-3b95ed79a3bb"
      },
      "execution_count": 9,
      "outputs": [
        {
          "output_type": "execute_result",
          "data": {
            "text/plain": [
              "23610"
            ]
          },
          "metadata": {},
          "execution_count": 9
        }
      ]
    },
    {
      "cell_type": "markdown",
      "source": [
        "## Appendix\n",
        "Code for printing the cave map"
      ],
      "metadata": {
        "id": "3uTPMK114MmP"
      }
    },
    {
      "cell_type": "code",
      "source": [
        "# data_clean, max_X, max_Y = preprocess_data(data_list)\n",
        "# cave_map = create_map(data_clean, max_X, max_Y, floor= True)\n",
        "\n",
        "# map_string = \"\"\n",
        "# for i in range(len(cave_map)):\n",
        "#   for j in range(len(cave_map[0])):\n",
        "#     map_string += cave_map[i][j]\n",
        "#     if j == 570:\n",
        "#       map_string += \"\\n\"\n",
        "# print(map_string)"
      ],
      "metadata": {
        "id": "2wY41b-u2vIj"
      },
      "execution_count": 10,
      "outputs": []
    }
  ]
}