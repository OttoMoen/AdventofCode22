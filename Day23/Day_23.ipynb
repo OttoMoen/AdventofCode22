{
  "nbformat": 4,
  "nbformat_minor": 0,
  "metadata": {
    "colab": {
      "provenance": []
    },
    "kernelspec": {
      "name": "python3",
      "display_name": "Python 3"
    },
    "language_info": {
      "name": "python"
    }
  },
  "cells": [
    {
      "cell_type": "markdown",
      "source": [
        "# Advent of Code 2022: Day 23\n",
        "https://adventofcode.com/2022/day/23\n"
      ],
      "metadata": {
        "id": "e7qDcWW3JF8G"
      }
    },
    {
      "cell_type": "markdown",
      "source": [
        "## Part 1\n",
        "Count the number of empty tiles after moving the elves for 10 rounds"
      ],
      "metadata": {
        "id": "krtSVL3uJOQC"
      }
    },
    {
      "cell_type": "markdown",
      "source": [
        "### Get the data into a list of strings"
      ],
      "metadata": {
        "id": "Jc2_NXw63k49"
      }
    },
    {
      "cell_type": "code",
      "source": [
        "myfile = open('input.txt', 'r')\n",
        "data = myfile.read()\n",
        "data_list = data.split('\\n')\n",
        "# Remove empty value at the bottom of the list.\n",
        "data_list = data_list[:-1]"
      ],
      "metadata": {
        "id": "G0JRpA44ACy-"
      },
      "execution_count": 1,
      "outputs": []
    },
    {
      "cell_type": "markdown",
      "source": [
        "### Function to preprocess the data into a dictionary"
      ],
      "metadata": {
        "id": "X1d5j1BnMIFH"
      }
    },
    {
      "cell_type": "code",
      "source": [
        "def preprocess_data(data):\n",
        "  \n",
        "  # Setup dictionary\n",
        "  # to return.\n",
        "  output_dict = {}\n",
        "  for i in range(len(data)):\n",
        "    \n",
        "    # Split each row\n",
        "    # into a list.\n",
        "    item_split = list(data[i])\n",
        "    \n",
        "    # If a position contains a '#'\n",
        "    # add the position to the dictionary.\n",
        "    for j in range(len(item_split)):\n",
        "      if item_split[j] == '#':\n",
        "        output_dict[(i,j)] = True\n",
        "  return output_dict"
      ],
      "metadata": {
        "id": "xC0xfUFZADvt"
      },
      "execution_count": 2,
      "outputs": []
    },
    {
      "cell_type": "markdown",
      "source": [
        "### Function to count the number of empty tiles"
      ],
      "metadata": {
        "id": "hqc6dXlIMnC5"
      }
    },
    {
      "cell_type": "code",
      "source": [
        "def empty_tiles(elf_pos):\n",
        "  \n",
        "  # Get the minimum and maximum rows \n",
        "  # and columns which contain an elf.\n",
        "  row_min,row_max = float('inf'),float('-inf')\n",
        "  col_min,col_max = float('inf'),float('-inf')\n",
        "  for pos in elf_pos:\n",
        "      row_min = min(row_min, pos[0])\n",
        "      row_max = max(row_max, pos[0])\n",
        "      col_min = min(col_min, pos[1])\n",
        "      col_max = max(col_max, pos[1])\n",
        "  \n",
        "  # Calculate the number of empty tiles.\n",
        "  return (row_max-row_min+1)*(col_max-col_min+1)-len(elf_pos)"
      ],
      "metadata": {
        "id": "uM4WsmUlC5HP"
      },
      "execution_count": 3,
      "outputs": []
    },
    {
      "cell_type": "markdown",
      "source": [
        "### Function to perform the first half of a round"
      ],
      "metadata": {
        "id": "n7XNL58O8Eby"
      }
    },
    {
      "cell_type": "code",
      "source": [
        "def first_half(elf_pos, dir, directions, check_list):\n",
        "  \n",
        "  # Get the current 'first' \n",
        "  # direction to look and\n",
        "  # add it back to the end \n",
        "  # of the list.\n",
        "  dir_id = dir.pop(0)\n",
        "  dir.append(dir_id)\n",
        "  \n",
        "  # Setup dictionary\n",
        "  # of proposed positions.\n",
        "  propose_elves = {}\n",
        "\n",
        "  # Go through every elf.\n",
        "  for elf in elf_pos:\n",
        "    \n",
        "    # Get a list of the 8 positions\n",
        "    # surrounding an elf.\n",
        "    elf_surrounds = [(elf[0]+dire[0], elf[1]+dire[1]) for dire in directions]\n",
        "    \n",
        "    # Check if any of the 8 positions\n",
        "    # contain an elf. If none of the\n",
        "    # positions contain an elf, the\n",
        "    # current elf does not need to move.\n",
        "    check_res = [0,0,0,0,0,0,0,0]\n",
        "    for s in range(8):\n",
        "      if elf_surrounds[s] in elf_pos:\n",
        "        check_res[s] = 1\n",
        "    if sum(check_res) == 0:\n",
        "            continue\n",
        "    \n",
        "    # If an elf does need to move,\n",
        "    # check in the four directions.\n",
        "    for c in range(4):\n",
        "      \n",
        "      # Get the three positions to check\n",
        "      # for the current direction. \n",
        "      check_ids = check_list[(c+dir_id)%4]\n",
        "      \n",
        "      # If all three are empty, create \n",
        "      # the proposed position.\n",
        "      if sum([check_res[cid] for cid in check_ids]) == 0:\n",
        "        pos_proposed = (elf[0]+directions[check_ids[0]][0],elf[1]+directions[check_ids[0]][1])\n",
        "        \n",
        "        # Make an entry in the dictionary, with\n",
        "        # the proposed position as key and current\n",
        "        # position in a list as value. If the \n",
        "        # proposed position is already in the \n",
        "        # dictionary, append the current position\n",
        "        # to the list. \n",
        "        if pos_proposed in propose_elves:\n",
        "          propose_elves[pos_proposed].append(elf)\n",
        "        else:\n",
        "          propose_elves[pos_proposed] = [elf]\n",
        "        break\n",
        "  return propose_elves, dir"
      ],
      "metadata": {
        "id": "Vg6HQ-Us5wMu"
      },
      "execution_count": 4,
      "outputs": []
    },
    {
      "cell_type": "markdown",
      "source": [
        "### Function to perform the second half of a round"
      ],
      "metadata": {
        "id": "T-3wsKZaPpLQ"
      }
    },
    {
      "cell_type": "code",
      "source": [
        "def second_half(elf_pos, propose_elves):\n",
        "  \n",
        "  # Go through the proposed positions.\n",
        "  for key, value in propose_elves.items():\n",
        "    \n",
        "    # If only one elf proposed\n",
        "    # to move to this position,\n",
        "    # execute the move by adding\n",
        "    # the proposed position to the\n",
        "    # main dictionary and deleting\n",
        "    # the previous position.\n",
        "    if len(value) == 1:\n",
        "      elf_pos[key] = True\n",
        "      del elf_pos[value[0]]\n",
        "  return elf_pos, len(propose_elves) == 0"
      ],
      "metadata": {
        "id": "79auFVUyHcze"
      },
      "execution_count": 5,
      "outputs": []
    },
    {
      "cell_type": "markdown",
      "source": [
        "### Function to execute multiple rounds"
      ],
      "metadata": {
        "id": "li3Dp2RvQO6B"
      }
    },
    {
      "cell_type": "code",
      "source": [
        "def execute_rounds(data, stop = 10):\n",
        "  \n",
        "  # Setup the dictionary of positions.\n",
        "  elf_pos = preprocess_data(data)\n",
        "  \n",
        "  # List of directions, in the format of\n",
        "  # row/column difference from the\n",
        "  # current position. \n",
        "  directions = [(-1,0),(1,0),(0,-1),(0,1), # 0 north, 1 south, 2 west, 3 east\n",
        "              (-1,1),(1,1),(1,-1),(-1,-1)] # 4 NE, 5 SE, 6 SW, 7 NW\n",
        "\n",
        "  # List of positions to check for each\n",
        "  # of the four cardinal directions. The\n",
        "  # values correspond to indeces in the\n",
        "  # directions list. \n",
        "  check_list = [(0,4,7),(1,5,6),(2,7,6),(3,4,5)]\n",
        "\n",
        "  # List of the four\n",
        "  # cardinal directions.\n",
        "  dir = [0,1,2,3]\n",
        "\n",
        "  # If the moving should stop after \n",
        "  # a certain number of rounds.\n",
        "  if stop > 0:\n",
        "    for round in range(stop):\n",
        "      propose_elves, dir = first_half(elf_pos, dir, directions, check_list)\n",
        "      elf_pos, _ = second_half(elf_pos, propose_elves)\n",
        "    return empty_tiles(elf_pos)\n",
        "  \n",
        "  # Otherwise run until no\n",
        "  # elves need to move.\n",
        "  else:\n",
        "    n_round = 0\n",
        "    while True:\n",
        "      n_round += 1\n",
        "      propose_elves, dir = first_half(elf_pos, dir, directions, check_list)\n",
        "      elf_pos, check = second_half(elf_pos, propose_elves)\n",
        "      if check:\n",
        "        break\n",
        "    return n_round"
      ],
      "metadata": {
        "id": "5PY_Svc6IQmt"
      },
      "execution_count": 6,
      "outputs": []
    },
    {
      "cell_type": "code",
      "source": [
        "execute_rounds(data_list)"
      ],
      "metadata": {
        "colab": {
          "base_uri": "https://localhost:8080/"
        },
        "id": "ScfeZ8YkKPOk",
        "outputId": "d2db163c-2835-447b-dae5-7861041a3a51"
      },
      "execution_count": 7,
      "outputs": [
        {
          "output_type": "execute_result",
          "data": {
            "text/plain": [
              "3757"
            ]
          },
          "metadata": {},
          "execution_count": 7
        }
      ]
    },
    {
      "cell_type": "markdown",
      "source": [
        "## Part 2\n"
      ],
      "metadata": {
        "id": "yiKeMv3lJPM_"
      }
    },
    {
      "cell_type": "code",
      "source": [
        "execute_rounds(data_list, False)"
      ],
      "metadata": {
        "id": "yeCl8dInJRPs",
        "colab": {
          "base_uri": "https://localhost:8080/"
        },
        "outputId": "22ac0dff-d137-4e3a-ac6f-fc1b797caef1"
      },
      "execution_count": 8,
      "outputs": [
        {
          "output_type": "execute_result",
          "data": {
            "text/plain": [
              "918"
            ]
          },
          "metadata": {},
          "execution_count": 8
        }
      ]
    }
  ]
}