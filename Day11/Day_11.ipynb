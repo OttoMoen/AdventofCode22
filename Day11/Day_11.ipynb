{
  "nbformat": 4,
  "nbformat_minor": 0,
  "metadata": {
    "colab": {
      "provenance": []
    },
    "kernelspec": {
      "name": "python3",
      "display_name": "Python 3"
    },
    "language_info": {
      "name": "python"
    }
  },
  "cells": [
    {
      "cell_type": "markdown",
      "source": [
        "# Advent of Code 2022: Day 11\n",
        "https://adventofcode.com/2022/day/11\n"
      ],
      "metadata": {
        "id": "e7qDcWW3JF8G"
      }
    },
    {
      "cell_type": "markdown",
      "source": [
        "## Part 1\n",
        "Find the product of the number of items inspected\n",
        "by the two monkeys that inspected the most number of items"
      ],
      "metadata": {
        "id": "krtSVL3uJOQC"
      }
    },
    {
      "cell_type": "markdown",
      "source": [
        "### Get the data into a list of strings"
      ],
      "metadata": {
        "id": "Jc2_NXw63k49"
      }
    },
    {
      "cell_type": "code",
      "source": [
        "myfile = open('input.txt', 'r')\n",
        "data = myfile.read()\n",
        "data_list = data.split('\\n')"
      ],
      "metadata": {
        "id": "xQfXHvPiJQrT"
      },
      "execution_count": 1,
      "outputs": []
    },
    {
      "cell_type": "markdown",
      "source": [
        "### Define helper functions"
      ],
      "metadata": {
        "id": "_XiYeYwRRK7u"
      }
    },
    {
      "cell_type": "markdown",
      "source": [
        "#### Function to preprocess the data"
      ],
      "metadata": {
        "id": "EnQ8wr2HRNWQ"
      }
    },
    {
      "cell_type": "code",
      "source": [
        "def pre_process_data(datalist):\n",
        "  \n",
        "  # Setup a dictionary\n",
        "  # and a counter\n",
        "  monkeys = {}\n",
        "  monkey_counter = 0\n",
        "\n",
        "  # Go through the items\n",
        "  # in the datalist\n",
        "  for i in range(len(datalist)):\n",
        "    \n",
        "    # If the current item contains\n",
        "    # \"Monkey\" this indicates that\n",
        "    # a monkey has been encountered\n",
        "    if \"Monkey\" in datalist[i]:\n",
        "      \n",
        "      # Item i+1 will contain the\n",
        "      # items that the monkey is holding.\n",
        "      # Split this on empty spaces and\n",
        "      # ignore the first 4 objects.\n",
        "      items = datalist[i+1].split(' ')[4:]\n",
        "      \n",
        "      # Convert the items to integers,\n",
        "      # removing ',' if necessary. \n",
        "      for j in range(len(items)):\n",
        "        items[j] = int(items[j].rstrip(','))\n",
        "      \n",
        "      # Item i+2 will contain the operation.\n",
        "      # Split this on empty spaces and\n",
        "      # ignore the first 5 objects.\n",
        "      operation = datalist[i+2].split(' ')[5:]\n",
        "\n",
        "      # Item i+3 will contain the test.\n",
        "      # Split this on empty spaces and\n",
        "      # take the 5th object. \n",
        "      test = int(datalist[i+3].split(' ')[5])\n",
        "\n",
        "      # Items i+4 and i+5 will contain\n",
        "      # the outcome. Split each item\n",
        "      # on empty spaces and make a list\n",
        "      # with the 9th item from each.\n",
        "      outcome = [datalist[i+4].split(' ')[9], datalist[i+5].split(' ')[9]]\n",
        "\n",
        "      # Put all of the obtained information \n",
        "      # in a dictionary, and place this\n",
        "      # inside the main dictionary with\n",
        "      # the current monkey as the key.\n",
        "      monkeys[\"Monkey \" + str(monkey_counter)] = {\"Items\": items,\n",
        "                                                  \"Operation\": operation,\n",
        "                                                  \"Test\": test,\n",
        "                                                  \"Outcome\": outcome,\n",
        "                                                  \"Inspection_counter\" : 0}\n",
        "      monkey_counter +=1\n",
        "  return monkeys"
      ],
      "metadata": {
        "id": "sIPPZlvOhZ_t"
      },
      "execution_count": 2,
      "outputs": []
    },
    {
      "cell_type": "markdown",
      "source": [
        "#### Function to create an item list if needed"
      ],
      "metadata": {
        "id": "RnTgVn7fTIkL"
      }
    },
    {
      "cell_type": "code",
      "source": [
        "def create_itemlist(monkeys):\n",
        "  \n",
        "  # Setup the itemlist\n",
        "  # as a dictionary,\n",
        "  # along with some\n",
        "  # temporary values.\n",
        "  item_list = {}\n",
        "  temp_list = []\n",
        "  j = 0\n",
        "\n",
        "  # Go through each monkey\n",
        "  for m in monkeys:\n",
        "\n",
        "    # Add the current monkey\n",
        "    # as a key in the item_list,\n",
        "    # starting as an empty list.\n",
        "    item_list[m] = []\n",
        "    \n",
        "    # Go through each item for a monkey\n",
        "    for i in range(len(monkeys[m][\"Items\"])):\n",
        "      # Add the current item to\n",
        "      # the temporary list\n",
        "      temp_list.append(monkeys[m][\"Items\"][i])\n",
        "      \n",
        "      # Replace the current item\n",
        "      # with its index. \n",
        "      monkeys[m][\"Items\"][i]=j\n",
        "      \n",
        "      # Increase the index\n",
        "      j+=1\n",
        "  \n",
        "  # For each monkey, add a \n",
        "  # copy of the temporary list\n",
        "  for m in item_list:\n",
        "    item_list[m]=temp_list.copy()\n",
        "  return monkeys, item_list"
      ],
      "metadata": {
        "id": "-Rug58F0DrZ7"
      },
      "execution_count": 3,
      "outputs": []
    },
    {
      "cell_type": "markdown",
      "source": [
        "#### Operation carried out by a monkey"
      ],
      "metadata": {
        "id": "FgoPm3YKT8yu"
      }
    },
    {
      "cell_type": "code",
      "source": [
        "def operation(item, op, worry_denominator):\n",
        "  \n",
        "  # Get a copy of the operation\n",
        "  t_op = op.copy()\n",
        "  \n",
        "  # Go through each part\n",
        "  # of the operation\n",
        "  for k in range(len(t_op)):\n",
        "    \n",
        "    # If a part is equal to\n",
        "    # \"old\" replace it with\n",
        "    # the actual item.\n",
        "    if t_op[k] == \"old\":\n",
        "      t_op[k] = item\n",
        "\n",
        "  # Get the two numerical\n",
        "  # parts of the operation,\n",
        "  # make sure to convert\n",
        "  # the second one in case\n",
        "  # it is still a string.\n",
        "  one = t_op[0]\n",
        "  two = int(t_op[2])\n",
        "\n",
        "  # Return a value based on the\n",
        "  # middle part of the operatio.\n",
        "  if t_op[1]=='+':\n",
        "    return int((one+two)/worry_denominator)\n",
        "  elif t_op[1] == \"*\":\n",
        "    return int((one*two)/worry_denominator)"
      ],
      "metadata": {
        "id": "K-kTMjoUo5iT"
      },
      "execution_count": 4,
      "outputs": []
    },
    {
      "cell_type": "markdown",
      "source": [
        "#### Check where an item should be thrown"
      ],
      "metadata": {
        "id": "NDfLcTwLUmk-"
      }
    },
    {
      "cell_type": "code",
      "source": [
        "def check_item(monkeys, curr_monkey, curr_op, curr_test, worry_denominator):\n",
        "  \n",
        "  # Pop the first item from the current monkey\n",
        "  curr = monkeys[curr_monkey][\"Items\"].pop(0)\n",
        "  \n",
        "  # Perform the operation on the resulting value\n",
        "  curr = operation(curr, curr_op, worry_denominator)\n",
        "  \n",
        "  # Perform the test on the item\n",
        "  if(curr % curr_test) == 0:\n",
        "    return True, curr\n",
        "  else:\n",
        "    return False, curr"
      ],
      "metadata": {
        "id": "_Xn6_a4cBLPa"
      },
      "execution_count": 5,
      "outputs": []
    },
    {
      "cell_type": "markdown",
      "source": [
        "#### Check where an item should be thrown, using the item list"
      ],
      "metadata": {
        "id": "oAqVV298Usun"
      }
    },
    {
      "cell_type": "code",
      "source": [
        "def check_item_with_list(monkeys, curr_monkey, curr_op, curr_test, worry_denominator, itemlist):\n",
        "  \n",
        "  # Pop the first id from the current monkey\n",
        "  curr_id = monkeys[curr_monkey][\"Items\"].pop(0)\n",
        "  \n",
        "  for m in monkeys:\n",
        "    \n",
        "    # Perform the current operation on the item\n",
        "    # at the current id for each monkey.\n",
        "    curr_value = operation(itemlist[m][curr_id], curr_op, worry_denominator)\n",
        "    \n",
        "    # Perform the test on the resulting value\n",
        "    # for each monkey.\n",
        "    curr_value = curr_value % monkeys[m][\"Test\"] \n",
        "    \n",
        "    # Add the result to the item list\n",
        "    itemlist[m][curr_id] = curr_value\n",
        "\n",
        "  # Check what should be returned.\n",
        "  if itemlist[curr_monkey][curr_id] == 0:\n",
        "    return True, curr_id\n",
        "  else:\n",
        "    return False, curr_id"
      ],
      "metadata": {
        "id": "iBlFfhCVB5na"
      },
      "execution_count": 6,
      "outputs": []
    },
    {
      "cell_type": "markdown",
      "source": [
        "#### Have a monkey take a turn"
      ],
      "metadata": {
        "id": "-jagobXoVfqc"
      }
    },
    {
      "cell_type": "code",
      "source": [
        "def monkey_turn(monkeys, index, worry_denominator, s=False, itemlist = None):\n",
        "  \n",
        "  # Get the current values\n",
        "  # based on the index.\n",
        "  curr_monkey = \"Monkey \" + str(index)\n",
        "  curr_op = monkeys[curr_monkey][\"Operation\"]\n",
        "  curr_test = monkeys[curr_monkey][\"Test\"]\n",
        "  curr_outcome = monkeys[curr_monkey][\"Outcome\"]\n",
        "  n = len(monkeys[curr_monkey][\"Items\"])\n",
        "\n",
        "  # Go through each item\n",
        "  for i in range(n):\n",
        "    \n",
        "    # Call the appropriate check, based on\n",
        "    # if the safety to prevent overflow is on\n",
        "    if(s == True):\n",
        "      test, c = check_item_with_list(monkeys, \n",
        "                                     curr_monkey, \n",
        "                                     curr_op, \n",
        "                                     curr_test, \n",
        "                                     worry_denominator, \n",
        "                                     itemlist)    \n",
        "    else:\n",
        "      test, c = check_item(monkeys,\n",
        "                           curr_monkey, \n",
        "                           curr_op, \n",
        "                           curr_test, \n",
        "                           worry_denominator)\n",
        "    \n",
        "    # Get the outcome\n",
        "    # based on the check result\n",
        "    if(test):\n",
        "      throw_to = curr_outcome[0]\n",
        "    else:\n",
        "      throw_to = curr_outcome[1]\n",
        "\n",
        "    # Get the target monkey   \n",
        "    target_monkey = \"Monkey \" + throw_to\n",
        "    \n",
        "    # Append the value returned from \n",
        "    # the check to the target monkey\n",
        "    monkeys[target_monkey][\"Items\"].append(c)\n",
        "    monkeys[curr_monkey][\"Inspection_counter\"] += 1\n",
        "  return monkeys"
      ],
      "metadata": {
        "id": "PX8li9h8nCut"
      },
      "execution_count": 7,
      "outputs": []
    },
    {
      "cell_type": "markdown",
      "source": [
        "#### Have the monkeys complete a round"
      ],
      "metadata": {
        "id": "gQMBpOauXRJG"
      }
    },
    {
      "cell_type": "code",
      "source": [
        "def monkey_round(monkeys, worry_denominator,s = False, itemlist=None):\n",
        "  for m in range(len(monkeys)):\n",
        "    monkeys = monkey_turn(monkeys, m, worry_denominator,s, itemlist)\n",
        "  return monkeys"
      ],
      "metadata": {
        "id": "jf6rebsPthJm"
      },
      "execution_count": 8,
      "outputs": []
    },
    {
      "cell_type": "markdown",
      "source": [
        "### Main function"
      ],
      "metadata": {
        "id": "z-KT_dhmXZtO"
      }
    },
    {
      "cell_type": "code",
      "source": [
        "\"\"\"Find the product of the number of items inspected \n",
        "   by the two monkeys that inspected the most number of items \n",
        "\n",
        "@param datalist: The data (a list of strings)\n",
        "@param rounds: The number of rounds (default is 1)\n",
        "@param worry_denominator: The value to divide the items\n",
        "                          by in every operation (default is 3)\n",
        "@param s: If the function should safeguard against overflow (default is false)\n",
        "\"\"\"\n",
        "\n",
        "def monkey_business(datalist, rounds = 1, worry_denominator = 3, s = False):\n",
        "  \n",
        "  # Get the monkey dictionary\n",
        "  # by preprocessing the data\n",
        "  monkeys = pre_process_data(datalist)\n",
        "  item_list = None\n",
        "  \n",
        "  # If the safety is on,\n",
        "  # create the item list\n",
        "  if s == True:\n",
        "    monkeys, item_list = create_itemlist(monkeys)\n",
        "  \n",
        "  # Carry out the given\n",
        "  # number of rounds\n",
        "  for r in range(rounds):\n",
        "    monkeys = monkey_round(monkeys, worry_denominator, s, item_list)\n",
        "\n",
        "  # Get the number of items\n",
        "  # each monkey has inspected\n",
        "  # after all the rounds.\n",
        "  inspection_list = []\n",
        "  for m in monkeys:\n",
        "    inspection_list.append(monkeys[m][\"Inspection_counter\"])\n",
        "  \n",
        "  # Sort the list and return the\n",
        "  # product of the 2 largest values.\n",
        "  inspection_list.sort()\n",
        "  return inspection_list[-1]*inspection_list[-2]"
      ],
      "metadata": {
        "id": "RucBMhVdt0oC"
      },
      "execution_count": 9,
      "outputs": []
    },
    {
      "cell_type": "code",
      "source": [
        "monkey_business(data_list, 20)"
      ],
      "metadata": {
        "colab": {
          "base_uri": "https://localhost:8080/"
        },
        "id": "eEHEGF-pv99U",
        "outputId": "a304f5db-b45a-4524-8034-133c6700a533"
      },
      "execution_count": 10,
      "outputs": [
        {
          "output_type": "execute_result",
          "data": {
            "text/plain": [
              "100345"
            ]
          },
          "metadata": {},
          "execution_count": 10
        }
      ]
    },
    {
      "cell_type": "markdown",
      "source": [
        "## Part 2\n",
        "Find the product of the number of items inspected\n",
        "by the two monkeys that inspected the most number of items.\n",
        "\n",
        "No decay of worries (worry_denominator = 1) and risk of overflow."
      ],
      "metadata": {
        "id": "yiKeMv3lJPM_"
      }
    },
    {
      "cell_type": "code",
      "source": [
        "monkey_business(data_list, 10000, 1, True)"
      ],
      "metadata": {
        "colab": {
          "base_uri": "https://localhost:8080/"
        },
        "id": "OekPDWnbEWC7",
        "outputId": "442128eb-2f31-426e-c740-069e800d3ec5"
      },
      "execution_count": 11,
      "outputs": [
        {
          "output_type": "execute_result",
          "data": {
            "text/plain": [
              "28537348205"
            ]
          },
          "metadata": {},
          "execution_count": 11
        }
      ]
    }
  ]
}