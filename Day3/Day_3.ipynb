{
  "nbformat": 4,
  "nbformat_minor": 0,
  "metadata": {
    "colab": {
      "provenance": []
    },
    "kernelspec": {
      "name": "python3",
      "display_name": "Python 3"
    },
    "language_info": {
      "name": "python"
    }
  },
  "cells": [
    {
      "cell_type": "markdown",
      "source": [
        "# Advent of Code 2022: Day 3\n",
        "https://adventofcode.com/2022/day/3\n"
      ],
      "metadata": {
        "id": "e7qDcWW3JF8G"
      }
    },
    {
      "cell_type": "markdown",
      "source": [
        "## Part 1\n",
        "Calculate the sum of all priorities within a rucksack"
      ],
      "metadata": {
        "id": "krtSVL3uJOQC"
      }
    },
    {
      "cell_type": "markdown",
      "source": [
        "### Get the data into a list of strings"
      ],
      "metadata": {
        "id": "Jc2_NXw63k49"
      }
    },
    {
      "cell_type": "code",
      "source": [
        "myfile = open('input.txt', 'r')\n",
        "data = myfile.read()\n",
        "data_list = data.split('\\n')"
      ],
      "metadata": {
        "id": "xQfXHvPiJQrT"
      },
      "execution_count": 1,
      "outputs": []
    },
    {
      "cell_type": "markdown",
      "source": [
        "### Get a new list, with the strings split in half"
      ],
      "metadata": {
        "id": "-K35WODc77Ze"
      }
    },
    {
      "cell_type": "code",
      "source": [
        "data_lists = []\n",
        "for i in data_list:\n",
        "  data_lists.append([i[:len(i)//2], i[len(i)//2:]])"
      ],
      "metadata": {
        "id": "WCWtJAW33tpX"
      },
      "execution_count": 5,
      "outputs": []
    },
    {
      "cell_type": "markdown",
      "source": [
        "### List of all lower and upper case letters"
      ],
      "metadata": {
        "id": "nVQLvwaA8A0c"
      }
    },
    {
      "cell_type": "code",
      "source": [
        "priorities = list(map(chr, range(ord('a'), ord('z')+1))) + list(map(chr, range(ord('A'), ord('Z')+1)))"
      ],
      "metadata": {
        "id": "2iZaXODg6WaK"
      },
      "execution_count": 25,
      "outputs": []
    },
    {
      "cell_type": "markdown",
      "source": [
        "### Calculate the sum of all priorities"
      ],
      "metadata": {
        "id": "n7XNL58O8Eby"
      }
    },
    {
      "cell_type": "code",
      "source": [
        "result = 0\n",
        "for item in data_lists:\n",
        "  temp_list = list(item[0])\n",
        "  for c in temp_list:\n",
        "    if c in item[1]:\n",
        "      result += priorities.index(c)+1\n",
        "      break\n",
        "result"
      ],
      "metadata": {
        "colab": {
          "base_uri": "https://localhost:8080/"
        },
        "id": "Vg6HQ-Us5wMu",
        "outputId": "10a15957-a105-4124-9d2f-fe110461b273"
      },
      "execution_count": 29,
      "outputs": [
        {
          "output_type": "execute_result",
          "data": {
            "text/plain": [
              "8039"
            ]
          },
          "metadata": {},
          "execution_count": 29
        }
      ]
    },
    {
      "cell_type": "markdown",
      "source": [
        "## Part 2\n",
        "Calculate the sum of all priorities among 3 rucksacks"
      ],
      "metadata": {
        "id": "yiKeMv3lJPM_"
      }
    },
    {
      "cell_type": "code",
      "source": [
        "i = 0\n",
        "result2 = 0\n",
        "while i < len(data_list):\n",
        "  temp_list = list(data_list[i])\n",
        "  for c in temp_list:\n",
        "    if (c in data_list[i+1]) and (c in data_list[i+2]):\n",
        "      result2 += priorities.index(c)+1\n",
        "      break\n",
        "  i += 3\n",
        "result2"
      ],
      "metadata": {
        "id": "yeCl8dInJRPs",
        "colab": {
          "base_uri": "https://localhost:8080/"
        },
        "outputId": "5d3147b3-f9ef-4873-80d3-5a5d45a1f7dc"
      },
      "execution_count": 33,
      "outputs": [
        {
          "output_type": "execute_result",
          "data": {
            "text/plain": [
              "2510"
            ]
          },
          "metadata": {},
          "execution_count": 33
        }
      ]
    }
  ]
}