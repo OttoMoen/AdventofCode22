{
  "nbformat": 4,
  "nbformat_minor": 0,
  "metadata": {
    "colab": {
      "provenance": []
    },
    "kernelspec": {
      "name": "python3",
      "display_name": "Python 3"
    },
    "language_info": {
      "name": "python"
    }
  },
  "cells": [
    {
      "cell_type": "markdown",
      "source": [
        "# Advent of Code 2022: Day 22\n",
        "https://adventofcode.com/2022/day/22\n"
      ],
      "metadata": {
        "id": "e7qDcWW3JF8G"
      }
    },
    {
      "cell_type": "markdown",
      "source": [
        "## Part 1\n",
        "Find the position on a map after executing moves"
      ],
      "metadata": {
        "id": "krtSVL3uJOQC"
      }
    },
    {
      "cell_type": "markdown",
      "source": [
        "### Get the data into a list of strings"
      ],
      "metadata": {
        "id": "Jc2_NXw63k49"
      }
    },
    {
      "cell_type": "code",
      "source": [
        "myfile = open('input.txt', 'r')\n",
        "data = myfile.read()\n",
        "data_list = data.split('\\n')\n",
        "# Remove empty value at the bottom of the list.\n",
        "data_list = data_list[:-1]"
      ],
      "metadata": {
        "id": "xQfXHvPiJQrT"
      },
      "execution_count": 1,
      "outputs": []
    },
    {
      "cell_type": "markdown",
      "source": [
        "### Extract the element that contains the moves"
      ],
      "metadata": {
        "id": "n7XNL58O8Eby"
      }
    },
    {
      "cell_type": "code",
      "source": [
        "moves = data_list.pop()"
      ],
      "metadata": {
        "id": "Vg6HQ-Us5wMu"
      },
      "execution_count": 2,
      "outputs": []
    },
    {
      "cell_type": "markdown",
      "source": [
        "### Function to parse the moves into a list"
      ],
      "metadata": {
        "id": "-m7b_OO51XWd"
      }
    },
    {
      "cell_type": "code",
      "source": [
        "def get_move_list(moves):\n",
        "  \n",
        "  # Setup the output list and\n",
        "  # a temporary string to hold\n",
        "  # the numbers.\n",
        "  move_list = []\n",
        "  temp_str = \"\"\n",
        "  \n",
        "  # Split the moves string into \n",
        "  # a list and go through it.\n",
        "  split = list(moves)\n",
        "  for i in range(len(split)):\n",
        "    \n",
        "    # If the current character is \n",
        "    # a digit, add it to the string.\n",
        "    if split[i].isdigit():\n",
        "      temp_str += split[i]\n",
        "      \n",
        "      # The last move does not contain\n",
        "      # a direction change, so just \n",
        "      # append the number part to the\n",
        "      # end of the output list. \n",
        "      if i == len(split)-1:\n",
        "        move_list.append([int(temp_str)])\n",
        "    \n",
        "    # If a character is not a digit, it\n",
        "    # is a direction change command, either\n",
        "    # 'R' or 'L'. Append a list containing\n",
        "    # the number and direction change to\n",
        "    # the output list and reset the string.\n",
        "    else:\n",
        "      move_list.append([int(temp_str), split[i]])\n",
        "      temp_str = \"\"\n",
        "  \n",
        "  return move_list"
      ],
      "metadata": {
        "id": "EFw2_Aow4OuE"
      },
      "execution_count": 3,
      "outputs": []
    },
    {
      "cell_type": "markdown",
      "source": [
        "### Function to initialize the board"
      ],
      "metadata": {
        "id": "ibBJV2282YAF"
      }
    },
    {
      "cell_type": "code",
      "source": [
        "def setup_board(data):\n",
        "  \n",
        "  # Find the longest row in the data\n",
        "  # to ensure every row on the board\n",
        "  # will be of the same length.\n",
        "  max_length = 0\n",
        "  for i in range(len(data)):\n",
        "    max_length = max(max_length, len(data[i]))\n",
        "\n",
        "  # Setup the board as a nested list, with rows equal\n",
        "  # to the number of rows in the data, and columns equal\n",
        "  # to the maximum length + 1. The extra padding is done\n",
        "  # to ensure the final column is empty. \n",
        "  board = [[\" \" for i in range(max_length+1)] for j in range(len(data))]\n",
        "  \n",
        "  # Go through the board and mark it with '.' \n",
        "  # or '#' according to the data. Also add an\n",
        "  # empty space to the beginning of each row\n",
        "  # so that the board will have an empty column\n",
        "  # to the left. \n",
        "  for i in range(len(board)):\n",
        "    split = data[i]\n",
        "    for j in range(len(split)):\n",
        "      board[i][j] = split[j]\n",
        "    board[i].insert(0, ' ')\n",
        "  \n",
        "  # Insert a empty row at the top. Because of how \n",
        "  # the data file looks, there should already be\n",
        "  # an empty row at the bottom. \n",
        "  board.insert(0, [' ' for i in range(len(board[0]))])\n",
        "  return board"
      ],
      "metadata": {
        "id": "w0UOfINi6U-2"
      },
      "execution_count": 4,
      "outputs": []
    },
    {
      "cell_type": "markdown",
      "source": [
        "### Function to execute a move"
      ],
      "metadata": {
        "id": "5UeC34so375u"
      }
    },
    {
      "cell_type": "code",
      "source": [
        "def make_move(board, pos, dir, move):\n",
        "  # Get the numeric part\n",
        "  # of the move. \n",
        "  num = move[0]\n",
        "  \n",
        "  # Move right\n",
        "  if dir == 0:\n",
        "    for i in range(num):\n",
        "      \n",
        "      # Get the position on the board\n",
        "      # one step to the right. \n",
        "      new_pos = board[pos[0]][pos[1]+1]\n",
        "      \n",
        "      # Move if possible\n",
        "      if new_pos == '.':\n",
        "        pos[1] +=1\n",
        "      elif new_pos == '#':\n",
        "        break\n",
        "      \n",
        "      # If the new position is empty space\n",
        "      # this means we must loop around to\n",
        "      # left side of the board if possible.\n",
        "      # Get the position of the first dot\n",
        "      # and first wall in the row (if any)\n",
        "      # and move if possible.\n",
        "      elif new_pos == ' ':\n",
        "        first_dot = len(board[pos[0]])\n",
        "        fist_wall = len(board[pos[0]])\n",
        "        if '.' in board[pos[0]]:\n",
        "          first_dot = board[pos[0]].index('.')\n",
        "        if '#' in board[pos[0]]:\n",
        "          first_wall = board[pos[0]].index('#')\n",
        "        if first_dot < first_wall:\n",
        "          pos[1] = first_dot\n",
        "        else:\n",
        "          break \n",
        "\n",
        "  # Move down\n",
        "  elif dir == 1:\n",
        "    for i in range(num):\n",
        "      \n",
        "      # Get the position on the board\n",
        "      # one step down.\n",
        "      new_pos = board[pos[0]+1][pos[1]]\n",
        "      \n",
        "      # Move if possible\n",
        "      if new_pos == '.':\n",
        "        pos[0] +=1\n",
        "      elif new_pos == '#':\n",
        "        break\n",
        "      \n",
        "      # If the new position is empty space\n",
        "      # this means we must loop around to\n",
        "      # top side of the board if possible.\n",
        "      # Go from the top until a dot or\n",
        "      # wall is found, then move if possible.  \n",
        "      elif new_pos == ' ':\n",
        "        break_outer = False\n",
        "        for row in range(len(board)):\n",
        "          if board[row][pos[1]] == '.':\n",
        "            pos[0] = row\n",
        "            break\n",
        "          if board[row][pos[1]] == '#':\n",
        "            break\n",
        "            break_outer = True\n",
        "        if break_outer:\n",
        "          break\n",
        "  \n",
        "  # Move left\n",
        "  elif dir == 2:\n",
        "    for i in range(num):\n",
        "      \n",
        "      # Get the position on the board\n",
        "      # one step to the left. \n",
        "      new_pos = board[pos[0]][pos[1]-1]\n",
        "      \n",
        "      # Move if possible\n",
        "      if new_pos == '.':\n",
        "        pos[1] -=1\n",
        "      elif new_pos == '#':\n",
        "        break\n",
        "      \n",
        "      # If the new position is empty space\n",
        "      # this means we must loop around to\n",
        "      # right side of the board if possible.\n",
        "      # Get the position of the last dot\n",
        "      # and last wall in the row (if any)\n",
        "      # and move if possible.   \n",
        "      elif new_pos == ' ':\n",
        "        last_dot = 0\n",
        "        last_wall = 0\n",
        "        if '.' in board[pos[0]]:\n",
        "          last_dot = len(board[pos[0]]) - list(reversed(board[pos[0]])).index('.') -1\n",
        "        if '#' in board[pos[0]]:\n",
        "          last_wall = len(board[pos[0]]) - list(reversed(board[pos[0]])).index('#') -1\n",
        "        if last_dot > last_wall:\n",
        "          pos[1] = last_dot\n",
        "        else:\n",
        "          break \n",
        "\n",
        "  # Move up\n",
        "  elif dir == 3:\n",
        "    for i in range(num):\n",
        "      \n",
        "      # Get the position on the board\n",
        "      # one step up.\n",
        "      new_pos = board[pos[0]-1][pos[1]]\n",
        "      \n",
        "      # Move if possible.\n",
        "      if new_pos == '.':\n",
        "        pos[0] -=1\n",
        "      elif new_pos == '#':\n",
        "        break\n",
        "      \n",
        "      # If the new position is empty space\n",
        "      # this means we must loop around to\n",
        "      # bottom side of the board if possible.\n",
        "      # Go from the bottom until a dot or\n",
        "      # wall is found, then move if possible.\n",
        "      elif new_pos == ' ':\n",
        "        break_outer = False\n",
        "        for row in reversed(range(len(board))):\n",
        "          if board[row][pos[1]] == '.':\n",
        "            pos[0] = row\n",
        "            break\n",
        "          if board[row][pos[1]] == '#':\n",
        "            break\n",
        "            break_outer = True\n",
        "        if break_outer:\n",
        "          break\n",
        "\n",
        "  # If the move contains a \n",
        "  # direction change, then\n",
        "  # update the direct.\n",
        "  if len(move) ==2:\n",
        "    if move[1] == 'R':\n",
        "      dir += 1\n",
        "      dir %= 4\n",
        "    else:\n",
        "      dir -=1\n",
        "      dir %=4\n",
        "  \n",
        "  return pos, dir"
      ],
      "metadata": {
        "id": "wZ16uprL9rPu"
      },
      "execution_count": 5,
      "outputs": []
    },
    {
      "cell_type": "markdown",
      "source": [
        "### Function to get the final position after a number of moves "
      ],
      "metadata": {
        "id": "w_7uaTky5S3t"
      }
    },
    {
      "cell_type": "code",
      "source": [
        "def get_final_position(data, moves, part =1):\n",
        "  \n",
        "  # Setup the move list, board, starting\n",
        "  # position and starting direction.\n",
        "  move_list = get_move_list(moves)\n",
        "  board = setup_board(data)\n",
        "  pos = [1,board[1].index('.')]\n",
        "  dir = 0\n",
        "\n",
        "  if part == 1:\n",
        "    for move in move_list:\n",
        "      pos, dir = make_move(board, pos, dir, move)\n",
        "  \n",
        "  if part == 2:\n",
        "    for move in move_list:\n",
        "      pos, dir = make_move2(board, pos, dir, move)\n",
        "\n",
        "  return (1000*pos[0]) + (4*pos[1]) + dir"
      ],
      "metadata": {
        "id": "ksWtFOl8AcCl"
      },
      "execution_count": 6,
      "outputs": []
    },
    {
      "cell_type": "code",
      "source": [
        "get_final_position(data_list, moves)"
      ],
      "metadata": {
        "colab": {
          "base_uri": "https://localhost:8080/"
        },
        "id": "qySpFFHxOiCh",
        "outputId": "0f1288a1-cd46-4792-a3e8-1e00b12776de"
      },
      "execution_count": 7,
      "outputs": [
        {
          "output_type": "execute_result",
          "data": {
            "text/plain": [
              "133174"
            ]
          },
          "metadata": {},
          "execution_count": 7
        }
      ]
    },
    {
      "cell_type": "markdown",
      "source": [
        "## Part 2\n",
        "Find the position on a map after executing moves. The board now represents a folded out cube with 50x50 sides with the following pattern:\n",
        "      \n",
        "      1 2\n",
        "      3\n",
        "    5 4\n",
        "    6\n",
        "\n",
        "Solution only works for this specific pattern and for 50x50 sides. "
      ],
      "metadata": {
        "id": "yiKeMv3lJPM_"
      }
    },
    {
      "cell_type": "markdown",
      "source": [
        "### Function to execute a move for a cube"
      ],
      "metadata": {
        "id": "VLws135S6J_n"
      }
    },
    {
      "cell_type": "code",
      "source": [
        "def make_move2(board, pos, dir, move):\n",
        "  num = move[0]\n",
        "  for i in range(num):\n",
        "    \n",
        "    # Move right\n",
        "    if dir == 0:\n",
        "      \n",
        "      # Get the position on the board\n",
        "      # one step to the right. \n",
        "      new_pos = board[pos[0]][pos[1]+1]\n",
        "      \n",
        "      # Move if possible\n",
        "      if new_pos == '.':\n",
        "        pos[1] +=1\n",
        "      elif new_pos == '#':\n",
        "        break\n",
        "      \n",
        "      # If the new position is empty space\n",
        "      # this means we must loop around to\n",
        "      # another side. Based on the current \n",
        "      # position, calculate where to go and\n",
        "      # move if possible. \n",
        "      elif new_pos == ' ':\n",
        "        if pos[0] >= 1 and pos[0] <=50:\n",
        "          new_pos = board[151-pos[0]][100]\n",
        "          if new_pos =='.':\n",
        "            pos = [151-pos[0], 100]\n",
        "            dir = 2\n",
        "          else:\n",
        "            break\n",
        "        elif pos[0] >= 51 and pos[0] <=100:\n",
        "          new_pos = board[50][pos[0]+50]\n",
        "          if new_pos =='.':\n",
        "            pos = [50, pos[0]+50]\n",
        "            dir = 3\n",
        "          else:\n",
        "            break\n",
        "        elif pos[0] >= 101 and pos[0] <=150:\n",
        "          new_pos = board[151-pos[0]][150]\n",
        "          if new_pos =='.':\n",
        "            pos = [151-pos[0], 150]\n",
        "            dir = 2\n",
        "          else:\n",
        "            break\n",
        "        elif pos[0] >= 151 and pos[0] <=200:\n",
        "          new_pos = board[150][pos[0]-100]\n",
        "          if new_pos =='.':\n",
        "            pos = [150, pos[0]-100]\n",
        "            dir = 3\n",
        "          else:\n",
        "            break\n",
        "    \n",
        "    # Move down\n",
        "    elif dir == 1:\n",
        "\n",
        "      # Get the position on the board\n",
        "      # one step down. \n",
        "      new_pos = board[pos[0]+1][pos[1]]\n",
        "      \n",
        "      # Move if possible\n",
        "      if new_pos == '.':\n",
        "        pos[0] +=1\n",
        "      elif new_pos == '#':\n",
        "        break\n",
        "      \n",
        "      # If the new position is empty space\n",
        "      # this means we must loop around to\n",
        "      # another side. Based on the current \n",
        "      # position, calculate where to go and\n",
        "      # move if possible. \n",
        "      elif new_pos == ' ':\n",
        "        if pos[1] >= 101 and pos[1] <=150:\n",
        "          new_pos = board[pos[1]-50][100]\n",
        "          if new_pos =='.':\n",
        "            pos = [pos[1]-50, 100]\n",
        "            dir = 2\n",
        "          else:\n",
        "            break\n",
        "        elif pos[1] >= 51 and pos[1] <=100:\n",
        "          new_pos = board[pos[1]+100][50]\n",
        "          if new_pos =='.':\n",
        "            pos = [pos[1]+100, 50]\n",
        "            dir = 2\n",
        "          else:\n",
        "            break\n",
        "        elif pos[1] >= 1 and pos[1] <=50:\n",
        "          new_pos = board[1][pos[1]+100]\n",
        "          if new_pos =='.':\n",
        "            pos = [1, pos[1]+100]\n",
        "            dir = 1\n",
        "          else:\n",
        "            break\n",
        "    \n",
        "    # Move left\n",
        "    elif dir == 2:\n",
        "      \n",
        "      # Get the position on the board\n",
        "      # one step to the left. \n",
        "      new_pos = board[pos[0]][pos[1]-1]\n",
        "      \n",
        "      # Move if possible\n",
        "      if new_pos == '.':\n",
        "        pos[1] -=1\n",
        "      elif new_pos == '#':\n",
        "        break\n",
        "      \n",
        "      # If the new position is empty space\n",
        "      # this means we must loop around to\n",
        "      # another side. Based on the current \n",
        "      # position, calculate where to go and\n",
        "      # move if possible. \n",
        "      elif new_pos == ' ':\n",
        "        if pos[0] >= 1 and pos[0] <=50:\n",
        "          new_pos = board[151-pos[0]][1]\n",
        "          if new_pos =='.':\n",
        "            pos = [151-pos[0],1]\n",
        "            dir = 0\n",
        "          else:\n",
        "            break\n",
        "        elif pos[0] >= 51 and pos[0] <=100:\n",
        "          new_pos = board[101][pos[0]-50]\n",
        "          if new_pos =='.':\n",
        "            pos = [101, pos[0]-50]\n",
        "            dir = 1\n",
        "          else:\n",
        "            break\n",
        "        elif pos[0] >= 101 and pos[0] <=150:\n",
        "          new_pos = board[151-pos[0]][51]\n",
        "          if new_pos =='.':\n",
        "            pos = [151-pos[0],51]\n",
        "            dir = 0\n",
        "          else:\n",
        "            break\n",
        "        elif pos[0] >= 151 and pos[0] <=200:\n",
        "          new_pos = board[1][pos[0]-100]\n",
        "          if new_pos =='.':\n",
        "            pos = [1, pos[0]-100]\n",
        "            dir = 1\n",
        "          else:\n",
        "            break \n",
        "    \n",
        "    # Move up\n",
        "    elif dir == 3:\n",
        "      \n",
        "      # Get the position on the board\n",
        "      # one step up. \n",
        "      new_pos = board[pos[0]-1][pos[1]]\n",
        "      \n",
        "      # Move if possible\n",
        "      if new_pos == '.':\n",
        "        pos[0] -=1\n",
        "      elif new_pos == '#':\n",
        "        break\n",
        "      \n",
        "      # If the new position is empty space\n",
        "      # this means we must loop around to\n",
        "      # another side. Based on the current \n",
        "      # position, calculate where to go and\n",
        "      # move if possible. \n",
        "      elif new_pos == ' ':\n",
        "        if pos[1] >= 101 and pos[1] <=150:\n",
        "          new_pos = board[200][pos[1]-100]\n",
        "          if new_pos =='.':\n",
        "            pos = [200, pos[1]-100]\n",
        "            dir = 3\n",
        "          else:\n",
        "            break\n",
        "        elif pos[1] >= 51 and pos[1] <=100:\n",
        "          new_pos = board[pos[1]+100][1]\n",
        "          if new_pos =='.':\n",
        "            pos = [pos[1]+100, 1]\n",
        "            dir = 0\n",
        "          else:\n",
        "            break\n",
        "        elif pos[1] >= 1 and pos[1] <=50:\n",
        "          new_pos = board[pos[1]+50][51]\n",
        "          if new_pos =='.':\n",
        "            pos = [pos[1]+50, 51]\n",
        "            dir = 0\n",
        "          else:\n",
        "            break\n",
        "\n",
        "  # If the move contains a \n",
        "  # direction change, then\n",
        "  # update the direct.\n",
        "  if len(move) ==2:\n",
        "    if move[1] == 'R':\n",
        "      dir += 1\n",
        "      dir %= 4\n",
        "    else:\n",
        "      dir -=1\n",
        "      dir %=4\n",
        "  \n",
        "  return pos, dir"
      ],
      "metadata": {
        "id": "WgU6_82HnxUW"
      },
      "execution_count": 8,
      "outputs": []
    },
    {
      "cell_type": "code",
      "source": [
        "get_final_position(data_list, moves, 2)"
      ],
      "metadata": {
        "colab": {
          "base_uri": "https://localhost:8080/"
        },
        "id": "YyoPISruyfke",
        "outputId": "78074ee4-2096-4594-dc1b-6d52a94f25ba"
      },
      "execution_count": 9,
      "outputs": [
        {
          "output_type": "execute_result",
          "data": {
            "text/plain": [
              "15410"
            ]
          },
          "metadata": {},
          "execution_count": 9
        }
      ]
    }
  ]
}