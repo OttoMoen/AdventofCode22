{
  "nbformat": 4,
  "nbformat_minor": 0,
  "metadata": {
    "colab": {
      "provenance": []
    },
    "kernelspec": {
      "name": "python3",
      "display_name": "Python 3"
    },
    "language_info": {
      "name": "python"
    }
  },
  "cells": [
    {
      "cell_type": "markdown",
      "source": [
        "# Advent of Code 2022: Day 12\n",
        "https://adventofcode.com/2022/day/12\n"
      ],
      "metadata": {
        "id": "e7qDcWW3JF8G"
      }
    },
    {
      "cell_type": "markdown",
      "source": [
        "## Part 1\n",
        "Find the shortest path from the start to the goal"
      ],
      "metadata": {
        "id": "krtSVL3uJOQC"
      }
    },
    {
      "cell_type": "markdown",
      "source": [
        "### Get the data into a list of strings"
      ],
      "metadata": {
        "id": "Jc2_NXw63k49"
      }
    },
    {
      "cell_type": "code",
      "source": [
        "myfile = open('input.txt', 'r')\n",
        "data = myfile.read()\n",
        "data_list = data.split('\\n')\n",
        "# Remove empty value at the bottom of the list.\n",
        "data_list = data_list[:-1]"
      ],
      "metadata": {
        "id": "xQfXHvPiJQrT"
      },
      "execution_count": 1,
      "outputs": []
    },
    {
      "cell_type": "markdown",
      "source": [
        "### Transform the data to a 2d array"
      ],
      "metadata": {
        "id": "tP-fQ_OuGnKo"
      }
    },
    {
      "cell_type": "code",
      "source": [
        "data_array2d = []\n",
        "for line in data_list:\n",
        "  data_array2d.append(list(line))"
      ],
      "metadata": {
        "id": "9fSksugZA7Y0"
      },
      "execution_count": 2,
      "outputs": []
    },
    {
      "cell_type": "markdown",
      "source": [
        "### Get a list of lower case letters"
      ],
      "metadata": {
        "id": "H9uZmbKAGr0y"
      }
    },
    {
      "cell_type": "code",
      "source": [
        "height_order = list(map(chr, range(ord('a'), ord('z')+1)))"
      ],
      "metadata": {
        "id": "wt68T_AtBjeH"
      },
      "execution_count": 3,
      "outputs": []
    },
    {
      "cell_type": "markdown",
      "source": [
        "### Setup helper functions"
      ],
      "metadata": {
        "id": "n7XNL58O8Eby"
      }
    },
    {
      "cell_type": "markdown",
      "source": [
        "#### Function to get the elevation at the current position"
      ],
      "metadata": {
        "id": "FZKd6HBPgCOb"
      }
    },
    {
      "cell_type": "code",
      "source": [
        "def getElevation(pos_value):\n",
        "  # Convert the starting position\n",
        "  # to \"a\" and the ending position to \"z\"\n",
        "  value = pos_value\n",
        "  if pos_value == \"S\":\n",
        "    value = 'a'\n",
        "  if pos_value == \"E\":\n",
        "    value = 'z'\n",
        "  return height_order.index(value)"
      ],
      "metadata": {
        "id": "zFDlrvrBgAou"
      },
      "execution_count": 4,
      "outputs": []
    },
    {
      "cell_type": "markdown",
      "source": [
        "#### Function to find the starting position"
      ],
      "metadata": {
        "id": "D2qLf8AeHHzz"
      }
    },
    {
      "cell_type": "code",
      "source": [
        "def get_start_pos(data):\n",
        "  nrows = len(data)\n",
        "  ncols = len(data[0])\n",
        "  for i in range(nrows):\n",
        "    for j in range(ncols):\n",
        "      if data[i][j] == \"S\":\n",
        "        return([i, j])"
      ],
      "metadata": {
        "id": "Vg6HQ-Us5wMu"
      },
      "execution_count": 5,
      "outputs": []
    },
    {
      "cell_type": "markdown",
      "source": [
        "#### Function to find the end position"
      ],
      "metadata": {
        "id": "WbbOdeG4HMCi"
      }
    },
    {
      "cell_type": "code",
      "source": [
        "def get_end_pos(data):\n",
        "  nrows = len(data)\n",
        "  ncols = len(data[0])\n",
        "  for i in range(nrows):\n",
        "    for j in range(ncols):\n",
        "      if data[i][j] == \"E\":\n",
        "        return([i, j])"
      ],
      "metadata": {
        "id": "iovsDW2Zb7D9"
      },
      "execution_count": 6,
      "outputs": []
    },
    {
      "cell_type": "markdown",
      "source": [
        "#### Function to find the valid neighbors in the current position"
      ],
      "metadata": {
        "id": "7yu5MBVYHdJ8"
      }
    },
    {
      "cell_type": "code",
      "source": [
        "def get_neighbors(data, heights, pos, nrows, ncols):\n",
        "  \n",
        "  # Get the current position\n",
        "  # and the corresponding value.\n",
        "  row = pos[0]\n",
        "  col = pos[1]\n",
        "  curr = data[row][col]\n",
        "\n",
        "  # List of valid neighbors.\n",
        "  dirs = []\n",
        "  \n",
        "  # Get the value from each neighbor\n",
        "  # if the neighbor exists. Calculate\n",
        "  # the height difference and add\n",
        "  # the neighbor to the list if\n",
        "  # the difference is 1 or less.\n",
        "  if row > 0:\n",
        "    new_pos = data[row-1][col]\n",
        "    up = getElevation(new_pos)-getElevation(curr)\n",
        "    if up  <=1:\n",
        "      dirs.append([row-1, col]) \n",
        "  \n",
        "  if row <= nrows-2:\n",
        "    new_pos = data[row+1][col]\n",
        "    down = getElevation(new_pos)-getElevation(curr)\n",
        "    if down <=1:\n",
        "      dirs.append([row+1, col])\n",
        "  \n",
        "  if col > 0:\n",
        "    new_pos = data[row][col-1]\n",
        "    left = getElevation(new_pos)-getElevation(curr)\n",
        "    if left  <=1:\n",
        "      dirs.append([row, col-1])\n",
        "\n",
        "  if col <= ncols-2:\n",
        "    new_pos = data[row][col+1]\n",
        "    right = getElevation(new_pos)-getElevation(curr)\n",
        "    if right <=1:\n",
        "      dirs.append([row, col+1])\n",
        "\n",
        "\n",
        "  return dirs"
      ],
      "metadata": {
        "id": "kOqGF-y9DelO"
      },
      "execution_count": 7,
      "outputs": []
    },
    {
      "cell_type": "markdown",
      "source": [
        "### Shortest path function"
      ],
      "metadata": {
        "id": "2mgX55AyHk4U"
      }
    },
    {
      "cell_type": "code",
      "source": [
        "def find_shortest_path(data, heights, start, end):\n",
        "  \n",
        "  # Get number of\n",
        "  # rows and columns.\n",
        "  nrows = len(data)\n",
        "  ncols = len(data[0])\n",
        "\n",
        "  # Setup necessary lists\n",
        "  # and dictionaries.\n",
        "\n",
        "  # List of positions\n",
        "  # still to explore.\n",
        "  exploreQ = []\n",
        "  \n",
        "  # Dictionary that keeps track of\n",
        "  # the path by having the current \n",
        "  # position as the key and the \n",
        "  # previous position as the value.\n",
        "  pred = {}\n",
        "\n",
        "  # Dictionary that keeps track of\n",
        "  # the distance from the start.\n",
        "  dist = {}\n",
        "\n",
        "  # List that keeps track of which\n",
        "  # positions have already been visited.\n",
        "  visited = []\n",
        "\n",
        "  # The previous position of the\n",
        "  # start is itself. The distance\n",
        "  # from start to start is 0.\n",
        "  pred[str(start)] = start\n",
        "  dist[str(start)] = 0\n",
        "\n",
        "  # Add the starting position\n",
        "  # to the visited and \n",
        "  # exploration lists.\n",
        "  visited.append(start)\n",
        "  exploreQ.append(start)\n",
        "\n",
        "  # The start is not the end.\n",
        "  foundEnd = (start == end)\n",
        "\n",
        "  # While there are more\n",
        "  # positions to explore.\n",
        "  while(not(not exploreQ) and (not foundEnd)):\n",
        "    \n",
        "    # Get the position at the\n",
        "    # from of the exploration list.\n",
        "    curr = exploreQ.pop(0)\n",
        "    \n",
        "    # Get the valid neighbors\n",
        "    # for the current position.\n",
        "    neighbors = get_neighbors(data, heights, curr, nrows, ncols)\n",
        "    \n",
        "    # Go through the neighbors.\n",
        "    for neighbor in neighbors:\n",
        "      \n",
        "      # If the neighbor has not\n",
        "      # already been visited.\n",
        "      if neighbor not in visited:\n",
        "        \n",
        "        # The previous position for\n",
        "        # this neighbor is the \n",
        "        # current position.\n",
        "        pred[str(neighbor)] = curr\n",
        "        \n",
        "        # Add the neighbor position\n",
        "        # to the visited and\n",
        "        # exploration lists.\n",
        "        visited.append(neighbor)\n",
        "        exploreQ.append(neighbor)\n",
        "        \n",
        "        # The distance from the start is 1\n",
        "        # more than in the previous position.\n",
        "        if (str(neighbor) not in dist.keys()):\n",
        "          dist[str(neighbor)] = dist[str(curr)] +1\n",
        "        \n",
        "        # Stop the loop if \n",
        "        # the end is found.\n",
        "        if neighbor == end:\n",
        "          foundEnd = True\n",
        "          break\n",
        "\n",
        "  # Create the list for\n",
        "  # the shortest path.\n",
        "  path = []\n",
        "\n",
        "  # The current position is the\n",
        "  # end, add it to the path.\n",
        "  curr = str(end)\n",
        "  path.append(curr)\n",
        "  \n",
        "  # While the current position is\n",
        "  # in the list of all previous positions\n",
        "  # and is not the same as is not the\n",
        "  # same as its previous position.\n",
        "  while((curr in pred.keys()) and (str(pred[curr]) != curr)):\n",
        "    \n",
        "    # Insert the previous position\n",
        "    # of the current position into the list.\n",
        "    path.insert(0, str(pred[curr]))\n",
        "    \n",
        "    # Update the current position to\n",
        "    # its previous position.\n",
        "    curr = str(pred[curr])\n",
        "\n",
        "  return path"
      ],
      "metadata": {
        "id": "rkye22wjcBEz"
      },
      "execution_count": 8,
      "outputs": []
    },
    {
      "cell_type": "markdown",
      "source": [
        "### Execute the function"
      ],
      "metadata": {
        "id": "MU2MKvF2HpSK"
      }
    },
    {
      "cell_type": "code",
      "source": [
        "# Get the start and end positions.\n",
        "start = get_start_pos(data_array2d)\n",
        "end = get_end_pos(data_array2d)\n",
        "\n",
        "# Get the shortest path.\n",
        "p = find_shortest_path(data_array2d, height_order, start, end)\n",
        "\n",
        "# Subtract by 1 to get the correct value, since\n",
        "# the starting position is counted as a position\n",
        "# in the list, but does not contribute to the\n",
        "# actual path length. \n",
        "len(p)-1"
      ],
      "metadata": {
        "colab": {
          "base_uri": "https://localhost:8080/"
        },
        "id": "SYCWobJ8kVIE",
        "outputId": "7765a59e-f248-442c-94b2-19ca798db75f"
      },
      "execution_count": 9,
      "outputs": [
        {
          "output_type": "execute_result",
          "data": {
            "text/plain": [
              "504"
            ]
          },
          "metadata": {},
          "execution_count": 9
        }
      ]
    },
    {
      "cell_type": "markdown",
      "source": [
        "## Part 2\n",
        "Find the shortest path from every start of equal height to the end"
      ],
      "metadata": {
        "id": "yiKeMv3lJPM_"
      }
    },
    {
      "cell_type": "markdown",
      "source": [
        "### Function to find the shortest path with multiple starts"
      ],
      "metadata": {
        "id": "pjG308TJH74d"
      }
    },
    {
      "cell_type": "code",
      "source": [
        "def find_nearest_start(data, heights, startheight, end):\n",
        "  \n",
        "  # Get number of\n",
        "  # rows and columns.\n",
        "  nrows = len(data)\n",
        "  ncols = len(data[0])\n",
        "  \n",
        "  # Setup a list of starting positions\n",
        "  # and fill it with positions.\n",
        "  starts = []\n",
        "  for i in range(nrows):\n",
        "    for j in range(ncols):\n",
        "      if data[i][j] == \"S\" or data[i][j] == startheight:\n",
        "        starts.append([i,j])\n",
        "\n",
        "  # Setup a list of distances,\n",
        "  # and fill it with the algorithm\n",
        "  # using 3 as a minimum length.\n",
        "  dists = []\n",
        "  for start in starts:\n",
        "    p = find_shortest_path(data, heights, start, end)\n",
        "    if len(p) > 3:\n",
        "      dists.append(len(p)-1)\n",
        "  return min(dists)"
      ],
      "metadata": {
        "id": "y88_73J9BIvW"
      },
      "execution_count": 10,
      "outputs": []
    },
    {
      "cell_type": "markdown",
      "source": [
        "### Execute function"
      ],
      "metadata": {
        "id": "uDcW36uWIBCw"
      }
    },
    {
      "cell_type": "code",
      "source": [
        "# Get the end position\n",
        "# and starting height.\n",
        "end = get_end_pos(data_array2d)\n",
        "start_height= \"a\"\n",
        "\n",
        "# Get the shortest path.\n",
        "find_nearest_start(data_array2d, height_order, \"a\", end)"
      ],
      "metadata": {
        "colab": {
          "base_uri": "https://localhost:8080/"
        },
        "id": "x-_DeiC9Dl8r",
        "outputId": "3fcbee13-5ca0-40d6-953f-64bf1ba133b7"
      },
      "execution_count": 11,
      "outputs": [
        {
          "output_type": "execute_result",
          "data": {
            "text/plain": [
              "500"
            ]
          },
          "metadata": {},
          "execution_count": 11
        }
      ]
    }
  ]
}