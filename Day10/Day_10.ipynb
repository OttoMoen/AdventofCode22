{
  "nbformat": 4,
  "nbformat_minor": 0,
  "metadata": {
    "colab": {
      "provenance": []
    },
    "kernelspec": {
      "name": "python3",
      "display_name": "Python 3"
    },
    "language_info": {
      "name": "python"
    }
  },
  "cells": [
    {
      "cell_type": "markdown",
      "source": [
        "# Advent of Code 2022: Day 10\n",
        "https://adventofcode.com/2022/day/10\n"
      ],
      "metadata": {
        "id": "e7qDcWW3JF8G"
      }
    },
    {
      "cell_type": "markdown",
      "source": [
        "## Part 1\n",
        "Calculate the sum of the register at specific cycles"
      ],
      "metadata": {
        "id": "krtSVL3uJOQC"
      }
    },
    {
      "cell_type": "markdown",
      "source": [
        "### Get the data into a list of strings"
      ],
      "metadata": {
        "id": "Jc2_NXw63k49"
      }
    },
    {
      "cell_type": "code",
      "source": [
        "myfile = open('input.txt', 'r')\n",
        "data = myfile.read()\n",
        "data_list = data.split('\\n')\n",
        "# Remove empty value at the bottom of the list\n",
        "data_list = data_list[:-1]"
      ],
      "metadata": {
        "id": "xQfXHvPiJQrT"
      },
      "execution_count": 1,
      "outputs": []
    },
    {
      "cell_type": "markdown",
      "source": [
        "### Create helper function to get the data into a correct format "
      ],
      "metadata": {
        "id": "n7XNL58O8Eby"
      }
    },
    {
      "cell_type": "code",
      "source": [
        "def preprocess_list(signal_list):\n",
        "  temp_list = []\n",
        "  for item in signal_list:\n",
        "    \n",
        "    # Split each item on\n",
        "    # an empty space\n",
        "    temp = item.split(' ')\n",
        "\n",
        "    # Go through the items\n",
        "    for temp_item in temp:\n",
        "      \n",
        "      # If an item is a digit, convert\n",
        "      # it to an int. Strip the \"-\" to\n",
        "      # correctly convert negative numbers.\n",
        "      if temp_item.lstrip(\"-\").isdigit():\n",
        "        temp_list.append(int(temp_item))\n",
        "      \n",
        "      # Otherwise, append the item\n",
        "      # as is. \n",
        "      else:\n",
        "        temp_list.append(temp_item)\n",
        "  return temp_list"
      ],
      "metadata": {
        "id": "0FTfAuuTJ1nw"
      },
      "execution_count": 2,
      "outputs": []
    },
    {
      "cell_type": "markdown",
      "source": [
        "### Create function to calculate the sum of the signals at specific cycles"
      ],
      "metadata": {
        "id": "aO0QNsCoVFtD"
      }
    },
    {
      "cell_type": "code",
      "source": [
        "def sum_of_signals(signal_list, cycle_list):\n",
        "  \n",
        "  # Setup the register, signal\n",
        "  # and preprocess the signal list\n",
        "  X = 1\n",
        "  signal = 0\n",
        "  signal_list = preprocess_list(signal_list)\n",
        "\n",
        "  # Subtract each cycle by 1 to \n",
        "  # match Pythons iterables\n",
        "  for i in range(len(cycle_list)):\n",
        "    cycle_list[i] = cycle_list[i]-1\n",
        "\n",
        "  # Go through each item in \n",
        "  # the signal list\n",
        "  for i in range(len(signal_list)):\n",
        "    \n",
        "    # If the current cycle is in\n",
        "    # the cycle list, add cycle*X\n",
        "    # to the value of signal. Make\n",
        "    # sure to add back the 1 to the\n",
        "    # i to match the original cycle value.\n",
        "    if i in cycle_list:\n",
        "      signal += (i+1)*X\n",
        "    \n",
        "    # If the current item is an integer,\n",
        "    # add it to the value of X.\n",
        "    if isinstance(signal_list[i], int):\n",
        "      X += signal_list[i]\n",
        "  \n",
        "  return signal"
      ],
      "metadata": {
        "id": "Vg6HQ-Us5wMu"
      },
      "execution_count": 3,
      "outputs": []
    },
    {
      "cell_type": "markdown",
      "source": [
        "### Get the sum of the signals"
      ],
      "metadata": {
        "id": "J96VgzzbVdtz"
      }
    },
    {
      "cell_type": "code",
      "source": [
        "cycle_list = [20, 60, 100, 140, 180, 220]\n",
        "signal = sum_of_signals(data_list, cycle_list)\n",
        "signal"
      ],
      "metadata": {
        "colab": {
          "base_uri": "https://localhost:8080/"
        },
        "id": "Y_QdFGvpNXcn",
        "outputId": "8e4f7f01-1cab-4c81-ef97-c3d90afa8bc2"
      },
      "execution_count": 4,
      "outputs": [
        {
          "output_type": "execute_result",
          "data": {
            "text/plain": [
              "11820"
            ]
          },
          "metadata": {},
          "execution_count": 4
        }
      ]
    },
    {
      "cell_type": "markdown",
      "source": [
        "## Part 2\n",
        "Draw an image using the signals"
      ],
      "metadata": {
        "id": "yiKeMv3lJPM_"
      }
    },
    {
      "cell_type": "markdown",
      "source": [
        "### Helper function to obtain the location based on cycle"
      ],
      "metadata": {
        "id": "F_qppZrRWnIY"
      }
    },
    {
      "cell_type": "code",
      "source": [
        "def get_location(i, cycle_list):\n",
        "  # If the current cycle is less\n",
        "  # than the first item in the \n",
        "  # cycle list, return it.\n",
        "  if(i < cycle_list[0]+1):\n",
        "    return i\n",
        "  else:\n",
        "\n",
        "    # Go through each item in the cycle list\n",
        "    for j in range(1,len(cycle_list)):\n",
        "      \n",
        "      # If the current cycle is less than\n",
        "      # item j, return the current cycle\n",
        "      # minus the previous item (j-1).\n",
        "      if(i < cycle_list[j]+1):\n",
        "        return i - (cycle_list[j-1]+1)"
      ],
      "metadata": {
        "id": "p0dE3vitSVwT"
      },
      "execution_count": 5,
      "outputs": []
    },
    {
      "cell_type": "code",
      "source": [
        "def draw_image(signal_list, cycle_list):\n",
        "  \n",
        "  # Setup X, the sprite, the image\n",
        "  # and preprocess the signal list\n",
        "  X = 1\n",
        "  sprite = [0,1,2]\n",
        "  signal_list = preprocess_list(signal_list)\n",
        "  image = \"\"\n",
        "\n",
        "  # Subtract each cycle by 1 to \n",
        "  # match Pythons iterables\n",
        "  for i in range(len(cycle_list)):\n",
        "    cycle_list[i] = cycle_list[i]-1\n",
        "  \n",
        "  # Go through each item in \n",
        "  # the signal list\n",
        "  for i in range(len(signal_list)):\n",
        "    \n",
        "    # Get the location of the current\n",
        "    # cycle using the helper function.\n",
        "    loc = get_location(i, cycle_list)\n",
        "    \n",
        "    # If the current location is in the\n",
        "    # sprite, add a \"#\" to the image,\n",
        "    # otherwise add a \".\"\n",
        "    if loc in sprite:\n",
        "      image += \"#\"\n",
        "    else:\n",
        "      image += \".\"\n",
        "\n",
        "    # If the current cycle is in the\n",
        "    # cycle list, this indicates the\n",
        "    # end of a row. Add a \"\\n\" to the\n",
        "    # image. \n",
        "    if i in cycle_list:\n",
        "      image += \"\\n\"\n",
        "\n",
        "    # If the current item is an integer,\n",
        "    # add it to the value of X. Also\n",
        "    # update the sprite, such that the\n",
        "    # new value of X is the center.\n",
        "    if isinstance(signal_list[i], int):\n",
        "      X += signal_list[i]\n",
        "      sprite[1] = X\n",
        "      sprite[0] = X-1\n",
        "      sprite[2] = X+1\n",
        "  return image"
      ],
      "metadata": {
        "id": "yeCl8dInJRPs"
      },
      "execution_count": 6,
      "outputs": []
    },
    {
      "cell_type": "code",
      "source": [
        "cycle_list2 = [40, 80, 120, 160, 200, 240]\n",
        "image = draw_image(data_list, cycle_list2)\n",
        "print(image)"
      ],
      "metadata": {
        "colab": {
          "base_uri": "https://localhost:8080/"
        },
        "id": "jUlEZMpMP6pe",
        "outputId": "4b1013c9-bf0c-430f-e3c2-8dde69334cf2"
      },
      "execution_count": 7,
      "outputs": [
        {
          "output_type": "stream",
          "name": "stdout",
          "text": [
            "####.###....##.###..###..#..#..##..#..#.\n",
            "#....#..#....#.#..#.#..#.#.#..#..#.#..#.\n",
            "###..#..#....#.###..#..#.##...#..#.####.\n",
            "#....###.....#.#..#.###..#.#..####.#..#.\n",
            "#....#....#..#.#..#.#.#..#.#..#..#.#..#.\n",
            "####.#.....##..###..#..#.#..#.#..#.#..#.\n",
            "\n"
          ]
        }
      ]
    }
  ]
}